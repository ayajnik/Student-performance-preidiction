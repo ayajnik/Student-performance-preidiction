{
 "cells": [
  {
   "cell_type": "code",
   "execution_count": 1,
   "id": "f275a1cf",
   "metadata": {
    "_cell_guid": "b1076dfc-b9ad-4769-8c92-a6c4dae69d19",
    "_uuid": "8f2839f25d086af736a60e9eeb907d3b93b6e0e5",
    "execution": {
     "iopub.execute_input": "2023-06-06T18:49:48.053054Z",
     "iopub.status.busy": "2023-06-06T18:49:48.052305Z",
     "iopub.status.idle": "2023-06-06T18:49:48.075200Z",
     "shell.execute_reply": "2023-06-06T18:49:48.074271Z"
    },
    "papermill": {
     "duration": 0.05366,
     "end_time": "2023-06-06T18:49:48.078127",
     "exception": false,
     "start_time": "2023-06-06T18:49:48.024467",
     "status": "completed"
    },
    "tags": []
   },
   "outputs": [
    {
     "name": "stdout",
     "output_type": "stream",
     "text": [
      "/kaggle/input/predict-student-performance-from-game-play/sample_submission.csv\n",
      "/kaggle/input/predict-student-performance-from-game-play/train_labels.csv\n",
      "/kaggle/input/predict-student-performance-from-game-play/train.csv\n",
      "/kaggle/input/predict-student-performance-from-game-play/test.csv\n",
      "/kaggle/input/predict-student-performance-from-game-play/jo_wilder_310/competition.cpython-310-x86_64-linux-gnu.so\n",
      "/kaggle/input/predict-student-performance-from-game-play/jo_wilder_310/__init__.py\n",
      "/kaggle/input/predict-student-performance-from-game-play/jo_wilder/competition.cpython-37m-x86_64-linux-gnu.so\n",
      "/kaggle/input/predict-student-performance-from-game-play/jo_wilder/__init__.py\n"
     ]
    }
   ],
   "source": [
    "# This Python 3 environment comes with many helpful analytics libraries installed\n",
    "# It is defined by the kaggle/python Docker image: https://github.com/kaggle/docker-python\n",
    "# For example, here's several helpful packages to load\n",
    "\n",
    "import numpy as np # linear algebra\n",
    "import pandas as pd # data processing, CSV file I/O (e.g. pd.read_csv)\n",
    "\n",
    "# Input data files are available in the read-only \"../input/\" directory\n",
    "# For example, running this (by clicking run or pressing Shift+Enter) will list all files under the input directory\n",
    "\n",
    "import os\n",
    "for dirname, _, filenames in os.walk('/kaggle/input'):\n",
    "    for filename in filenames:\n",
    "        print(os.path.join(dirname, filename))\n",
    "\n",
    "# You can write up to 20GB to the current directory (/kaggle/working/) that gets preserved as output when you create a version using \"Save & Run All\" \n",
    "# You can also write temporary files to /kaggle/temp/, but they won't be saved outside of the current session"
   ]
  },
  {
   "cell_type": "markdown",
   "id": "a410139d",
   "metadata": {
    "papermill": {
     "duration": 0.026037,
     "end_time": "2023-06-06T18:49:48.129312",
     "exception": false,
     "start_time": "2023-06-06T18:49:48.103275",
     "status": "completed"
    },
    "tags": []
   },
   "source": [
    "# **Loading the dataset**\n",
    "\n",
    "Since the dataset is huge, some people may face memory errors while reading the dataset from the csv. To avoid this, we will try to optimize the memory used by Pandas to load and store the dataset.\n",
    "\n",
    "When Pandas loads a dataset, by default, it automatically detects the data types of the different columns. Irresepective of the maximum value that is stored in these columns, Pandas assigns int64 for numerical columns, float64 for float columns, object dtype for string columns etc.\n",
    "\n",
    "We may be able to reduce the size of these columns in memory by downcasting numerical columns to smaller types (like int8, int32, float32 etc.), if their maximum values don't need the larger types for storage, (like int64, float64 etc.).\n",
    "\n",
    "Similarly, Pandas automatically detects string columns as object datatype. To reduce memory usage of string columns which store categorical data, we specify their datatype as category.\n",
    "\n",
    "Many of the columns in this dataset can be downcast to smaller types.\n",
    "\n",
    "We will provide a dict of dtypes for columns to pandas while reading the dataset.\n",
    "\n",
    "Ref: https://www.kaggle.com/code/gusthema/student-performance-w-tensorflow-decision-forests"
   ]
  },
  {
   "cell_type": "code",
   "execution_count": 2,
   "id": "28e9ce99",
   "metadata": {
    "execution": {
     "iopub.execute_input": "2023-06-06T18:49:48.180937Z",
     "iopub.status.busy": "2023-06-06T18:49:48.180144Z",
     "iopub.status.idle": "2023-06-06T18:51:53.048996Z",
     "shell.execute_reply": "2023-06-06T18:51:53.047887Z"
    },
    "papermill": {
     "duration": 124.898128,
     "end_time": "2023-06-06T18:51:53.051963",
     "exception": false,
     "start_time": "2023-06-06T18:49:48.153835",
     "status": "completed"
    },
    "tags": []
   },
   "outputs": [],
   "source": [
    "dtypes={\n",
    "    'elapsed_time':np.int32,\n",
    "    'event_name':'category',\n",
    "    'name':'category',\n",
    "    'level':np.uint8,\n",
    "    'room_coor_x':np.float32,\n",
    "    'room_coor_y':np.float32,\n",
    "    'screen_coor_x':np.float32,\n",
    "    'screen_coor_y':np.float32,\n",
    "    'hover_duration':np.float32,\n",
    "    'text':'category',\n",
    "    'fqid':'category',\n",
    "    'room_fqid':'category',\n",
    "    'text_fqid':'category',\n",
    "    'fullscreen':'category',\n",
    "    'hq':'category',\n",
    "    'music':'category',\n",
    "    'level_group':'category'}\n",
    "\n",
    "df_train_text = pd.read_csv('/kaggle/input/predict-student-performance-from-game-play/train.csv', dtype=dtypes)\n",
    "df_test_text = pd.read_csv('/kaggle/input/predict-student-performance-from-game-play/test.csv', dtype=dtypes)"
   ]
  },
  {
   "cell_type": "markdown",
   "id": "f684790e",
   "metadata": {
    "papermill": {
     "duration": 0.024245,
     "end_time": "2023-06-06T18:51:53.101464",
     "exception": false,
     "start_time": "2023-06-06T18:51:53.077219",
     "status": "completed"
    },
    "tags": []
   },
   "source": [
    "# **Loading the labeled dataset**"
   ]
  },
  {
   "cell_type": "code",
   "execution_count": 3,
   "id": "9deea24a",
   "metadata": {
    "execution": {
     "iopub.execute_input": "2023-06-06T18:51:53.153132Z",
     "iopub.status.busy": "2023-06-06T18:51:53.152170Z",
     "iopub.status.idle": "2023-06-06T18:51:53.501700Z",
     "shell.execute_reply": "2023-06-06T18:51:53.500699Z"
    },
    "papermill": {
     "duration": 0.378629,
     "end_time": "2023-06-06T18:51:53.504640",
     "exception": false,
     "start_time": "2023-06-06T18:51:53.126011",
     "status": "completed"
    },
    "tags": []
   },
   "outputs": [],
   "source": [
    "df_train_labels = pd.read_csv('/kaggle/input/predict-student-performance-from-game-play/train_labels.csv')"
   ]
  },
  {
   "cell_type": "code",
   "execution_count": 4,
   "id": "3a933fbf",
   "metadata": {
    "execution": {
     "iopub.execute_input": "2023-06-06T18:51:53.556687Z",
     "iopub.status.busy": "2023-06-06T18:51:53.555925Z",
     "iopub.status.idle": "2023-06-06T18:51:55.101326Z",
     "shell.execute_reply": "2023-06-06T18:51:55.100326Z"
    },
    "papermill": {
     "duration": 1.574435,
     "end_time": "2023-06-06T18:51:55.104019",
     "exception": false,
     "start_time": "2023-06-06T18:51:53.529584",
     "status": "completed"
    },
    "tags": []
   },
   "outputs": [],
   "source": [
    "df_train_labels[['Session_ID_labels', 'question']] =  df_train_labels['session_id'].str.split('_',expand=True)\n"
   ]
  },
  {
   "cell_type": "markdown",
   "id": "9817a22c",
   "metadata": {
    "papermill": {
     "duration": 0.024156,
     "end_time": "2023-06-06T18:51:55.152745",
     "exception": false,
     "start_time": "2023-06-06T18:51:55.128589",
     "status": "completed"
    },
    "tags": []
   },
   "source": [
    "# Exploring the dataset, i.e., train and test"
   ]
  },
  {
   "cell_type": "code",
   "execution_count": 5,
   "id": "3d68c808",
   "metadata": {
    "execution": {
     "iopub.execute_input": "2023-06-06T18:51:55.204123Z",
     "iopub.status.busy": "2023-06-06T18:51:55.203254Z",
     "iopub.status.idle": "2023-06-06T18:51:55.212950Z",
     "shell.execute_reply": "2023-06-06T18:51:55.212007Z"
    },
    "papermill": {
     "duration": 0.038479,
     "end_time": "2023-06-06T18:51:55.215697",
     "exception": false,
     "start_time": "2023-06-06T18:51:55.177218",
     "status": "completed"
    },
    "tags": []
   },
   "outputs": [],
   "source": [
    "class exploreData():\n",
    "    \n",
    "    def __init__(self, train, test):\n",
    "        self.train = train\n",
    "        self.test = test\n",
    "       \n",
    "    def trainHead(self):\n",
    "        return self.train.head()\n",
    "    \n",
    "    def testHead(self):\n",
    "        return self.test.head()\n",
    "    \n",
    "    def trainDataset_description(self):\n",
    "        return self.train.describe()\n",
    "    \n",
    "    def testDataset_description(self):\n",
    "        return self.test.describe()\n",
    "    \n",
    "    def column_info(self):\n",
    "        \n",
    "        print('''We will be underdtading the basic structure of the dataset that we have. This includes general information like:\n",
    "        \n",
    "            * Column data types\n",
    "            \n",
    "            ''')\n",
    "        \n",
    "        print('Columns for the training dataset looks like:')\n",
    "        train_data = self.train.dtypes\n",
    "        \n",
    "        print('\\n')\n",
    "        \n",
    "        print('Columns for the training dataset looks like:')\n",
    "        test_data = self.test.dtypes\n",
    "        \n",
    "        return train_data, test_data\n",
    "    "
   ]
  },
  {
   "cell_type": "code",
   "execution_count": 6,
   "id": "ea53eb93",
   "metadata": {
    "execution": {
     "iopub.execute_input": "2023-06-06T18:51:55.267600Z",
     "iopub.status.busy": "2023-06-06T18:51:55.266791Z",
     "iopub.status.idle": "2023-06-06T18:52:05.652642Z",
     "shell.execute_reply": "2023-06-06T18:52:05.651620Z"
    },
    "papermill": {
     "duration": 10.416438,
     "end_time": "2023-06-06T18:52:05.656762",
     "exception": false,
     "start_time": "2023-06-06T18:51:55.240324",
     "status": "completed"
    },
    "tags": []
   },
   "outputs": [
    {
     "name": "stdout",
     "output_type": "stream",
     "text": [
      "Before going any further, I want to see how the training and testing data looks like:\n",
      "\n",
      "\n",
      "Let's see how the train data looks like:\n",
      "\n",
      "\n",
      "         session_id         index  elapsed_time         level           page  \\\n",
      "count  2.629695e+07  2.629695e+07  2.629695e+07  2.629695e+07  564544.000000   \n",
      "mean   2.113249e+16  6.445102e+02  4.016694e+06  1.219169e+01       3.166559   \n",
      "std    5.712953e+14  5.457880e+02  3.127032e+07  6.497789e+00       2.063291   \n",
      "min    2.009031e+16  0.000000e+00  0.000000e+00  0.000000e+00       0.000000   \n",
      "25%    2.101022e+16  2.880000e+02  4.397000e+05  6.000000e+00       1.000000   \n",
      "50%    2.104021e+16  5.950000e+02  1.014801e+06  1.300000e+01       3.000000   \n",
      "75%    2.110052e+16  8.960000e+02  1.747040e+06  1.800000e+01       5.000000   \n",
      "max    2.210022e+16  2.047300e+04  1.988607e+09  2.200000e+01       6.000000   \n",
      "\n",
      "        room_coor_x   room_coor_y  screen_coor_x  screen_coor_y  \\\n",
      "count  2.422367e+07  2.422367e+07   2.422367e+07   2.422367e+07   \n",
      "mean  -5.490582e+01 -1.162119e+02   4.584099e+02   3.855858e+02   \n",
      "std    5.202926e+02  2.184710e+02   2.479389e+02   1.298166e+02   \n",
      "min   -1.992355e+03 -9.181624e+02   0.000000e+00   0.000000e+00   \n",
      "25%   -3.528395e+02 -2.127183e+02   2.690000e+02   3.040000e+02   \n",
      "50%   -1.116280e+01 -9.760534e+01   4.470000e+02   3.970000e+02   \n",
      "75%    2.966515e+02  2.268786e+01   6.630000e+02   4.710000e+02   \n",
      "max    1.261774e+03  5.436164e+02   1.919000e+03   1.440000e+03   \n",
      "\n",
      "       hover_duration  \n",
      "count    2.002244e+06  \n",
      "mean     3.471006e+03  \n",
      "std      4.602024e+05  \n",
      "min      0.000000e+00  \n",
      "25%      9.900000e+01  \n",
      "50%      4.190000e+02  \n",
      "75%      1.266000e+03  \n",
      "max      2.451637e+08  \n",
      "\n",
      "\n",
      "Let's see how our test data looks like:\n",
      "<bound method exploreData.testDataset_description of <__main__.exploreData object at 0x7f96d2648750>>\n",
      "\n",
      "\n",
      "We will be underdtading the basic structure of the dataset that we have. This includes general information like:\n",
      "        \n",
      "            * Column data types\n",
      "            \n",
      "            \n",
      "Columns for the training dataset looks like:\n",
      "\n",
      "\n",
      "Columns for the training dataset looks like:\n",
      "(session_id           int64\n",
      "index                int64\n",
      "elapsed_time         int32\n",
      "event_name        category\n",
      "name              category\n",
      "level                uint8\n",
      "page               float64\n",
      "room_coor_x        float32\n",
      "room_coor_y        float32\n",
      "screen_coor_x      float32\n",
      "screen_coor_y      float32\n",
      "hover_duration     float32\n",
      "text              category\n",
      "fqid              category\n",
      "room_fqid         category\n",
      "text_fqid         category\n",
      "fullscreen        category\n",
      "hq                category\n",
      "music             category\n",
      "level_group       category\n",
      "dtype: object, session_id           int64\n",
      "index                int64\n",
      "elapsed_time         int32\n",
      "event_name        category\n",
      "name              category\n",
      "level                uint8\n",
      "page               float64\n",
      "room_coor_x        float32\n",
      "room_coor_y        float32\n",
      "screen_coor_x      float32\n",
      "screen_coor_y      float32\n",
      "hover_duration     float32\n",
      "text              category\n",
      "fqid              category\n",
      "room_fqid         category\n",
      "text_fqid         category\n",
      "fullscreen        category\n",
      "hq                category\n",
      "music             category\n",
      "level_group       category\n",
      "session_level        int64\n",
      "dtype: object)\n"
     ]
    }
   ],
   "source": [
    "if __name__ == \"__main__\":\n",
    "    print(\"Before going any further, I want to see how the training and testing data looks like:\")\n",
    "    print('\\n')\n",
    "    exploredata = exploreData(df_train_text,df_test_text)\n",
    "    print(\"Let's see how the train data looks like:\")\n",
    "    print('\\n')\n",
    "    exploredata.trainHead()\n",
    "    print(exploredata.trainDataset_description())\n",
    "    print('\\n')\n",
    "    print(\"Let's see how our test data looks like:\")\n",
    "    exploredata.testHead()\n",
    "    print(exploredata.testDataset_description)\n",
    "    print('\\n')\n",
    "    print(exploredata.column_info())\n",
    "    "
   ]
  },
  {
   "cell_type": "markdown",
   "id": "a5f7b898",
   "metadata": {
    "papermill": {
     "duration": 0.026983,
     "end_time": "2023-06-06T18:52:05.709303",
     "exception": false,
     "start_time": "2023-06-06T18:52:05.682320",
     "status": "completed"
    },
    "tags": []
   },
   "source": [
    "It looks like we have a lot of unstructured data in the form of \"category\" and \"object\" data types. Columns which are unstructured in nature are:\n",
    "\n",
    "1. text              category\n",
    "2. fqid              category\n",
    "3. room_fqid         category\n",
    "4. text_fqid         category\n",
    "5. fullscreen        category\n",
    "6. hq                category\n",
    "7. music             category\n",
    "8. level_group       category\n",
    "9. event_name        category\n",
    "10. name              category"
   ]
  },
  {
   "cell_type": "code",
   "execution_count": 7,
   "id": "37382dda",
   "metadata": {
    "execution": {
     "iopub.execute_input": "2023-06-06T18:52:05.761912Z",
     "iopub.status.busy": "2023-06-06T18:52:05.761035Z",
     "iopub.status.idle": "2023-06-06T18:52:05.768755Z",
     "shell.execute_reply": "2023-06-06T18:52:05.767875Z"
    },
    "papermill": {
     "duration": 0.036764,
     "end_time": "2023-06-06T18:52:05.771252",
     "exception": false,
     "start_time": "2023-06-06T18:52:05.734488",
     "status": "completed"
    },
    "tags": []
   },
   "outputs": [],
   "source": [
    "class trainDataPreparation:\n",
    "    \n",
    "    def __init__(self):\n",
    "        pass\n",
    "\n",
    "    def merge(self):\n",
    "\n",
    "        global df_train_final\n",
    "        df_train_final = pd.concat([df_train_text, df_train_labels], axis = 1, join = 'inner')\n",
    "        return df_train_final\n",
    "    \n",
    "    def checkNA(self):\n",
    "        \n",
    "        self.merge()\n",
    "        \n",
    "        return df_train_final.isna().sum()\n",
    "    \n",
    "    def numberOfRows(self):\n",
    "        \n",
    "        number_of_rows = df_train_final.shape[0]\n",
    "        print('Total number of rows in the dataset:',number_of_rows)\n",
    "        \n",
    "        \n",
    "        \n",
    "        "
   ]
  },
  {
   "cell_type": "code",
   "execution_count": 8,
   "id": "c389a46b",
   "metadata": {
    "execution": {
     "iopub.execute_input": "2023-06-06T18:52:05.824071Z",
     "iopub.status.busy": "2023-06-06T18:52:05.823241Z",
     "iopub.status.idle": "2023-06-06T18:52:06.114540Z",
     "shell.execute_reply": "2023-06-06T18:52:06.113376Z"
    },
    "papermill": {
     "duration": 0.322309,
     "end_time": "2023-06-06T18:52:06.118538",
     "exception": false,
     "start_time": "2023-06-06T18:52:05.796229",
     "status": "completed"
    },
    "tags": []
   },
   "outputs": [
    {
     "name": "stdout",
     "output_type": "stream",
     "text": [
      "Let's initiate the above module and the 'merge' method to get the dataset that we want for our exploratory data analysis:\n"
     ]
    },
    {
     "data": {
      "text/html": [
       "<div>\n",
       "<style scoped>\n",
       "    .dataframe tbody tr th:only-of-type {\n",
       "        vertical-align: middle;\n",
       "    }\n",
       "\n",
       "    .dataframe tbody tr th {\n",
       "        vertical-align: top;\n",
       "    }\n",
       "\n",
       "    .dataframe thead th {\n",
       "        text-align: right;\n",
       "    }\n",
       "</style>\n",
       "<table border=\"1\" class=\"dataframe\">\n",
       "  <thead>\n",
       "    <tr style=\"text-align: right;\">\n",
       "      <th></th>\n",
       "      <th>session_id</th>\n",
       "      <th>index</th>\n",
       "      <th>elapsed_time</th>\n",
       "      <th>event_name</th>\n",
       "      <th>name</th>\n",
       "      <th>level</th>\n",
       "      <th>page</th>\n",
       "      <th>room_coor_x</th>\n",
       "      <th>room_coor_y</th>\n",
       "      <th>screen_coor_x</th>\n",
       "      <th>...</th>\n",
       "      <th>room_fqid</th>\n",
       "      <th>text_fqid</th>\n",
       "      <th>fullscreen</th>\n",
       "      <th>hq</th>\n",
       "      <th>music</th>\n",
       "      <th>level_group</th>\n",
       "      <th>session_id</th>\n",
       "      <th>correct</th>\n",
       "      <th>Session_ID_labels</th>\n",
       "      <th>question</th>\n",
       "    </tr>\n",
       "  </thead>\n",
       "  <tbody>\n",
       "    <tr>\n",
       "      <th>0</th>\n",
       "      <td>20090312431273200</td>\n",
       "      <td>0</td>\n",
       "      <td>0</td>\n",
       "      <td>cutscene_click</td>\n",
       "      <td>basic</td>\n",
       "      <td>0</td>\n",
       "      <td>NaN</td>\n",
       "      <td>-413.991394</td>\n",
       "      <td>-159.314682</td>\n",
       "      <td>380.0</td>\n",
       "      <td>...</td>\n",
       "      <td>tunic.historicalsociety.closet</td>\n",
       "      <td>tunic.historicalsociety.closet.intro</td>\n",
       "      <td>0</td>\n",
       "      <td>0</td>\n",
       "      <td>1</td>\n",
       "      <td>0-4</td>\n",
       "      <td>20090312431273200_q1</td>\n",
       "      <td>1</td>\n",
       "      <td>20090312431273200</td>\n",
       "      <td>q1</td>\n",
       "    </tr>\n",
       "    <tr>\n",
       "      <th>1</th>\n",
       "      <td>20090312431273200</td>\n",
       "      <td>1</td>\n",
       "      <td>1323</td>\n",
       "      <td>person_click</td>\n",
       "      <td>basic</td>\n",
       "      <td>0</td>\n",
       "      <td>NaN</td>\n",
       "      <td>-413.991394</td>\n",
       "      <td>-159.314682</td>\n",
       "      <td>380.0</td>\n",
       "      <td>...</td>\n",
       "      <td>tunic.historicalsociety.closet</td>\n",
       "      <td>tunic.historicalsociety.closet.gramps.intro_0_...</td>\n",
       "      <td>0</td>\n",
       "      <td>0</td>\n",
       "      <td>1</td>\n",
       "      <td>0-4</td>\n",
       "      <td>20090312433251036_q1</td>\n",
       "      <td>0</td>\n",
       "      <td>20090312433251036</td>\n",
       "      <td>q1</td>\n",
       "    </tr>\n",
       "    <tr>\n",
       "      <th>2</th>\n",
       "      <td>20090312431273200</td>\n",
       "      <td>2</td>\n",
       "      <td>831</td>\n",
       "      <td>person_click</td>\n",
       "      <td>basic</td>\n",
       "      <td>0</td>\n",
       "      <td>NaN</td>\n",
       "      <td>-413.991394</td>\n",
       "      <td>-159.314682</td>\n",
       "      <td>380.0</td>\n",
       "      <td>...</td>\n",
       "      <td>tunic.historicalsociety.closet</td>\n",
       "      <td>tunic.historicalsociety.closet.gramps.intro_0_...</td>\n",
       "      <td>0</td>\n",
       "      <td>0</td>\n",
       "      <td>1</td>\n",
       "      <td>0-4</td>\n",
       "      <td>20090312455206810_q1</td>\n",
       "      <td>1</td>\n",
       "      <td>20090312455206810</td>\n",
       "      <td>q1</td>\n",
       "    </tr>\n",
       "    <tr>\n",
       "      <th>3</th>\n",
       "      <td>20090312431273200</td>\n",
       "      <td>3</td>\n",
       "      <td>1147</td>\n",
       "      <td>person_click</td>\n",
       "      <td>basic</td>\n",
       "      <td>0</td>\n",
       "      <td>NaN</td>\n",
       "      <td>-413.991394</td>\n",
       "      <td>-159.314682</td>\n",
       "      <td>380.0</td>\n",
       "      <td>...</td>\n",
       "      <td>tunic.historicalsociety.closet</td>\n",
       "      <td>tunic.historicalsociety.closet.gramps.intro_0_...</td>\n",
       "      <td>0</td>\n",
       "      <td>0</td>\n",
       "      <td>1</td>\n",
       "      <td>0-4</td>\n",
       "      <td>20090313091715820_q1</td>\n",
       "      <td>0</td>\n",
       "      <td>20090313091715820</td>\n",
       "      <td>q1</td>\n",
       "    </tr>\n",
       "    <tr>\n",
       "      <th>4</th>\n",
       "      <td>20090312431273200</td>\n",
       "      <td>4</td>\n",
       "      <td>1863</td>\n",
       "      <td>person_click</td>\n",
       "      <td>basic</td>\n",
       "      <td>0</td>\n",
       "      <td>NaN</td>\n",
       "      <td>-412.991394</td>\n",
       "      <td>-159.314682</td>\n",
       "      <td>381.0</td>\n",
       "      <td>...</td>\n",
       "      <td>tunic.historicalsociety.closet</td>\n",
       "      <td>tunic.historicalsociety.closet.gramps.intro_0_...</td>\n",
       "      <td>0</td>\n",
       "      <td>0</td>\n",
       "      <td>1</td>\n",
       "      <td>0-4</td>\n",
       "      <td>20090313571836404_q1</td>\n",
       "      <td>1</td>\n",
       "      <td>20090313571836404</td>\n",
       "      <td>q1</td>\n",
       "    </tr>\n",
       "    <tr>\n",
       "      <th>...</th>\n",
       "      <td>...</td>\n",
       "      <td>...</td>\n",
       "      <td>...</td>\n",
       "      <td>...</td>\n",
       "      <td>...</td>\n",
       "      <td>...</td>\n",
       "      <td>...</td>\n",
       "      <td>...</td>\n",
       "      <td>...</td>\n",
       "      <td>...</td>\n",
       "      <td>...</td>\n",
       "      <td>...</td>\n",
       "      <td>...</td>\n",
       "      <td>...</td>\n",
       "      <td>...</td>\n",
       "      <td>...</td>\n",
       "      <td>...</td>\n",
       "      <td>...</td>\n",
       "      <td>...</td>\n",
       "      <td>...</td>\n",
       "      <td>...</td>\n",
       "    </tr>\n",
       "    <tr>\n",
       "      <th>424111</th>\n",
       "      <td>20100209055089116</td>\n",
       "      <td>749</td>\n",
       "      <td>1783642</td>\n",
       "      <td>navigate_click</td>\n",
       "      <td>undefined</td>\n",
       "      <td>14</td>\n",
       "      <td>NaN</td>\n",
       "      <td>-818.776672</td>\n",
       "      <td>-205.816818</td>\n",
       "      <td>645.0</td>\n",
       "      <td>...</td>\n",
       "      <td>tunic.historicalsociety.cage</td>\n",
       "      <td>NaN</td>\n",
       "      <td>0</td>\n",
       "      <td>0</td>\n",
       "      <td>1</td>\n",
       "      <td>13-22</td>\n",
       "      <td>22100215342220508_q18</td>\n",
       "      <td>1</td>\n",
       "      <td>22100215342220508</td>\n",
       "      <td>q18</td>\n",
       "    </tr>\n",
       "    <tr>\n",
       "      <th>424112</th>\n",
       "      <td>20100209055089116</td>\n",
       "      <td>750</td>\n",
       "      <td>1784840</td>\n",
       "      <td>navigate_click</td>\n",
       "      <td>undefined</td>\n",
       "      <td>14</td>\n",
       "      <td>NaN</td>\n",
       "      <td>-583.063293</td>\n",
       "      <td>-104.244759</td>\n",
       "      <td>725.0</td>\n",
       "      <td>...</td>\n",
       "      <td>tunic.historicalsociety.cage</td>\n",
       "      <td>NaN</td>\n",
       "      <td>0</td>\n",
       "      <td>0</td>\n",
       "      <td>1</td>\n",
       "      <td>13-22</td>\n",
       "      <td>22100215460321130_q18</td>\n",
       "      <td>1</td>\n",
       "      <td>22100215460321130</td>\n",
       "      <td>q18</td>\n",
       "    </tr>\n",
       "    <tr>\n",
       "      <th>424113</th>\n",
       "      <td>20100209055089116</td>\n",
       "      <td>751</td>\n",
       "      <td>1785573</td>\n",
       "      <td>navigate_click</td>\n",
       "      <td>undefined</td>\n",
       "      <td>14</td>\n",
       "      <td>NaN</td>\n",
       "      <td>-367.956482</td>\n",
       "      <td>-184.003281</td>\n",
       "      <td>792.0</td>\n",
       "      <td>...</td>\n",
       "      <td>tunic.historicalsociety.cage</td>\n",
       "      <td>NaN</td>\n",
       "      <td>0</td>\n",
       "      <td>0</td>\n",
       "      <td>1</td>\n",
       "      <td>13-22</td>\n",
       "      <td>22100217104993650_q18</td>\n",
       "      <td>1</td>\n",
       "      <td>22100217104993650</td>\n",
       "      <td>q18</td>\n",
       "    </tr>\n",
       "    <tr>\n",
       "      <th>424114</th>\n",
       "      <td>20100209055089116</td>\n",
       "      <td>752</td>\n",
       "      <td>1786655</td>\n",
       "      <td>navigate_click</td>\n",
       "      <td>undefined</td>\n",
       "      <td>14</td>\n",
       "      <td>NaN</td>\n",
       "      <td>-74.807930</td>\n",
       "      <td>-188.108093</td>\n",
       "      <td>802.0</td>\n",
       "      <td>...</td>\n",
       "      <td>tunic.historicalsociety.cage</td>\n",
       "      <td>NaN</td>\n",
       "      <td>0</td>\n",
       "      <td>0</td>\n",
       "      <td>1</td>\n",
       "      <td>13-22</td>\n",
       "      <td>22100219442786200_q18</td>\n",
       "      <td>1</td>\n",
       "      <td>22100219442786200</td>\n",
       "      <td>q18</td>\n",
       "    </tr>\n",
       "    <tr>\n",
       "      <th>424115</th>\n",
       "      <td>20100209055089116</td>\n",
       "      <td>753</td>\n",
       "      <td>1789120</td>\n",
       "      <td>observation_click</td>\n",
       "      <td>basic</td>\n",
       "      <td>14</td>\n",
       "      <td>NaN</td>\n",
       "      <td>50.583469</td>\n",
       "      <td>-59.487724</td>\n",
       "      <td>669.0</td>\n",
       "      <td>...</td>\n",
       "      <td>tunic.historicalsociety.cage</td>\n",
       "      <td>tunic.historicalsociety.cage.lockeddoor</td>\n",
       "      <td>0</td>\n",
       "      <td>0</td>\n",
       "      <td>1</td>\n",
       "      <td>13-22</td>\n",
       "      <td>22100221145014656_q18</td>\n",
       "      <td>1</td>\n",
       "      <td>22100221145014656</td>\n",
       "      <td>q18</td>\n",
       "    </tr>\n",
       "  </tbody>\n",
       "</table>\n",
       "<p>424116 rows × 24 columns</p>\n",
       "</div>"
      ],
      "text/plain": [
       "               session_id  index  elapsed_time         event_name       name  \\\n",
       "0       20090312431273200      0             0     cutscene_click      basic   \n",
       "1       20090312431273200      1          1323       person_click      basic   \n",
       "2       20090312431273200      2           831       person_click      basic   \n",
       "3       20090312431273200      3          1147       person_click      basic   \n",
       "4       20090312431273200      4          1863       person_click      basic   \n",
       "...                   ...    ...           ...                ...        ...   \n",
       "424111  20100209055089116    749       1783642     navigate_click  undefined   \n",
       "424112  20100209055089116    750       1784840     navigate_click  undefined   \n",
       "424113  20100209055089116    751       1785573     navigate_click  undefined   \n",
       "424114  20100209055089116    752       1786655     navigate_click  undefined   \n",
       "424115  20100209055089116    753       1789120  observation_click      basic   \n",
       "\n",
       "        level  page  room_coor_x  room_coor_y  screen_coor_x  ...  \\\n",
       "0           0   NaN  -413.991394  -159.314682          380.0  ...   \n",
       "1           0   NaN  -413.991394  -159.314682          380.0  ...   \n",
       "2           0   NaN  -413.991394  -159.314682          380.0  ...   \n",
       "3           0   NaN  -413.991394  -159.314682          380.0  ...   \n",
       "4           0   NaN  -412.991394  -159.314682          381.0  ...   \n",
       "...       ...   ...          ...          ...            ...  ...   \n",
       "424111     14   NaN  -818.776672  -205.816818          645.0  ...   \n",
       "424112     14   NaN  -583.063293  -104.244759          725.0  ...   \n",
       "424113     14   NaN  -367.956482  -184.003281          792.0  ...   \n",
       "424114     14   NaN   -74.807930  -188.108093          802.0  ...   \n",
       "424115     14   NaN    50.583469   -59.487724          669.0  ...   \n",
       "\n",
       "                             room_fqid  \\\n",
       "0       tunic.historicalsociety.closet   \n",
       "1       tunic.historicalsociety.closet   \n",
       "2       tunic.historicalsociety.closet   \n",
       "3       tunic.historicalsociety.closet   \n",
       "4       tunic.historicalsociety.closet   \n",
       "...                                ...   \n",
       "424111    tunic.historicalsociety.cage   \n",
       "424112    tunic.historicalsociety.cage   \n",
       "424113    tunic.historicalsociety.cage   \n",
       "424114    tunic.historicalsociety.cage   \n",
       "424115    tunic.historicalsociety.cage   \n",
       "\n",
       "                                                text_fqid fullscreen hq music  \\\n",
       "0                    tunic.historicalsociety.closet.intro          0  0     1   \n",
       "1       tunic.historicalsociety.closet.gramps.intro_0_...          0  0     1   \n",
       "2       tunic.historicalsociety.closet.gramps.intro_0_...          0  0     1   \n",
       "3       tunic.historicalsociety.closet.gramps.intro_0_...          0  0     1   \n",
       "4       tunic.historicalsociety.closet.gramps.intro_0_...          0  0     1   \n",
       "...                                                   ...        ... ..   ...   \n",
       "424111                                                NaN          0  0     1   \n",
       "424112                                                NaN          0  0     1   \n",
       "424113                                                NaN          0  0     1   \n",
       "424114                                                NaN          0  0     1   \n",
       "424115            tunic.historicalsociety.cage.lockeddoor          0  0     1   \n",
       "\n",
       "       level_group             session_id correct  Session_ID_labels question  \n",
       "0              0-4   20090312431273200_q1       1  20090312431273200       q1  \n",
       "1              0-4   20090312433251036_q1       0  20090312433251036       q1  \n",
       "2              0-4   20090312455206810_q1       1  20090312455206810       q1  \n",
       "3              0-4   20090313091715820_q1       0  20090313091715820       q1  \n",
       "4              0-4   20090313571836404_q1       1  20090313571836404       q1  \n",
       "...            ...                    ...     ...                ...      ...  \n",
       "424111       13-22  22100215342220508_q18       1  22100215342220508      q18  \n",
       "424112       13-22  22100215460321130_q18       1  22100215460321130      q18  \n",
       "424113       13-22  22100217104993650_q18       1  22100217104993650      q18  \n",
       "424114       13-22  22100219442786200_q18       1  22100219442786200      q18  \n",
       "424115       13-22  22100221145014656_q18       1  22100221145014656      q18  \n",
       "\n",
       "[424116 rows x 24 columns]"
      ]
     },
     "execution_count": 8,
     "metadata": {},
     "output_type": "execute_result"
    }
   ],
   "source": [
    "print(\"Let's initiate the above module and the 'merge' method to get the dataset that we want for our exploratory data analysis:\")\n",
    "trainData = trainDataPreparation()\n",
    "trainData.merge()"
   ]
  },
  {
   "cell_type": "markdown",
   "id": "22dc869a",
   "metadata": {
    "papermill": {
     "duration": 0.025298,
     "end_time": "2023-06-06T18:52:06.170022",
     "exception": false,
     "start_time": "2023-06-06T18:52:06.144724",
     "status": "completed"
    },
    "tags": []
   },
   "source": [
    "The above class is a helper module which will be helpful for us in future to merge the text and their corresponding labels. It will also help us in letting us know the following details:\n",
    "\n",
    "1. NA values in the dataset\n",
    "2. number of rows in the dataset"
   ]
  },
  {
   "cell_type": "markdown",
   "id": "b293d98a",
   "metadata": {
    "papermill": {
     "duration": 0.025507,
     "end_time": "2023-06-06T18:52:06.221149",
     "exception": false,
     "start_time": "2023-06-06T18:52:06.195642",
     "status": "completed"
    },
    "tags": []
   },
   "source": [
    "**According to the data, not all of the events have fully qualified ID. \n",
    "But since this project is about the events the children are enrolled in, I first need to see how many events are there.**\n",
    "\n",
    "To explore the data regarding events, we need to consider the following features:\n",
    "\n",
    "1. event_name\n",
    "2. fqid\n",
    "3. room_fqid\n",
    "4. session_id\n",
    "5. question\n",
    "\n",
    "Also we will be assessing various factors as to what happens if the moderator is asking a question to the player. We will try to understand the mentality of the student. Is he/she on later stages of the questions, on what level i=does the moderator needs to intervene and is the player hovering or clicking\n",
    "\n",
    "Then finally, after understanding the player mentality, now we will understand a couple of basic things:\n",
    "\n",
    "Monitor the student performance based on the number of pages in the games?\n",
    "\n",
    "1. Level group/ # of pages\n",
    "2. If hover time is less, then number of pages is less?"
   ]
  },
  {
   "cell_type": "code",
   "execution_count": 9,
   "id": "96872bf0",
   "metadata": {
    "execution": {
     "iopub.execute_input": "2023-06-06T18:52:06.275881Z",
     "iopub.status.busy": "2023-06-06T18:52:06.275047Z",
     "iopub.status.idle": "2023-06-06T18:52:07.454871Z",
     "shell.execute_reply": "2023-06-06T18:52:07.453863Z"
    },
    "papermill": {
     "duration": 1.210891,
     "end_time": "2023-06-06T18:52:07.457881",
     "exception": false,
     "start_time": "2023-06-06T18:52:06.246990",
     "status": "completed"
    },
    "tags": []
   },
   "outputs": [],
   "source": [
    "import seaborn as sns\n",
    "import matplotlib.pyplot as plt\n",
    "\n",
    "class level_group_studentActivity:\n",
    "    \n",
    "    def __init__(self):\n",
    "        self.df_train = df_train_text\n",
    "        \n",
    "    def levelForAges(self):\n",
    "        level_and_ages = pd.DataFrame({\n",
    "                \"level\": self.df_train['level'],\n",
    "                \"page\": self.df_train['page']\n",
    "            })\n",
    "        \n",
    "        level_and_ages_final  = level_and_ages.dropna()\n",
    "        print(level_and_ages_final.groupby('level').first())\n",
    "        print('\\n')\n",
    "        return level_and_ages_final.groupby('level').first().plot()\n",
    "\n",
    "class event(level_group_studentActivity):\n",
    "    \n",
    "    def __init__(self):\n",
    "        self.df_train = df_train_final\n",
    "        \n",
    "    def eventName(self):\n",
    "        return self.df_train['event_name'].value_counts()\n",
    "    \n",
    "    def eventName_ID(self):\n",
    "        return pd.pivot_table(data=self.df_train,index=['event_name'])\n",
    "    \n",
    "    def event_activity_fqid(self):\n",
    "        \n",
    "        global df_hovering\n",
    "        \n",
    "        df_activity_info = self.df_train[['event_name', 'fqid', 'room_fqid', 'correct', 'question','fullscreen']]\n",
    "        max_correct = max(df_activity_info['correct'])\n",
    "        ## total number of questions\n",
    "        print('\\n')\n",
    "        print('Total number of questions per event:')\n",
    "        print(df_activity_info['question'].value_counts())\n",
    "        print(\"\\n\")\n",
    "        #df_activity_info.groupby('question').size().plot(kind='pie', autopct='%.2f')\n",
    "        print(pd.pivot_table(data = df_activity_info,index = 'event_name'))\n",
    "        print('\\n')\n",
    "        print(\"Activity based on hovering of mouse:\")\n",
    "        print('\\n')\n",
    "        df_hovering = df_activity_info.loc[df_activity_info['correct'] == max_correct]\n",
    "        df_hovering[['event_in_the_game','event_name_click']] = df_hovering['event_name'].str.split('_',expand=True)\n",
    "        print(df_hovering['event_name_click'].value_counts())\n",
    "        df_hovering[['room_fquid_0','room_fquid_1','room_fquid_2']] = df_hovering['room_fqid'].str.split('.',expand=True)\n",
    "        \n",
    "    def event_activity_room_fqid(self):\n",
    "        print(df_hovering['room_fquid_2'].value_counts())    \n",
    "        return df_hovering.groupby('room_fquid_2').size().plot(kind='bar')\n",
    "        \n",
    "    def event_inTheGame_max(self):\n",
    "        print(df_hovering['event_in_the_game'].value_counts())\n",
    "        return df_hovering.groupby('event_in_the_game').size().plot(kind='bar')\n",
    "    \n",
    "    def navigateRoomfqid(self):\n",
    "        return df_hovering.groupby('question').size().plot(kind='bar')\n",
    "    \n",
    "    def fullscreen_mode(self):\n",
    "        \n",
    "        return df_hovering['fullscreen'].value_counts().plot()\n",
    "    \n",
    "class textEDA:\n",
    "    \n",
    "    def __init__(self):\n",
    "        self.df_train = df_train_final\n",
    "        \n",
    "    def prepareQuestionMarkdata(self):\n",
    "        global df_questionMark\n",
    "        self.df_train['QuestionMark_present'] = self.df_train['text'].str.endswith('?')\n",
    "        df_questionMark=self.df_train.loc[self.df_train['QuestionMark_present'] == True]\n",
    "        df_questionMark[['event_in_the_game','edf_questionMark']] = df_questionMark['event_name'].str.split('_',expand=True)\n",
    "        df_questionMark[['room_fquid_0','room_fquid_1','room_fquid_2']] = df_questionMark['room_fqid'].str.split('.',expand=True)\n",
    "        return df_questionMark\n",
    "    \n",
    "    def timeSpentinRoom(self):\n",
    "        plt.figure(figsize=(12,5))\n",
    "        print('\\n')\n",
    "        print(df_questionMark['room_fquid_2'].value_counts())\n",
    "        print('\\n')\n",
    "        index = list(df_questionMark['room_fquid_2'].value_counts().index)\n",
    "        values = list(df_questionMark['room_fquid_2'].value_counts().values)\n",
    "        plt.title(\"Player spent most time when a promt was given to them as a question\")\n",
    "        \n",
    "        return plt.plot(index,values)\n",
    "    \n",
    "    def whichLevel(self):\n",
    "        plt.figure(figsize=(12,5))\n",
    "        print('\\n')\n",
    "        print(df_questionMark['level'].value_counts())\n",
    "        print('\\n')\n",
    "        index = list(df_questionMark['level'].value_counts().index)\n",
    "        values = list(df_questionMark['level'].value_counts().values)\n",
    "        plt.title(\"On what level was the player in when the moderator asked them a question\")\n",
    "        \n",
    "        return plt.plot(index,values)\n",
    "     \n",
    "    def difficultQuestion(self):\n",
    "     \n",
    "        plt.figure(figsize=(12,5))\n",
    "        print('\\n')\n",
    "        print(df_questionMark['question'].value_counts())\n",
    "        print('\\n')\n",
    "        index = list(df_questionMark['question'].value_counts().index)\n",
    "        values = list(df_questionMark['question'].value_counts().values)\n",
    "        plt.title(\"On what level was the player in when the moderator asked them a question\")\n",
    "        \n",
    "        return plt.plot(index,values)\n",
    "    \n",
    "    def what_eventIntheGame(self):\n",
    "     \n",
    "        plt.figure(figsize=(12,5))\n",
    "        print('\\n')\n",
    "        print(df_questionMark['event_in_the_game'].value_counts())\n",
    "        print('\\n')\n",
    "        index = list(df_questionMark['event_in_the_game'].value_counts().index)\n",
    "        values = list(df_questionMark['event_in_the_game'].value_counts().values)\n",
    "        plt.title(\"What is the event in the Game\")\n",
    "        \n",
    "        return plt.plot(index,values)\n",
    "    \n",
    "    def what_playerIsDoing(self):\n",
    "        plt.figure(figsize=(12,5))\n",
    "        print('\\n')\n",
    "        print(df_questionMark['edf_questionMark'].value_counts())\n",
    "        print('\\n')\n",
    "        index = list(df_questionMark['edf_questionMark'].value_counts().index)\n",
    "        values = list(df_questionMark['edf_questionMark'].value_counts().values)\n",
    "        plt.title(\"Is the person clicking or doing something else when question is being asked?\")\n",
    "        \n",
    "        return plt.plot(index,values)\n",
    "    \n",
    "    \n",
    "    def howMuchTimeelapsed(self):\n",
    "        df_questionMark['elapsed_time'] = (df_questionMark['elapsed_time']/(1000*60))%60\n",
    "        print('Elapsed time column converted into minutes')\n",
    "        print('\\n')\n",
    "        max_timeelapsed = max(df_questionMark['elapsed_time'])\n",
    "        print('\\n')\n",
    "        df_questionMark_maxTime = df_questionMark.loc[df_questionMark['elapsed_time'] == max_timeelapsed]\n",
    "        \n",
    "        print(\"Details about the situation where maximum time elapsed:\")\n",
    "        print('\\n')\n",
    "        print(\"Question where maximum time was spent:\",df_questionMark_maxTime['question'].item())\n",
    "        print(\"What was the event in the game:\",df_questionMark_maxTime['event_in_the_game'].item())\n",
    "        print(\"Time spent (in minutes):\", df_questionMark_maxTime['elapsed_time'].item(),\"minutes\")\n",
    "        #print(\"Session ID where student spent time and the moderator had to ask a question:\",df_questionMark_maxTime['session_id'].item())\n",
    "        print(\"In what location the player was in the game:\", df_questionMark_maxTime['room_fquid_2'].item())\n",
    "        print(\"In what level player was in:\",df_questionMark_maxTime['level'].item())\n",
    "        print('\\n')\n",
    "        \n",
    "        return df_questionMark_maxTime\n"
   ]
  },
  {
   "cell_type": "code",
   "execution_count": 10,
   "id": "531db94f",
   "metadata": {
    "execution": {
     "iopub.execute_input": "2023-06-06T18:52:07.512960Z",
     "iopub.status.busy": "2023-06-06T18:52:07.511613Z",
     "iopub.status.idle": "2023-06-06T18:52:08.130423Z",
     "shell.execute_reply": "2023-06-06T18:52:08.129268Z"
    },
    "papermill": {
     "duration": 0.648743,
     "end_time": "2023-06-06T18:52:08.133057",
     "exception": false,
     "start_time": "2023-06-06T18:52:07.484314",
     "status": "completed"
    },
    "tags": []
   },
   "outputs": [
    {
     "data": {
      "text/plain": [
       "Index(['session_id', 'index', 'elapsed_time', 'event_name', 'name', 'level',\n",
       "       'page', 'room_coor_x', 'room_coor_y', 'screen_coor_x', 'screen_coor_y',\n",
       "       'hover_duration', 'text', 'fqid', 'room_fqid', 'text_fqid',\n",
       "       'fullscreen', 'hq', 'music', 'level_group'],\n",
       "      dtype='object')"
      ]
     },
     "execution_count": 10,
     "metadata": {},
     "output_type": "execute_result"
    }
   ],
   "source": [
    "df_train_text['hover_duration'] = df_train_text['hover_duration']/(1000*60)%60\n",
    "df_train_text.columns"
   ]
  },
  {
   "cell_type": "code",
   "execution_count": 11,
   "id": "b9508fc2",
   "metadata": {
    "execution": {
     "iopub.execute_input": "2023-06-06T18:52:08.187688Z",
     "iopub.status.busy": "2023-06-06T18:52:08.186889Z",
     "iopub.status.idle": "2023-06-06T18:52:09.010859Z",
     "shell.execute_reply": "2023-06-06T18:52:09.009889Z"
    },
    "papermill": {
     "duration": 0.854411,
     "end_time": "2023-06-06T18:52:09.013675",
     "exception": false,
     "start_time": "2023-06-06T18:52:08.159264",
     "status": "completed"
    },
    "tags": []
   },
   "outputs": [
    {
     "name": "stdout",
     "output_type": "stream",
     "text": [
      "We will now explore the data:\n",
      "\n",
      "\n",
      "       page\n",
      "level      \n",
      "1       0.0\n",
      "2       0.0\n",
      "3       0.0\n",
      "4       1.0\n",
      "5       1.0\n",
      "6       1.0\n",
      "7       1.0\n",
      "8       2.0\n",
      "9       2.0\n",
      "10      3.0\n",
      "11      3.0\n",
      "12      3.0\n",
      "13      3.0\n",
      "14      4.0\n",
      "15      4.0\n",
      "16      4.0\n",
      "17      4.0\n",
      "18      5.0\n",
      "19      5.0\n",
      "20      6.0\n",
      "21      6.0\n",
      "22      6.0\n",
      "\n",
      "\n"
     ]
    },
    {
     "data": {
      "text/plain": [
       "<AxesSubplot:xlabel='level'>"
      ]
     },
     "execution_count": 11,
     "metadata": {},
     "output_type": "execute_result"
    },
    {
     "data": {
      "image/png": "[encoded data removed]",
      "text/plain": [
       "<Figure size 640x480 with 1 Axes>"
      ]
     },
     "metadata": {},
     "output_type": "display_data"
    }
   ],
   "source": [
    "print(\"We will now explore the data:\")\n",
    "print('\\n')\n",
    "levelsofGame = level_group_studentActivity()\n",
    "levelsofGame.levelForAges()"
   ]
  },
  {
   "cell_type": "markdown",
   "id": "da3ddf7e",
   "metadata": {
    "papermill": {
     "duration": 0.03918,
     "end_time": "2023-06-06T18:52:09.086739",
     "exception": false,
     "start_time": "2023-06-06T18:52:09.047559",
     "status": "completed"
    },
    "tags": []
   },
   "source": [
    "from the above information and graph we can see that the number of pages in educational games and learning is increasing linearly in a positive trend. This means that as the level increases, the number of pages that the student needs to encounter are also increasing.\n",
    "\n",
    "we can assume from the above information that the learning curve increases steeply as the level increases"
   ]
  },
  {
   "cell_type": "code",
   "execution_count": 12,
   "id": "27c9ab6b",
   "metadata": {
    "execution": {
     "iopub.execute_input": "2023-06-06T18:52:09.156289Z",
     "iopub.status.busy": "2023-06-06T18:52:09.153951Z",
     "iopub.status.idle": "2023-06-06T18:52:09.498341Z",
     "shell.execute_reply": "2023-06-06T18:52:09.496867Z"
    },
    "papermill": {
     "duration": 0.386781,
     "end_time": "2023-06-06T18:52:09.503515",
     "exception": false,
     "start_time": "2023-06-06T18:52:09.116734",
     "status": "completed"
    },
    "tags": []
   },
   "outputs": [
    {
     "name": "stdout",
     "output_type": "stream",
     "text": [
      "Let's explore all the events present in the data:\n",
      "\n",
      "\n",
      "Events present in the game are:\n",
      "\n",
      "\n",
      "navigate_click        179177\n",
      "person_click           97449\n",
      "cutscene_click         42884\n",
      "object_click           35890\n",
      "object_hover           19099\n",
      "map_hover              17316\n",
      "notification_click     10328\n",
      "notebook_click          8712\n",
      "map_click               8555\n",
      "observation_click       3557\n",
      "checkpoint              1149\n",
      "Name: event_name, dtype: int64\n"
     ]
    }
   ],
   "source": [
    "print(\"Let's explore all the events present in the data:\")\n",
    "print(\"\\n\")\n",
    "Events = event()\n",
    "print(\"Events present in the game are:\")\n",
    "print(\"\\n\")\n",
    "print(Events.eventName())\n"
   ]
  },
  {
   "cell_type": "markdown",
   "id": "67e99ac0",
   "metadata": {
    "papermill": {
     "duration": 0.027182,
     "end_time": "2023-06-06T18:52:09.560663",
     "exception": false,
     "start_time": "2023-06-06T18:52:09.533481",
     "status": "completed"
    },
    "tags": []
   },
   "source": [
    "So the maximum number of events in the game are coming from the clicking of buttons/toggle bar while navigating while the student is saving his work through checkpoint very less. this could either mean that the student is able to finish a lot learning/exercise in a single sitting or he is loosing his/her concentration quickly and exiting the game"
   ]
  },
  {
   "cell_type": "code",
   "execution_count": 13,
   "id": "04164e72",
   "metadata": {
    "execution": {
     "iopub.execute_input": "2023-06-06T18:52:09.616377Z",
     "iopub.status.busy": "2023-06-06T18:52:09.615972Z",
     "iopub.status.idle": "2023-06-06T18:52:09.856995Z",
     "shell.execute_reply": "2023-06-06T18:52:09.855898Z"
    },
    "papermill": {
     "duration": 0.272267,
     "end_time": "2023-06-06T18:52:09.859894",
     "exception": false,
     "start_time": "2023-06-06T18:52:09.587627",
     "status": "completed"
    },
    "tags": []
   },
   "outputs": [
    {
     "data": {
      "text/html": [
       "<div>\n",
       "<style scoped>\n",
       "    .dataframe tbody tr th:only-of-type {\n",
       "        vertical-align: middle;\n",
       "    }\n",
       "\n",
       "    .dataframe tbody tr th {\n",
       "        vertical-align: top;\n",
       "    }\n",
       "\n",
       "    .dataframe thead th {\n",
       "        text-align: right;\n",
       "    }\n",
       "</style>\n",
       "<table border=\"1\" class=\"dataframe\">\n",
       "  <thead>\n",
       "    <tr style=\"text-align: right;\">\n",
       "      <th></th>\n",
       "      <th>correct</th>\n",
       "      <th>elapsed_time</th>\n",
       "      <th>hover_duration</th>\n",
       "      <th>index</th>\n",
       "      <th>level</th>\n",
       "      <th>page</th>\n",
       "      <th>room_coor_x</th>\n",
       "      <th>room_coor_y</th>\n",
       "      <th>screen_coor_x</th>\n",
       "      <th>screen_coor_y</th>\n",
       "      <th>session_id</th>\n",
       "    </tr>\n",
       "    <tr>\n",
       "      <th>event_name</th>\n",
       "      <th></th>\n",
       "      <th></th>\n",
       "      <th></th>\n",
       "      <th></th>\n",
       "      <th></th>\n",
       "      <th></th>\n",
       "      <th></th>\n",
       "      <th></th>\n",
       "      <th></th>\n",
       "      <th></th>\n",
       "      <th></th>\n",
       "    </tr>\n",
       "  </thead>\n",
       "  <tbody>\n",
       "    <tr>\n",
       "      <th>checkpoint</th>\n",
       "      <td>0.681462</td>\n",
       "      <td>2.721790e+06</td>\n",
       "      <td>NaN</td>\n",
       "      <td>634.566580</td>\n",
       "      <td>12.642298</td>\n",
       "      <td>NaN</td>\n",
       "      <td>NaN</td>\n",
       "      <td>NaN</td>\n",
       "      <td>NaN</td>\n",
       "      <td>NaN</td>\n",
       "      <td>2.009946e+16</td>\n",
       "    </tr>\n",
       "    <tr>\n",
       "      <th>cutscene_click</th>\n",
       "      <td>0.709355</td>\n",
       "      <td>2.373476e+06</td>\n",
       "      <td>NaN</td>\n",
       "      <td>493.005247</td>\n",
       "      <td>10.388070</td>\n",
       "      <td>NaN</td>\n",
       "      <td>-209.836456</td>\n",
       "      <td>-72.994057</td>\n",
       "      <td>418.890137</td>\n",
       "      <td>387.434082</td>\n",
       "      <td>2.009946e+16</td>\n",
       "    </tr>\n",
       "    <tr>\n",
       "      <th>map_click</th>\n",
       "      <td>0.702513</td>\n",
       "      <td>2.801367e+06</td>\n",
       "      <td>NaN</td>\n",
       "      <td>717.232145</td>\n",
       "      <td>13.122385</td>\n",
       "      <td>NaN</td>\n",
       "      <td>254.655640</td>\n",
       "      <td>1.415314</td>\n",
       "      <td>514.146423</td>\n",
       "      <td>294.679596</td>\n",
       "      <td>2.009934e+16</td>\n",
       "    </tr>\n",
       "    <tr>\n",
       "      <th>map_hover</th>\n",
       "      <td>0.703858</td>\n",
       "      <td>3.191643e+06</td>\n",
       "      <td>465.458893</td>\n",
       "      <td>824.668168</td>\n",
       "      <td>14.799261</td>\n",
       "      <td>NaN</td>\n",
       "      <td>NaN</td>\n",
       "      <td>NaN</td>\n",
       "      <td>NaN</td>\n",
       "      <td>NaN</td>\n",
       "      <td>2.009927e+16</td>\n",
       "    </tr>\n",
       "    <tr>\n",
       "      <th>navigate_click</th>\n",
       "      <td>0.704320</td>\n",
       "      <td>2.907814e+06</td>\n",
       "      <td>NaN</td>\n",
       "      <td>704.764741</td>\n",
       "      <td>12.572306</td>\n",
       "      <td>NaN</td>\n",
       "      <td>-94.287643</td>\n",
       "      <td>-145.608780</td>\n",
       "      <td>447.488983</td>\n",
       "      <td>403.272949</td>\n",
       "      <td>2.009937e+16</td>\n",
       "    </tr>\n",
       "    <tr>\n",
       "      <th>notebook_click</th>\n",
       "      <td>0.701905</td>\n",
       "      <td>3.834472e+06</td>\n",
       "      <td>NaN</td>\n",
       "      <td>694.187557</td>\n",
       "      <td>12.656910</td>\n",
       "      <td>3.116276</td>\n",
       "      <td>-94.194229</td>\n",
       "      <td>-82.005035</td>\n",
       "      <td>426.861542</td>\n",
       "      <td>354.375397</td>\n",
       "      <td>2.009936e+16</td>\n",
       "    </tr>\n",
       "    <tr>\n",
       "      <th>notification_click</th>\n",
       "      <td>0.703912</td>\n",
       "      <td>2.579553e+06</td>\n",
       "      <td>NaN</td>\n",
       "      <td>575.790860</td>\n",
       "      <td>10.838497</td>\n",
       "      <td>NaN</td>\n",
       "      <td>74.396431</td>\n",
       "      <td>-148.160828</td>\n",
       "      <td>497.159119</td>\n",
       "      <td>448.649475</td>\n",
       "      <td>2.009945e+16</td>\n",
       "    </tr>\n",
       "    <tr>\n",
       "      <th>object_click</th>\n",
       "      <td>0.700251</td>\n",
       "      <td>2.342438e+06</td>\n",
       "      <td>NaN</td>\n",
       "      <td>632.676205</td>\n",
       "      <td>11.196601</td>\n",
       "      <td>NaN</td>\n",
       "      <td>234.843201</td>\n",
       "      <td>-6.510121</td>\n",
       "      <td>578.060913</td>\n",
       "      <td>325.172729</td>\n",
       "      <td>2.009944e+16</td>\n",
       "    </tr>\n",
       "    <tr>\n",
       "      <th>object_hover</th>\n",
       "      <td>0.710247</td>\n",
       "      <td>2.799997e+06</td>\n",
       "      <td>2556.538330</td>\n",
       "      <td>675.715587</td>\n",
       "      <td>12.653752</td>\n",
       "      <td>NaN</td>\n",
       "      <td>NaN</td>\n",
       "      <td>NaN</td>\n",
       "      <td>NaN</td>\n",
       "      <td>NaN</td>\n",
       "      <td>2.009942e+16</td>\n",
       "    </tr>\n",
       "    <tr>\n",
       "      <th>observation_click</th>\n",
       "      <td>0.717459</td>\n",
       "      <td>2.347083e+06</td>\n",
       "      <td>NaN</td>\n",
       "      <td>530.976103</td>\n",
       "      <td>10.376441</td>\n",
       "      <td>NaN</td>\n",
       "      <td>49.248512</td>\n",
       "      <td>-170.206451</td>\n",
       "      <td>473.442993</td>\n",
       "      <td>389.023743</td>\n",
       "      <td>2.009938e+16</td>\n",
       "    </tr>\n",
       "    <tr>\n",
       "      <th>person_click</th>\n",
       "      <td>0.708453</td>\n",
       "      <td>2.795755e+06</td>\n",
       "      <td>NaN</td>\n",
       "      <td>622.132038</td>\n",
       "      <td>12.371261</td>\n",
       "      <td>NaN</td>\n",
       "      <td>-68.265175</td>\n",
       "      <td>-110.552414</td>\n",
       "      <td>426.221466</td>\n",
       "      <td>357.157990</td>\n",
       "      <td>2.009945e+16</td>\n",
       "    </tr>\n",
       "  </tbody>\n",
       "</table>\n",
       "</div>"
      ],
      "text/plain": [
       "                     correct  elapsed_time  hover_duration       index  \\\n",
       "event_name                                                               \n",
       "checkpoint          0.681462  2.721790e+06             NaN  634.566580   \n",
       "cutscene_click      0.709355  2.373476e+06             NaN  493.005247   \n",
       "map_click           0.702513  2.801367e+06             NaN  717.232145   \n",
       "map_hover           0.703858  3.191643e+06      465.458893  824.668168   \n",
       "navigate_click      0.704320  2.907814e+06             NaN  704.764741   \n",
       "notebook_click      0.701905  3.834472e+06             NaN  694.187557   \n",
       "notification_click  0.703912  2.579553e+06             NaN  575.790860   \n",
       "object_click        0.700251  2.342438e+06             NaN  632.676205   \n",
       "object_hover        0.710247  2.799997e+06     2556.538330  675.715587   \n",
       "observation_click   0.717459  2.347083e+06             NaN  530.976103   \n",
       "person_click        0.708453  2.795755e+06             NaN  622.132038   \n",
       "\n",
       "                        level      page  room_coor_x  room_coor_y  \\\n",
       "event_name                                                          \n",
       "checkpoint          12.642298       NaN          NaN          NaN   \n",
       "cutscene_click      10.388070       NaN  -209.836456   -72.994057   \n",
       "map_click           13.122385       NaN   254.655640     1.415314   \n",
       "map_hover           14.799261       NaN          NaN          NaN   \n",
       "navigate_click      12.572306       NaN   -94.287643  -145.608780   \n",
       "notebook_click      12.656910  3.116276   -94.194229   -82.005035   \n",
       "notification_click  10.838497       NaN    74.396431  -148.160828   \n",
       "object_click        11.196601       NaN   234.843201    -6.510121   \n",
       "object_hover        12.653752       NaN          NaN          NaN   \n",
       "observation_click   10.376441       NaN    49.248512  -170.206451   \n",
       "person_click        12.371261       NaN   -68.265175  -110.552414   \n",
       "\n",
       "                    screen_coor_x  screen_coor_y    session_id  \n",
       "event_name                                                      \n",
       "checkpoint                    NaN            NaN  2.009946e+16  \n",
       "cutscene_click         418.890137     387.434082  2.009946e+16  \n",
       "map_click              514.146423     294.679596  2.009934e+16  \n",
       "map_hover                     NaN            NaN  2.009927e+16  \n",
       "navigate_click         447.488983     403.272949  2.009937e+16  \n",
       "notebook_click         426.861542     354.375397  2.009936e+16  \n",
       "notification_click     497.159119     448.649475  2.009945e+16  \n",
       "object_click           578.060913     325.172729  2.009944e+16  \n",
       "object_hover                  NaN            NaN  2.009942e+16  \n",
       "observation_click      473.442993     389.023743  2.009938e+16  \n",
       "person_click           426.221466     357.157990  2.009945e+16  "
      ]
     },
     "execution_count": 13,
     "metadata": {},
     "output_type": "execute_result"
    }
   ],
   "source": [
    "Events.eventName_ID()"
   ]
  },
  {
   "cell_type": "markdown",
   "id": "4dd8ff77",
   "metadata": {
    "papermill": {
     "duration": 0.027115,
     "end_time": "2023-06-06T18:52:09.914697",
     "exception": false,
     "start_time": "2023-06-06T18:52:09.887582",
     "status": "completed"
    },
    "tags": []
   },
   "source": [
    "From our assumption above, we can see that there is not much elapsed time when the student is at checkpoint and the student is constantly either hovering over the map section or clicking on the map. Hence, the student is getting stucked and is trying to see if he/she is heading towards the right direction or not."
   ]
  },
  {
   "cell_type": "code",
   "execution_count": 14,
   "id": "afde591c",
   "metadata": {
    "execution": {
     "iopub.execute_input": "2023-06-06T18:52:09.972495Z",
     "iopub.status.busy": "2023-06-06T18:52:09.971579Z",
     "iopub.status.idle": "2023-06-06T18:52:10.989287Z",
     "shell.execute_reply": "2023-06-06T18:52:10.988055Z"
    },
    "papermill": {
     "duration": 1.049874,
     "end_time": "2023-06-06T18:52:10.992176",
     "exception": false,
     "start_time": "2023-06-06T18:52:09.942302",
     "status": "completed"
    },
    "tags": []
   },
   "outputs": [
    {
     "name": "stdout",
     "output_type": "stream",
     "text": [
      "\n",
      "\n",
      "Total number of questions per event:\n",
      "q1     23562\n",
      "q2     23562\n",
      "q17    23562\n",
      "q16    23562\n",
      "q15    23562\n",
      "q14    23562\n",
      "q13    23562\n",
      "q12    23562\n",
      "q11    23562\n",
      "q10    23562\n",
      "q9     23562\n",
      "q8     23562\n",
      "q7     23562\n",
      "q6     23562\n",
      "q5     23562\n",
      "q4     23562\n",
      "q3     23562\n",
      "q18    23562\n",
      "Name: question, dtype: int64\n",
      "\n",
      "\n",
      "                     correct\n",
      "event_name                  \n",
      "checkpoint          0.681462\n",
      "cutscene_click      0.709355\n",
      "map_click           0.702513\n",
      "map_hover           0.703858\n",
      "navigate_click      0.704320\n",
      "notebook_click      0.701905\n",
      "notification_click  0.703912\n",
      "object_click        0.700251\n",
      "object_hover        0.710247\n",
      "observation_click   0.717459\n",
      "person_click        0.708453\n",
      "\n",
      "\n",
      "Activity based on hovering of mouse:\n",
      "\n",
      "\n"
     ]
    },
    {
     "name": "stderr",
     "output_type": "stream",
     "text": [
      "/opt/conda/lib/python3.7/site-packages/pandas/core/frame.py:3641: SettingWithCopyWarning: \n",
      "A value is trying to be set on a copy of a slice from a DataFrame.\n",
      "Try using .loc[row_indexer,col_indexer] = value instead\n",
      "\n",
      "See the caveats in the documentation: https://pandas.pydata.org/pandas-docs/stable/user_guide/indexing.html#returning-a-view-versus-a-copy\n",
      "  self[k1] = value[k2]\n"
     ]
    },
    {
     "name": "stdout",
     "output_type": "stream",
     "text": [
      "click    272735\n",
      "hover     25753\n",
      "Name: event_name_click, dtype: int64\n"
     ]
    }
   ],
   "source": [
    "Events.event_activity_fqid()"
   ]
  },
  {
   "cell_type": "markdown",
   "id": "92661014",
   "metadata": {
    "papermill": {
     "duration": 0.029209,
     "end_time": "2023-06-06T18:52:11.050480",
     "exception": false,
     "start_time": "2023-06-06T18:52:11.021271",
     "status": "completed"
    },
    "tags": []
   },
   "source": [
    "Following are the observation from the above sequence:\n",
    "\n",
    "1. There are 18 questions in total and every question has equal number of question.\n",
    "2. Even if we consider our assumption, a student in educational leaning is spending more time in clicking as compare to hovering which can be considered idling in some cases and not paying attention. hence, we can say that even if the student is finding the activities difficult, the interactivity in these games are making the students engaged in the activity.\n",
    "3. We also notice that most number of correct answers are coming from clicking on an object."
   ]
  },
  {
   "cell_type": "code",
   "execution_count": 15,
   "id": "86e81e7b",
   "metadata": {
    "execution": {
     "iopub.execute_input": "2023-06-06T18:52:11.109324Z",
     "iopub.status.busy": "2023-06-06T18:52:11.108509Z",
     "iopub.status.idle": "2023-06-06T18:52:11.503074Z",
     "shell.execute_reply": "2023-06-06T18:52:11.502064Z"
    },
    "papermill": {
     "duration": 0.42746,
     "end_time": "2023-06-06T18:52:11.506187",
     "exception": false,
     "start_time": "2023-06-06T18:52:11.078727",
     "status": "completed"
    },
    "tags": []
   },
   "outputs": [
    {
     "name": "stdout",
     "output_type": "stream",
     "text": [
      "frontdesk          73101\n",
      "entry              50590\n",
      "center             33634\n",
      "cage               26914\n",
      "stacks             20895\n",
      "closet_dirty       17674\n",
      "hall               13608\n",
      "basement           13095\n",
      "halloffame         12602\n",
      "microfiche         11504\n",
      "collection         10821\n",
      "closet              9596\n",
      "collection_flag     5237\n",
      "Name: room_fquid_2, dtype: int64\n"
     ]
    },
    {
     "data": {
      "text/plain": [
       "<AxesSubplot:xlabel='room_fquid_2'>"
      ]
     },
     "execution_count": 15,
     "metadata": {},
     "output_type": "execute_result"
    },
    {
     "data": {
      "image/png": "[encoded data removed]",
      "text/plain": [
       "<Figure size 640x480 with 1 Axes>"
      ]
     },
     "metadata": {},
     "output_type": "display_data"
    }
   ],
   "source": [
    "Events.event_activity_room_fqid()"
   ]
  },
  {
   "cell_type": "code",
   "execution_count": 16,
   "id": "f77976e2",
   "metadata": {
    "execution": {
     "iopub.execute_input": "2023-06-06T18:52:11.567236Z",
     "iopub.status.busy": "2023-06-06T18:52:11.566403Z",
     "iopub.status.idle": "2023-06-06T18:52:11.935498Z",
     "shell.execute_reply": "2023-06-06T18:52:11.934502Z"
    },
    "papermill": {
     "duration": 0.402652,
     "end_time": "2023-06-06T18:52:11.938472",
     "exception": false,
     "start_time": "2023-06-06T18:52:11.535820",
     "status": "completed"
    },
    "tags": []
   },
   "outputs": [
    {
     "name": "stdout",
     "output_type": "stream",
     "text": [
      "navigate        126198\n",
      "person           69038\n",
      "object           38697\n",
      "cutscene         30420\n",
      "map              18198\n",
      "notification      7270\n",
      "notebook          6115\n",
      "observation       2552\n",
      "checkpoint         783\n",
      "Name: event_in_the_game, dtype: int64\n"
     ]
    },
    {
     "data": {
      "text/plain": [
       "<AxesSubplot:xlabel='event_in_the_game'>"
      ]
     },
     "execution_count": 16,
     "metadata": {},
     "output_type": "execute_result"
    },
    {
     "data": {
      "image/png": "[encoded data removed]",
      "text/plain": [
       "<Figure size 640x480 with 1 Axes>"
      ]
     },
     "metadata": {},
     "output_type": "display_data"
    }
   ],
   "source": [
    "Events.event_inTheGame_max()"
   ]
  },
  {
   "cell_type": "code",
   "execution_count": 17,
   "id": "f736d9d1",
   "metadata": {
    "execution": {
     "iopub.execute_input": "2023-06-06T18:52:12.002048Z",
     "iopub.status.busy": "2023-06-06T18:52:12.001271Z",
     "iopub.status.idle": "2023-06-06T18:52:12.214973Z",
     "shell.execute_reply": "2023-06-06T18:52:12.213671Z"
    },
    "papermill": {
     "duration": 0.249048,
     "end_time": "2023-06-06T18:52:12.217710",
     "exception": false,
     "start_time": "2023-06-06T18:52:11.968662",
     "status": "completed"
    },
    "tags": []
   },
   "outputs": [
    {
     "data": {
      "text/plain": [
       "<AxesSubplot:>"
      ]
     },
     "execution_count": 17,
     "metadata": {},
     "output_type": "execute_result"
    },
    {
     "data": {
      "image/png": "[encoded data removed]",
      "text/plain": [
       "<Figure size 640x480 with 1 Axes>"
      ]
     },
     "metadata": {},
     "output_type": "display_data"
    }
   ],
   "source": [
    "Events.fullscreen_mode()"
   ]
  },
  {
   "cell_type": "code",
   "execution_count": 18,
   "id": "49cfde85",
   "metadata": {
    "execution": {
     "iopub.execute_input": "2023-06-06T18:52:12.281054Z",
     "iopub.status.busy": "2023-06-06T18:52:12.280245Z",
     "iopub.status.idle": "2023-06-06T18:52:12.613407Z",
     "shell.execute_reply": "2023-06-06T18:52:12.612131Z"
    },
    "papermill": {
     "duration": 0.36818,
     "end_time": "2023-06-06T18:52:12.616244",
     "exception": false,
     "start_time": "2023-06-06T18:52:12.248064",
     "status": "completed"
    },
    "tags": []
   },
   "outputs": [
    {
     "data": {
      "text/plain": [
       "<AxesSubplot:xlabel='question'>"
      ]
     },
     "execution_count": 18,
     "metadata": {},
     "output_type": "execute_result"
    },
    {
     "data": {
      "image/png": "[encoded data removed]",
      "text/plain": [
       "<Figure size 640x480 with 1 Axes>"
      ]
     },
     "metadata": {},
     "output_type": "display_data"
    }
   ],
   "source": [
    "Events.navigateRoomfqid()"
   ]
  },
  {
   "cell_type": "markdown",
   "id": "4b15e990",
   "metadata": {
    "papermill": {
     "duration": 0.030957,
     "end_time": "2023-06-06T18:52:12.678385",
     "exception": false,
     "start_time": "2023-06-06T18:52:12.647428",
     "status": "completed"
    },
    "tags": []
   },
   "source": [
    "All the above graphs and information are extracted where there are maximum number of correct answers. Surprisingly, it was seen that even though the number of pages increases and the student is spending more time on checkpoint as well, but they are also answering correct questions when reached at later stages of the question.\n",
    "\n",
    "Also, in most of the correct options, the student was not in Fullscreen mode.\n",
    "\n",
    "And as previously mentioned, a student in the game spends a lot time navigating. Hence, we can say that in order for a student to perform good, the student is navigating no the screen where he/she is on to make an informed decision.\n",
    "\n",
    "The room where most of the coorect answers were found were in:\n",
    "\n",
    "1. Frontdesk\n",
    "2. Entry\n",
    "3. Center\n",
    "\n"
   ]
  },
  {
   "cell_type": "code",
   "execution_count": 19,
   "id": "86e11e3c",
   "metadata": {
    "execution": {
     "iopub.execute_input": "2023-06-06T18:52:12.742578Z",
     "iopub.status.busy": "2023-06-06T18:52:12.742171Z",
     "iopub.status.idle": "2023-06-06T18:52:14.380743Z",
     "shell.execute_reply": "2023-06-06T18:52:14.379551Z"
    },
    "papermill": {
     "duration": 1.674224,
     "end_time": "2023-06-06T18:52:14.383591",
     "exception": false,
     "start_time": "2023-06-06T18:52:12.709367",
     "status": "completed"
    },
    "tags": []
   },
   "outputs": [
    {
     "name": "stdout",
     "output_type": "stream",
     "text": [
      "Let us understand the unstructured part of the data:\n",
      "\n",
      "\n",
      "Total number of instances where the moderator needed to ask question from the student: 29569\n",
      "Elapsed time column converted into minutes\n",
      "\n",
      "\n",
      "\n",
      "\n",
      "Details about the situation where maximum time elapsed:\n",
      "\n",
      "\n",
      "Question where maximum time was spent: q15\n",
      "What was the event in the game: cutscene\n",
      "Time spent (in minutes): 59.9914 minutes\n",
      "In what location the player was in the game: basement\n",
      "In what level player was in: 13\n",
      "\n",
      "\n",
      "\n",
      "\n",
      "q18    1818\n",
      "q12    1775\n",
      "q11    1764\n",
      "q3     1759\n",
      "q14    1722\n",
      "q8     1712\n",
      "q9     1688\n",
      "q16    1675\n",
      "q5     1642\n",
      "q1     1618\n",
      "q6     1614\n",
      "q2     1597\n",
      "q17    1558\n",
      "q13    1547\n",
      "q7     1528\n",
      "q15    1524\n",
      "q10    1523\n",
      "q4     1505\n",
      "Name: question, dtype: int64\n",
      "\n",
      "\n"
     ]
    },
    {
     "name": "stderr",
     "output_type": "stream",
     "text": [
      "/opt/conda/lib/python3.7/site-packages/ipykernel_launcher.py:139: SettingWithCopyWarning: \n",
      "A value is trying to be set on a copy of a slice from a DataFrame.\n",
      "Try using .loc[row_indexer,col_indexer] = value instead\n",
      "\n",
      "See the caveats in the documentation: https://pandas.pydata.org/pandas-docs/stable/user_guide/indexing.html#returning-a-view-versus-a-copy\n"
     ]
    },
    {
     "name": "stdout",
     "output_type": "stream",
     "text": [
      "\n",
      "\n",
      "frontdesk          11872\n",
      "entry               4707\n",
      "center              3062\n",
      "cage                1998\n",
      "closet_dirty        1934\n",
      "basement            1922\n",
      "collection          1870\n",
      "closet              1243\n",
      "collection_flag      512\n",
      "hall                 449\n",
      "Name: room_fquid_2, dtype: int64\n",
      "\n",
      "\n",
      "\n",
      "\n",
      "18    5150\n",
      "6     4259\n",
      "9     1941\n",
      "13    1925\n",
      "2     1872\n",
      "11    1796\n",
      "19    1724\n",
      "8     1698\n",
      "7     1632\n",
      "16    1627\n",
      "10    1170\n",
      "0     1148\n",
      "21    1080\n",
      "1     1053\n",
      "15     442\n",
      "17     425\n",
      "20     378\n",
      "3      142\n",
      "5       96\n",
      "14       6\n",
      "12       4\n",
      "22       1\n",
      "Name: level, dtype: int64\n",
      "\n",
      "\n",
      "\n",
      "\n",
      "person          23159\n",
      "cutscene         6149\n",
      "notification      261\n",
      "Name: event_in_the_game, dtype: int64\n",
      "\n",
      "\n",
      "\n",
      "\n",
      "click    29569\n",
      "Name: edf_questionMark, dtype: int64\n",
      "\n",
      "\n"
     ]
    },
    {
     "data": {
      "text/plain": [
       "[<matplotlib.lines.Line2D at 0x7f96cf460c90>]"
      ]
     },
     "execution_count": 19,
     "metadata": {},
     "output_type": "execute_result"
    },
    {
     "data": {
      "image/png": "[encoded data removed]",
      "text/plain": [
       "<Figure size 1200x500 with 1 Axes>"
      ]
     },
     "metadata": {},
     "output_type": "display_data"
    },
    {
     "data": {
      "image/png": "[encoded data removed]",
      "text/plain": [
       "<Figure size 1200x500 with 1 Axes>"
      ]
     },
     "metadata": {},
     "output_type": "display_data"
    },
    {
     "data": {
      "image/png": "[encoded data removed]",
      "text/plain": [
       "<Figure size 1200x500 with 1 Axes>"
      ]
     },
     "metadata": {},
     "output_type": "display_data"
    },
    {
     "data": {
      "image/png": "[encoded data removed]",
      "text/plain": [
       "<Figure size 1200x500 with 1 Axes>"
      ]
     },
     "metadata": {},
     "output_type": "display_data"
    },
    {
     "data": {
      "image/png": "[encoded data removed]",
      "text/plain": [
       "<Figure size 1200x500 with 1 Axes>"
      ]
     },
     "metadata": {},
     "output_type": "display_data"
    }
   ],
   "source": [
    "print(\"Let us understand the unstructured part of the data:\")\n",
    "print('\\n')\n",
    "unStructuredData = textEDA()\n",
    "a = unStructuredData.prepareQuestionMarkdata()\n",
    "print(\"Total number of instances where the moderator needed to ask question from the student:\", a.shape[0])\n",
    "unStructuredData.howMuchTimeelapsed()\n",
    "unStructuredData.difficultQuestion()\n",
    "unStructuredData.timeSpentinRoom()\n",
    "unStructuredData.whichLevel()\n",
    "unStructuredData.what_eventIntheGame()\n",
    "unStructuredData.what_playerIsDoing()\n"
   ]
  },
  {
   "cell_type": "markdown",
   "id": "020419e0",
   "metadata": {
    "papermill": {
     "duration": 0.034631,
     "end_time": "2023-06-06T18:52:14.454086",
     "exception": false,
     "start_time": "2023-06-06T18:52:14.419455",
     "status": "completed"
    },
    "tags": []
   },
   "source": [
    "# **Text Analysis for all the comments**"
   ]
  },
  {
   "cell_type": "markdown",
   "id": "c0274fb2",
   "metadata": {
    "papermill": {
     "duration": 0.035235,
     "end_time": "2023-06-06T18:52:14.523952",
     "exception": false,
     "start_time": "2023-06-06T18:52:14.488717",
     "status": "completed"
    },
    "tags": []
   },
   "source": [
    "Since we have a lot information in unstructure format, I wanted to use graph theory to further analyze and understand the data. Since we are dealing with hige amount of data, we wanted to select features based on following parameters:\n",
    "\n",
    "1. Where questions were asked \n",
    "2. When the event in the game was based on \"person_click\"\n",
    "3. When level group was on 5-12\n",
    "4. When fqid was a worker\n",
    "5. When text_gqid =  tunic.drycleaner.frontdesk.worker.hub"
   ]
  },
  {
   "cell_type": "markdown",
   "id": "db1bd7d8",
   "metadata": {
    "execution": {
     "iopub.execute_input": "2023-06-02T01:08:14.907010Z",
     "iopub.status.busy": "2023-06-02T01:08:14.906032Z",
     "iopub.status.idle": "2023-06-02T01:08:18.463308Z",
     "shell.execute_reply": "2023-06-02T01:08:18.462033Z",
     "shell.execute_reply.started": "2023-06-02T01:08:14.906954Z"
    },
    "papermill": {
     "duration": 0.034816,
     "end_time": "2023-06-06T18:52:14.593464",
     "exception": false,
     "start_time": "2023-06-06T18:52:14.558648",
     "status": "completed"
    },
    "tags": []
   },
   "source": [
    "Following commands were executed to prepare the data:\n",
    "\n",
    "1. df_train_text['Source_questionMark'] = df_train_text['text'].str.endswith('?')\n",
    "2. df_questionMark_network=df_train_text.loc[df_train_text['Source_questionMark'] == True]\n",
    "3. df_questionMark_network_final = df_questionMark_network.loc[df_questionMark_network['event_name'] == 'person_click']\n",
    "4. df_questionMark_network_final = df_questionMark_network.loc[df_questionMark_network['level_group'] == '5-12']\n",
    "5. df_questionMark_network_final = df_questionMark_network.loc[df_questionMark_network['fqid'] == 'worker']\n",
    "6. df_questionMark_network_final = df_questionMark_network.loc[df_questionMark_network['text_fqid'] == 'tunic.drycleaner.frontdesk.worker.hub']\n",
    "\n",
    "df_questionMark_network_final.shape"
   ]
  },
  {
   "cell_type": "code",
   "execution_count": 20,
   "id": "5e070020",
   "metadata": {
    "execution": {
     "iopub.execute_input": "2023-06-06T18:52:14.665061Z",
     "iopub.status.busy": "2023-06-06T18:52:14.664231Z",
     "iopub.status.idle": "2023-06-06T18:52:14.674670Z",
     "shell.execute_reply": "2023-06-06T18:52:14.673475Z"
    },
    "papermill": {
     "duration": 0.049084,
     "end_time": "2023-06-06T18:52:14.677303",
     "exception": false,
     "start_time": "2023-06-06T18:52:14.628219",
     "status": "completed"
    },
    "tags": []
   },
   "outputs": [],
   "source": [
    "def prepareData(df):\n",
    "    \n",
    "    \n",
    "    df[['event_id','event_name_activity']] = df['event_name'].str.split('_',expand = True) \n",
    "\n",
    "    df['Source_questionMark'] = df['text'].str.endswith('?')\n",
    "    df=df.loc[df['Source_questionMark'] == True]\n",
    "    df = df.loc[df['event_name'] == 'person_click']\n",
    "    df = df.loc[df['level_group'] == '5-12']\n",
    "    df = df.loc[df['fqid'] == 'worker']\n",
    "    df = df.loc[df['text_fqid'] == 'tunic.drycleaner.frontdesk.worker.hub']\n",
    "    \n",
    "    df_network = pd.DataFrame({\n",
    "        \"Source\": df['event_name_activity'],\n",
    "        'Target': df['text'],\n",
    "        'Weight': df['fullscreen']\n",
    "    })\n",
    "    return df_network\n",
    "    \n",
    "    \n",
    "        "
   ]
  },
  {
   "cell_type": "code",
   "execution_count": 21,
   "id": "c979a39c",
   "metadata": {
    "execution": {
     "iopub.execute_input": "2023-06-06T18:52:14.749314Z",
     "iopub.status.busy": "2023-06-06T18:52:14.748428Z",
     "iopub.status.idle": "2023-06-06T18:52:15.713192Z",
     "shell.execute_reply": "2023-06-06T18:52:15.711923Z"
    },
    "papermill": {
     "duration": 1.00459,
     "end_time": "2023-06-06T18:52:15.716317",
     "exception": false,
     "start_time": "2023-06-06T18:52:14.711727",
     "status": "completed"
    },
    "tags": []
   },
   "outputs": [],
   "source": [
    "import networkx as nx\n",
    "\n",
    "class createGraph:\n",
    "    \n",
    "    def __init__(self):\n",
    "        self.graphData = prepareData(df_train_text)\n",
    "    \n",
    "    def createGraphfromData(self):\n",
    "        # Create an empty directed graph\n",
    "        G = nx.Graph()\n",
    "        # Add edges to the graph\n",
    "        for index, row in self.graphData.iterrows():\n",
    "            source = row['Source']\n",
    "            target = row['Target']\n",
    "            weight = row['Weight']\n",
    "            G.add_edge(source, target, weight=weight)\n",
    "        print(\"Our graph looks like this:\")\n",
    "       \n",
    "        nx.draw(G, with_labels=True)\n",
    "        # Visualize the graph\n",
    "        return G\n",
    "        \n",
    "        \n",
    "\n",
    "class networkTextAnalysis(createGraph):\n",
    "    \n",
    "    \n",
    "    def basicInfo_onGraph(self):\n",
    "        \n",
    "        global graph\n",
    "        \n",
    "        '''\n",
    "        nx.info() will tell us the following things:\n",
    "            1. number of nodes\n",
    "            2. number of edges\n",
    "            3. average degree\n",
    "            \n",
    "            what is average degree: Average degree is the average number of connections of each node in your network\n",
    "            '''\n",
    "        graph = super().createGraphfromData() \n",
    "        \n",
    "        return nx.info(graph)\n",
    "    \n",
    "    # Calculate the degree of each node\n",
    "    def degs(self):\n",
    "        degree = nx.degree(graph)\n",
    "        print('degree:',degree)\n",
    "        print('\\n')\n",
    "        \n",
    "        # Calculate the degree distribution\n",
    "        degree_sequence = [d for n, d in nx.degree(graph)]\n",
    "        degree_counts = nx.degree_histogram(graph)\n",
    "        print('degree sequence:',degree_sequence)\n",
    "        print('degree counts:',degree_counts)\n",
    "        \n",
    "    \n",
    "    # Calculate the number of connected components in the graph\n",
    "    def graphComponents(self):\n",
    "        \n",
    "        components = nx.connected_components(graph)\n",
    "        print('components:',components)\n",
    "        print('\\n')\n",
    "        return components\n",
    "    \n",
    "    # Calculate the average shortest path length between all pairs of nodes\n",
    "    def shortestPath(self):\n",
    "        shortest_path_length = nx.average_shortest_path_length(graph)\n",
    "        # Find all shortest paths\n",
    "        shortest_paths = dict(nx.all_pairs_shortest_path(graph))\n",
    "\n",
    "        # Print all shortest paths\n",
    "        for source, paths in shortest_paths.items():\n",
    "            for target, path in paths.items():\n",
    "                print(f\"Shortest path from {source} to {target}: {path}\")\n",
    "                \n",
    "        print('Average distance shortest path: ',shortest_path_length)\n",
    "        print('\\n')\n",
    "        return shortest_path_length\n",
    "    \n",
    "    # Calculate the clustering coefficient of each node\n",
    "    def clustering_coeff(self):\n",
    "        clustering_coefficient = nx.clustering(graph)\n",
    "        print('clustering coeff: ',clustering_coefficient)\n",
    "        print('\\n')\n",
    "        return clustering_coefficient\n",
    "    \n",
    "    # Calculate the betweenness centrality of each node\n",
    "    def bet_centrality(self):\n",
    "        betweenness_centrality = nx.betweenness_centrality(graph)\n",
    "        print('betweenness centrality: ',betweenness_centrality)\n",
    "        print('\\n')\n",
    "        nx.draw(graph, with_labels=True, node_color=list(betweenness_centrality.values()))\n",
    "        plt.show()\n",
    "        return betweenness_centrality\n",
    "    \n",
    "    # Calculate the closeness centrality of each node\n",
    "    def close_centrality(self):\n",
    "        closeness_centrality = nx.closeness_centrality(graph)\n",
    "        print('closenness centrality: ',closeness_centrality.items())\n",
    "        print('\\n')\n",
    "        nx.draw(graph, with_labels=True, node_color=list(closeness_centrality.values()))\n",
    "        plt.show()\n",
    "        return closeness_centrality\n",
    "    \n",
    "    # Create a dictionary of values and their corresponding graphs\n",
    "    def plot_values(self):\n",
    "        degree = self.degs()\n",
    "        components = self.graphComponents()\n",
    "        shortest_path_length = self.shortestPath()\n",
    "        clustering_coefficient = self.clustering_coeff()\n",
    "        betweenness_centrality = self.bet_centrality()\n",
    "        closeness_centrality = self.close_centrality\n",
    "        return degree, components, shortest_path_length, clustering_coefficient, betweenness_centrality, closeness_centrality \n",
    "        "
   ]
  },
  {
   "cell_type": "code",
   "execution_count": 22,
   "id": "849bec9c",
   "metadata": {
    "execution": {
     "iopub.execute_input": "2023-06-06T18:52:15.790357Z",
     "iopub.status.busy": "2023-06-06T18:52:15.789498Z",
     "iopub.status.idle": "2023-06-06T18:53:02.169439Z",
     "shell.execute_reply": "2023-06-06T18:53:02.167315Z"
    },
    "papermill": {
     "duration": 46.420855,
     "end_time": "2023-06-06T18:53:02.172445",
     "exception": false,
     "start_time": "2023-06-06T18:52:15.751590",
     "status": "completed"
    },
    "tags": []
   },
   "outputs": [
    {
     "name": "stdout",
     "output_type": "stream",
     "text": [
      "The graph that has been formed on the data we have in hand has the following properties:\n",
      "\n",
      "\n",
      "Our graph looks like this:\n"
     ]
    },
    {
     "data": {
      "text/plain": [
       "'Graph with 8 nodes and 7 edges'"
      ]
     },
     "execution_count": 22,
     "metadata": {},
     "output_type": "execute_result"
    },
    {
     "data": {
      "image/png": "[encoded data removed]",
      "text/plain": [
       "<Figure size 640x480 with 1 Axes>"
      ]
     },
     "metadata": {},
     "output_type": "display_data"
    }
   ],
   "source": [
    "textAnalysis = networkTextAnalysis()\n",
    "print(\"The graph that has been formed on the data we have in hand has the following properties:\")\n",
    "print('\\n')\n",
    "textAnalysis.basicInfo_onGraph()"
   ]
  },
  {
   "cell_type": "markdown",
   "id": "e867bae0",
   "metadata": {
    "papermill": {
     "duration": 0.035806,
     "end_time": "2023-06-06T18:53:02.244500",
     "exception": false,
     "start_time": "2023-06-06T18:53:02.208694",
     "status": "completed"
    },
    "tags": []
   },
   "source": [
    "Based on the above \"Directed weighted\" graph, we can say that:\n",
    "\n",
    "The click action performed by the student indicates that the moderator is trying to ask some sort of question when they are stuck somewhere or the student is trying to clarify a doubt. Since, the graph has weights based on\"Fullscreen\", we can assume that when the student is stuck, they try to exit the full screen mode so that they can ask questions from the moderator"
   ]
  },
  {
   "cell_type": "code",
   "execution_count": 23,
   "id": "fc2b7209",
   "metadata": {
    "execution": {
     "iopub.execute_input": "2023-06-06T18:53:02.319480Z",
     "iopub.status.busy": "2023-06-06T18:53:02.318685Z",
     "iopub.status.idle": "2023-06-06T18:53:02.325275Z",
     "shell.execute_reply": "2023-06-06T18:53:02.324033Z"
    },
    "papermill": {
     "duration": 0.047502,
     "end_time": "2023-06-06T18:53:02.327790",
     "exception": false,
     "start_time": "2023-06-06T18:53:02.280288",
     "status": "completed"
    },
    "tags": []
   },
   "outputs": [
    {
     "name": "stdout",
     "output_type": "stream",
     "text": [
      "The degree of the graph is distributed in the following way:\n",
      "\n",
      "\n",
      "degree: [('click', 7), ('Hi! How can I help you?', 1), ('Please?', 1), ('Leo... you mean Leopold?', 1), ('Um, are you okay?', 1), ('Ha! What do you call a pony with a sore throat?', 1), ('Huh?', 1), ('Are you okay?', 1)]\n",
      "\n",
      "\n",
      "degree sequence: [7, 1, 1, 1, 1, 1, 1, 1]\n",
      "degree counts: [0, 7, 0, 0, 0, 0, 0, 1]\n"
     ]
    }
   ],
   "source": [
    "print(\"The degree of the graph is distributed in the following way:\")\n",
    "print('\\n')\n",
    "textAnalysis.degs()"
   ]
  },
  {
   "cell_type": "markdown",
   "id": "a57150ee",
   "metadata": {
    "papermill": {
     "duration": 0.035691,
     "end_time": "2023-06-06T18:53:02.399450",
     "exception": false,
     "start_time": "2023-06-06T18:53:02.363759",
     "status": "completed"
    },
    "tags": []
   },
   "source": [
    "The above information tells us how important a node is in the graph based on the number of edges coming out of a node. Clearly \"Click\" is the mode important node"
   ]
  },
  {
   "cell_type": "code",
   "execution_count": 24,
   "id": "e3032dc6",
   "metadata": {
    "execution": {
     "iopub.execute_input": "2023-06-06T18:53:02.474209Z",
     "iopub.status.busy": "2023-06-06T18:53:02.473320Z",
     "iopub.status.idle": "2023-06-06T18:53:02.616620Z",
     "shell.execute_reply": "2023-06-06T18:53:02.615667Z"
    },
    "papermill": {
     "duration": 0.183842,
     "end_time": "2023-06-06T18:53:02.619427",
     "exception": false,
     "start_time": "2023-06-06T18:53:02.435585",
     "status": "completed"
    },
    "tags": []
   },
   "outputs": [
    {
     "name": "stdout",
     "output_type": "stream",
     "text": [
      "betweenness centrality:  {'click': 1.0, 'Hi! How can I help you?': 0.0, 'Please?': 0.0, 'Leo... you mean Leopold?': 0.0, 'Um, are you okay?': 0.0, 'Ha! What do you call a pony with a sore throat?': 0.0, 'Huh?': 0.0, 'Are you okay?': 0.0}\n",
      "\n",
      "\n"
     ]
    },
    {
     "data": {
      "image/png": "[encoded data removed]",
      "text/plain": [
       "<Figure size 640x480 with 1 Axes>"
      ]
     },
     "metadata": {},
     "output_type": "display_data"
    },
    {
     "data": {
      "text/plain": [
       "{'click': 1.0,\n",
       " 'Hi! How can I help you?': 0.0,\n",
       " 'Please?': 0.0,\n",
       " 'Leo... you mean Leopold?': 0.0,\n",
       " 'Um, are you okay?': 0.0,\n",
       " 'Ha! What do you call a pony with a sore throat?': 0.0,\n",
       " 'Huh?': 0.0,\n",
       " 'Are you okay?': 0.0}"
      ]
     },
     "execution_count": 24,
     "metadata": {},
     "output_type": "execute_result"
    }
   ],
   "source": [
    "textAnalysis.bet_centrality()"
   ]
  },
  {
   "cell_type": "code",
   "execution_count": 25,
   "id": "1625b81d",
   "metadata": {
    "execution": {
     "iopub.execute_input": "2023-06-06T18:53:02.696060Z",
     "iopub.status.busy": "2023-06-06T18:53:02.695641Z",
     "iopub.status.idle": "2023-06-06T18:53:02.833265Z",
     "shell.execute_reply": "2023-06-06T18:53:02.832384Z"
    },
    "papermill": {
     "duration": 0.178615,
     "end_time": "2023-06-06T18:53:02.835589",
     "exception": false,
     "start_time": "2023-06-06T18:53:02.656974",
     "status": "completed"
    },
    "tags": []
   },
   "outputs": [
    {
     "name": "stdout",
     "output_type": "stream",
     "text": [
      "closenness centrality:  dict_items([('click', 1.0), ('Hi! How can I help you?', 0.5384615384615384), ('Please?', 0.5384615384615384), ('Leo... you mean Leopold?', 0.5384615384615384), ('Um, are you okay?', 0.5384615384615384), ('Ha! What do you call a pony with a sore throat?', 0.5384615384615384), ('Huh?', 0.5384615384615384), ('Are you okay?', 0.5384615384615384)])\n",
      "\n",
      "\n"
     ]
    },
    {
     "data": {
      "image/png": "[encoded data removed]",
      "text/plain": [
       "<Figure size 640x480 with 1 Axes>"
      ]
     },
     "metadata": {},
     "output_type": "display_data"
    },
    {
     "data": {
      "text/plain": [
       "{'click': 1.0,\n",
       " 'Hi! How can I help you?': 0.5384615384615384,\n",
       " 'Please?': 0.5384615384615384,\n",
       " 'Leo... you mean Leopold?': 0.5384615384615384,\n",
       " 'Um, are you okay?': 0.5384615384615384,\n",
       " 'Ha! What do you call a pony with a sore throat?': 0.5384615384615384,\n",
       " 'Huh?': 0.5384615384615384,\n",
       " 'Are you okay?': 0.5384615384615384}"
      ]
     },
     "execution_count": 25,
     "metadata": {},
     "output_type": "execute_result"
    }
   ],
   "source": [
    "textAnalysis.close_centrality()"
   ]
  },
  {
   "cell_type": "markdown",
   "id": "df08b7a7",
   "metadata": {
    "papermill": {
     "duration": 0.038124,
     "end_time": "2023-06-06T18:53:02.912431",
     "exception": false,
     "start_time": "2023-06-06T18:53:02.874307",
     "status": "completed"
    },
    "tags": []
   },
   "source": [
    "Closeness centrality tells us how fast the flow of information is through a particular node."
   ]
  },
  {
   "cell_type": "code",
   "execution_count": 26,
   "id": "40728bca",
   "metadata": {
    "execution": {
     "iopub.execute_input": "2023-06-06T18:53:02.991431Z",
     "iopub.status.busy": "2023-06-06T18:53:02.991012Z",
     "iopub.status.idle": "2023-06-06T18:53:03.000492Z",
     "shell.execute_reply": "2023-06-06T18:53:02.999164Z"
    },
    "papermill": {
     "duration": 0.052374,
     "end_time": "2023-06-06T18:53:03.003608",
     "exception": false,
     "start_time": "2023-06-06T18:53:02.951234",
     "status": "completed"
    },
    "tags": []
   },
   "outputs": [
    {
     "name": "stdout",
     "output_type": "stream",
     "text": [
      "Shortest path from click to click: ['click']\n",
      "Shortest path from click to Hi! How can I help you?: ['click', 'Hi! How can I help you?']\n",
      "Shortest path from click to Please?: ['click', 'Please?']\n",
      "Shortest path from click to Leo... you mean Leopold?: ['click', 'Leo... you mean Leopold?']\n",
      "Shortest path from click to Um, are you okay?: ['click', 'Um, are you okay?']\n",
      "Shortest path from click to Ha! What do you call a pony with a sore throat?: ['click', 'Ha! What do you call a pony with a sore throat?']\n",
      "Shortest path from click to Huh?: ['click', 'Huh?']\n",
      "Shortest path from click to Are you okay?: ['click', 'Are you okay?']\n",
      "Shortest path from Hi! How can I help you? to Hi! How can I help you?: ['Hi! How can I help you?']\n",
      "Shortest path from Hi! How can I help you? to click: ['Hi! How can I help you?', 'click']\n",
      "Shortest path from Hi! How can I help you? to Please?: ['Hi! How can I help you?', 'click', 'Please?']\n",
      "Shortest path from Hi! How can I help you? to Leo... you mean Leopold?: ['Hi! How can I help you?', 'click', 'Leo... you mean Leopold?']\n",
      "Shortest path from Hi! How can I help you? to Um, are you okay?: ['Hi! How can I help you?', 'click', 'Um, are you okay?']\n",
      "Shortest path from Hi! How can I help you? to Ha! What do you call a pony with a sore throat?: ['Hi! How can I help you?', 'click', 'Ha! What do you call a pony with a sore throat?']\n",
      "Shortest path from Hi! How can I help you? to Huh?: ['Hi! How can I help you?', 'click', 'Huh?']\n",
      "Shortest path from Hi! How can I help you? to Are you okay?: ['Hi! How can I help you?', 'click', 'Are you okay?']\n",
      "Shortest path from Please? to Please?: ['Please?']\n",
      "Shortest path from Please? to click: ['Please?', 'click']\n",
      "Shortest path from Please? to Hi! How can I help you?: ['Please?', 'click', 'Hi! How can I help you?']\n",
      "Shortest path from Please? to Leo... you mean Leopold?: ['Please?', 'click', 'Leo... you mean Leopold?']\n",
      "Shortest path from Please? to Um, are you okay?: ['Please?', 'click', 'Um, are you okay?']\n",
      "Shortest path from Please? to Ha! What do you call a pony with a sore throat?: ['Please?', 'click', 'Ha! What do you call a pony with a sore throat?']\n",
      "Shortest path from Please? to Huh?: ['Please?', 'click', 'Huh?']\n",
      "Shortest path from Please? to Are you okay?: ['Please?', 'click', 'Are you okay?']\n",
      "Shortest path from Leo... you mean Leopold? to Leo... you mean Leopold?: ['Leo... you mean Leopold?']\n",
      "Shortest path from Leo... you mean Leopold? to click: ['Leo... you mean Leopold?', 'click']\n",
      "Shortest path from Leo... you mean Leopold? to Hi! How can I help you?: ['Leo... you mean Leopold?', 'click', 'Hi! How can I help you?']\n",
      "Shortest path from Leo... you mean Leopold? to Please?: ['Leo... you mean Leopold?', 'click', 'Please?']\n",
      "Shortest path from Leo... you mean Leopold? to Um, are you okay?: ['Leo... you mean Leopold?', 'click', 'Um, are you okay?']\n",
      "Shortest path from Leo... you mean Leopold? to Ha! What do you call a pony with a sore throat?: ['Leo... you mean Leopold?', 'click', 'Ha! What do you call a pony with a sore throat?']\n",
      "Shortest path from Leo... you mean Leopold? to Huh?: ['Leo... you mean Leopold?', 'click', 'Huh?']\n",
      "Shortest path from Leo... you mean Leopold? to Are you okay?: ['Leo... you mean Leopold?', 'click', 'Are you okay?']\n",
      "Shortest path from Um, are you okay? to Um, are you okay?: ['Um, are you okay?']\n",
      "Shortest path from Um, are you okay? to click: ['Um, are you okay?', 'click']\n",
      "Shortest path from Um, are you okay? to Hi! How can I help you?: ['Um, are you okay?', 'click', 'Hi! How can I help you?']\n",
      "Shortest path from Um, are you okay? to Please?: ['Um, are you okay?', 'click', 'Please?']\n",
      "Shortest path from Um, are you okay? to Leo... you mean Leopold?: ['Um, are you okay?', 'click', 'Leo... you mean Leopold?']\n",
      "Shortest path from Um, are you okay? to Ha! What do you call a pony with a sore throat?: ['Um, are you okay?', 'click', 'Ha! What do you call a pony with a sore throat?']\n",
      "Shortest path from Um, are you okay? to Huh?: ['Um, are you okay?', 'click', 'Huh?']\n",
      "Shortest path from Um, are you okay? to Are you okay?: ['Um, are you okay?', 'click', 'Are you okay?']\n",
      "Shortest path from Ha! What do you call a pony with a sore throat? to Ha! What do you call a pony with a sore throat?: ['Ha! What do you call a pony with a sore throat?']\n",
      "Shortest path from Ha! What do you call a pony with a sore throat? to click: ['Ha! What do you call a pony with a sore throat?', 'click']\n",
      "Shortest path from Ha! What do you call a pony with a sore throat? to Hi! How can I help you?: ['Ha! What do you call a pony with a sore throat?', 'click', 'Hi! How can I help you?']\n",
      "Shortest path from Ha! What do you call a pony with a sore throat? to Please?: ['Ha! What do you call a pony with a sore throat?', 'click', 'Please?']\n",
      "Shortest path from Ha! What do you call a pony with a sore throat? to Leo... you mean Leopold?: ['Ha! What do you call a pony with a sore throat?', 'click', 'Leo... you mean Leopold?']\n",
      "Shortest path from Ha! What do you call a pony with a sore throat? to Um, are you okay?: ['Ha! What do you call a pony with a sore throat?', 'click', 'Um, are you okay?']\n",
      "Shortest path from Ha! What do you call a pony with a sore throat? to Huh?: ['Ha! What do you call a pony with a sore throat?', 'click', 'Huh?']\n",
      "Shortest path from Ha! What do you call a pony with a sore throat? to Are you okay?: ['Ha! What do you call a pony with a sore throat?', 'click', 'Are you okay?']\n",
      "Shortest path from Huh? to Huh?: ['Huh?']\n",
      "Shortest path from Huh? to click: ['Huh?', 'click']\n",
      "Shortest path from Huh? to Hi! How can I help you?: ['Huh?', 'click', 'Hi! How can I help you?']\n",
      "Shortest path from Huh? to Please?: ['Huh?', 'click', 'Please?']\n",
      "Shortest path from Huh? to Leo... you mean Leopold?: ['Huh?', 'click', 'Leo... you mean Leopold?']\n",
      "Shortest path from Huh? to Um, are you okay?: ['Huh?', 'click', 'Um, are you okay?']\n",
      "Shortest path from Huh? to Ha! What do you call a pony with a sore throat?: ['Huh?', 'click', 'Ha! What do you call a pony with a sore throat?']\n",
      "Shortest path from Huh? to Are you okay?: ['Huh?', 'click', 'Are you okay?']\n",
      "Shortest path from Are you okay? to Are you okay?: ['Are you okay?']\n",
      "Shortest path from Are you okay? to click: ['Are you okay?', 'click']\n",
      "Shortest path from Are you okay? to Hi! How can I help you?: ['Are you okay?', 'click', 'Hi! How can I help you?']\n",
      "Shortest path from Are you okay? to Please?: ['Are you okay?', 'click', 'Please?']\n",
      "Shortest path from Are you okay? to Leo... you mean Leopold?: ['Are you okay?', 'click', 'Leo... you mean Leopold?']\n",
      "Shortest path from Are you okay? to Um, are you okay?: ['Are you okay?', 'click', 'Um, are you okay?']\n",
      "Shortest path from Are you okay? to Ha! What do you call a pony with a sore throat?: ['Are you okay?', 'click', 'Ha! What do you call a pony with a sore throat?']\n",
      "Shortest path from Are you okay? to Huh?: ['Are you okay?', 'click', 'Huh?']\n",
      "Average distance shortest path:  1.75\n",
      "\n",
      "\n"
     ]
    },
    {
     "data": {
      "text/plain": [
       "1.75"
      ]
     },
     "execution_count": 26,
     "metadata": {},
     "output_type": "execute_result"
    }
   ],
   "source": [
    "textAnalysis.shortestPath()"
   ]
  },
  {
   "cell_type": "markdown",
   "id": "d1a622af",
   "metadata": {
    "papermill": {
     "duration": 0.038415,
     "end_time": "2023-06-06T18:53:03.080835",
     "exception": false,
     "start_time": "2023-06-06T18:53:03.042420",
     "status": "completed"
    },
    "tags": []
   },
   "source": [
    "The average number of steps along the shortest paths for all possible pairs of network nodes in our Graph is 1.75.\n",
    "\n",
    "The above information tells us the path from a node to all the other paths and the above information tells us how sequence of events happened."
   ]
  },
  {
   "cell_type": "code",
   "execution_count": 27,
   "id": "ac7e6ae7",
   "metadata": {
    "execution": {
     "iopub.execute_input": "2023-06-06T18:53:03.161132Z",
     "iopub.status.busy": "2023-06-06T18:53:03.160300Z",
     "iopub.status.idle": "2023-06-06T18:53:03.165014Z",
     "shell.execute_reply": "2023-06-06T18:53:03.164078Z"
    },
    "papermill": {
     "duration": 0.047698,
     "end_time": "2023-06-06T18:53:03.167552",
     "exception": false,
     "start_time": "2023-06-06T18:53:03.119854",
     "status": "completed"
    },
    "tags": []
   },
   "outputs": [],
   "source": [
    "df_train_obj =  trainDataPreparation()"
   ]
  },
  {
   "cell_type": "code",
   "execution_count": 28,
   "id": "f6a9f09b",
   "metadata": {
    "execution": {
     "iopub.execute_input": "2023-06-06T18:53:03.247568Z",
     "iopub.status.busy": "2023-06-06T18:53:03.246733Z",
     "iopub.status.idle": "2023-06-06T18:53:03.572681Z",
     "shell.execute_reply": "2023-06-06T18:53:03.571692Z"
    },
    "papermill": {
     "duration": 0.369077,
     "end_time": "2023-06-06T18:53:03.575561",
     "exception": false,
     "start_time": "2023-06-06T18:53:03.206484",
     "status": "completed"
    },
    "tags": []
   },
   "outputs": [],
   "source": [
    "df_train = df_train_obj.merge()"
   ]
  },
  {
   "cell_type": "code",
   "execution_count": 29,
   "id": "5d2e2ab0",
   "metadata": {
    "execution": {
     "iopub.execute_input": "2023-06-06T18:53:03.655267Z",
     "iopub.status.busy": "2023-06-06T18:53:03.654434Z",
     "iopub.status.idle": "2023-06-06T18:53:03.743763Z",
     "shell.execute_reply": "2023-06-06T18:53:03.742845Z"
    },
    "papermill": {
     "duration": 0.132086,
     "end_time": "2023-06-06T18:53:03.746236",
     "exception": false,
     "start_time": "2023-06-06T18:53:03.614150",
     "status": "completed"
    },
    "tags": []
   },
   "outputs": [
    {
     "data": {
      "text/plain": [
       "['0-4', '5-12', '13-22']\n",
       "Categories (3, object): ['0-4', '13-22', '5-12']"
      ]
     },
     "execution_count": 29,
     "metadata": {},
     "output_type": "execute_result"
    }
   ],
   "source": [
    "df_train['level_group'].unique()"
   ]
  },
  {
   "cell_type": "markdown",
   "id": "8ac0144c",
   "metadata": {
    "papermill": {
     "duration": 0.039416,
     "end_time": "2023-06-06T18:53:03.825010",
     "exception": false,
     "start_time": "2023-06-06T18:53:03.785594",
     "status": "completed"
    },
    "tags": []
   },
   "source": [
    "# Predictive modeling\n",
    "\n",
    "**We are moving ahead with an ensemble technique. This would be a custom enseble machine learning technique.**\n",
    "\n",
    "We will perform the following tasks:\n",
    "1. Clustering: KMeans\n",
    "2. Binary classification: tree based model"
   ]
  },
  {
   "cell_type": "markdown",
   "id": "83013d26",
   "metadata": {
    "papermill": {
     "duration": 0.038331,
     "end_time": "2023-06-06T18:53:03.902276",
     "exception": false,
     "start_time": "2023-06-06T18:53:03.863945",
     "status": "completed"
    },
    "tags": []
   },
   "source": [
    "# Clustering method"
   ]
  },
  {
   "cell_type": "markdown",
   "id": "7e0897dc",
   "metadata": {
    "papermill": {
     "duration": 0.038424,
     "end_time": "2023-06-06T18:53:03.979344",
     "exception": false,
     "start_time": "2023-06-06T18:53:03.940920",
     "status": "completed"
    },
    "tags": []
   },
   "source": [
    "We are applying clustering algorithm to cluster the data that looks similar. based on the above information, we can say that let's cluster the data into two groups since we have three level groups"
   ]
  },
  {
   "cell_type": "code",
   "execution_count": 30,
   "id": "8077cbbc",
   "metadata": {
    "execution": {
     "iopub.execute_input": "2023-06-06T18:53:04.059538Z",
     "iopub.status.busy": "2023-06-06T18:53:04.058692Z",
     "iopub.status.idle": "2023-06-06T18:53:04.654586Z",
     "shell.execute_reply": "2023-06-06T18:53:04.653508Z"
    },
    "papermill": {
     "duration": 0.639208,
     "end_time": "2023-06-06T18:53:04.657365",
     "exception": false,
     "start_time": "2023-06-06T18:53:04.018157",
     "status": "completed"
    },
    "tags": []
   },
   "outputs": [],
   "source": [
    "from sklearn.preprocessing import OneHotEncoder\n",
    "from sklearn.cluster import KMeans\n",
    "import numpy as np\n",
    "\n",
    "class clusters:\n",
    "    def __init__(self,df):\n",
    "        self.df = df\n",
    "        \n",
    "    def encode(self):\n",
    "        # One-hot encode the categorical variables\n",
    "        encoder = OneHotEncoder()\n",
    "        encoded_data = encoder.fit_transform(self.df)\n",
    "        return encoded_data\n",
    "    def clusteringKMeans(self):\n",
    "        \n",
    "        newEncodedData = self.encode()\n",
    "        \n",
    "        # Apply k-means clustering on the encoded data\n",
    "        kmeans = KMeans(n_clusters=2, random_state=42)\n",
    "        clusters = kmeans.fit_predict(newEncodedData)\n",
    "\n",
    "        # Add cluster labels to the DataFrame\n",
    "        self.df['cluster_label'] = clusters\n",
    "        \n",
    "        return self.df\n",
    "        "
   ]
  },
  {
   "cell_type": "code",
   "execution_count": 31,
   "id": "1572d143",
   "metadata": {
    "execution": {
     "iopub.execute_input": "2023-06-06T18:53:04.737415Z",
     "iopub.status.busy": "2023-06-06T18:53:04.736613Z",
     "iopub.status.idle": "2023-06-06T18:53:29.534360Z",
     "shell.execute_reply": "2023-06-06T18:53:29.533235Z"
    },
    "papermill": {
     "duration": 24.841029,
     "end_time": "2023-06-06T18:53:29.537348",
     "exception": false,
     "start_time": "2023-06-06T18:53:04.696319",
     "status": "completed"
    },
    "tags": []
   },
   "outputs": [],
   "source": [
    "clustered_data = clusters(df_train)\n",
    "clusteringImplementedData = clustered_data.clusteringKMeans()"
   ]
  },
  {
   "cell_type": "code",
   "execution_count": 32,
   "id": "f67ec938",
   "metadata": {
    "execution": {
     "iopub.execute_input": "2023-06-06T18:53:29.618948Z",
     "iopub.status.busy": "2023-06-06T18:53:29.618122Z",
     "iopub.status.idle": "2023-06-06T18:53:29.633207Z",
     "shell.execute_reply": "2023-06-06T18:53:29.632237Z"
    },
    "papermill": {
     "duration": 0.058937,
     "end_time": "2023-06-06T18:53:29.635729",
     "exception": false,
     "start_time": "2023-06-06T18:53:29.576792",
     "status": "completed"
    },
    "tags": []
   },
   "outputs": [
    {
     "data": {
      "text/plain": [
       "0    269898\n",
       "1    154218\n",
       "Name: cluster_label, dtype: int64"
      ]
     },
     "execution_count": 32,
     "metadata": {},
     "output_type": "execute_result"
    }
   ],
   "source": [
    "clusteringImplementedData['cluster_label'].value_counts()"
   ]
  },
  {
   "cell_type": "code",
   "execution_count": 33,
   "id": "b68acce3",
   "metadata": {
    "execution": {
     "iopub.execute_input": "2023-06-06T18:53:29.717748Z",
     "iopub.status.busy": "2023-06-06T18:53:29.716917Z",
     "iopub.status.idle": "2023-06-06T18:53:29.746222Z",
     "shell.execute_reply": "2023-06-06T18:53:29.745268Z"
    },
    "papermill": {
     "duration": 0.07357,
     "end_time": "2023-06-06T18:53:29.748726",
     "exception": false,
     "start_time": "2023-06-06T18:53:29.675156",
     "status": "completed"
    },
    "tags": []
   },
   "outputs": [
    {
     "data": {
      "text/html": [
       "<div>\n",
       "<style scoped>\n",
       "    .dataframe tbody tr th:only-of-type {\n",
       "        vertical-align: middle;\n",
       "    }\n",
       "\n",
       "    .dataframe tbody tr th {\n",
       "        vertical-align: top;\n",
       "    }\n",
       "\n",
       "    .dataframe thead th {\n",
       "        text-align: right;\n",
       "    }\n",
       "</style>\n",
       "<table border=\"1\" class=\"dataframe\">\n",
       "  <thead>\n",
       "    <tr style=\"text-align: right;\">\n",
       "      <th></th>\n",
       "      <th>session_id</th>\n",
       "      <th>index</th>\n",
       "      <th>elapsed_time</th>\n",
       "      <th>event_name</th>\n",
       "      <th>name</th>\n",
       "      <th>level</th>\n",
       "      <th>page</th>\n",
       "      <th>room_coor_x</th>\n",
       "      <th>room_coor_y</th>\n",
       "      <th>screen_coor_x</th>\n",
       "      <th>...</th>\n",
       "      <th>music</th>\n",
       "      <th>level_group</th>\n",
       "      <th>event_id</th>\n",
       "      <th>event_name_activity</th>\n",
       "      <th>Source_questionMark</th>\n",
       "      <th>session_id</th>\n",
       "      <th>correct</th>\n",
       "      <th>Session_ID_labels</th>\n",
       "      <th>question</th>\n",
       "      <th>cluster_label</th>\n",
       "    </tr>\n",
       "  </thead>\n",
       "  <tbody>\n",
       "    <tr>\n",
       "      <th>0</th>\n",
       "      <td>20090312431273200</td>\n",
       "      <td>0</td>\n",
       "      <td>0</td>\n",
       "      <td>cutscene_click</td>\n",
       "      <td>basic</td>\n",
       "      <td>0</td>\n",
       "      <td>NaN</td>\n",
       "      <td>-413.991394</td>\n",
       "      <td>-159.314682</td>\n",
       "      <td>380.0</td>\n",
       "      <td>...</td>\n",
       "      <td>1</td>\n",
       "      <td>0-4</td>\n",
       "      <td>cutscene</td>\n",
       "      <td>click</td>\n",
       "      <td>False</td>\n",
       "      <td>20090312431273200_q1</td>\n",
       "      <td>1</td>\n",
       "      <td>20090312431273200</td>\n",
       "      <td>q1</td>\n",
       "      <td>1</td>\n",
       "    </tr>\n",
       "    <tr>\n",
       "      <th>1</th>\n",
       "      <td>20090312431273200</td>\n",
       "      <td>1</td>\n",
       "      <td>1323</td>\n",
       "      <td>person_click</td>\n",
       "      <td>basic</td>\n",
       "      <td>0</td>\n",
       "      <td>NaN</td>\n",
       "      <td>-413.991394</td>\n",
       "      <td>-159.314682</td>\n",
       "      <td>380.0</td>\n",
       "      <td>...</td>\n",
       "      <td>1</td>\n",
       "      <td>0-4</td>\n",
       "      <td>person</td>\n",
       "      <td>click</td>\n",
       "      <td>True</td>\n",
       "      <td>20090312433251036_q1</td>\n",
       "      <td>0</td>\n",
       "      <td>20090312433251036</td>\n",
       "      <td>q1</td>\n",
       "      <td>1</td>\n",
       "    </tr>\n",
       "    <tr>\n",
       "      <th>2</th>\n",
       "      <td>20090312431273200</td>\n",
       "      <td>2</td>\n",
       "      <td>831</td>\n",
       "      <td>person_click</td>\n",
       "      <td>basic</td>\n",
       "      <td>0</td>\n",
       "      <td>NaN</td>\n",
       "      <td>-413.991394</td>\n",
       "      <td>-159.314682</td>\n",
       "      <td>380.0</td>\n",
       "      <td>...</td>\n",
       "      <td>1</td>\n",
       "      <td>0-4</td>\n",
       "      <td>person</td>\n",
       "      <td>click</td>\n",
       "      <td>False</td>\n",
       "      <td>20090312455206810_q1</td>\n",
       "      <td>1</td>\n",
       "      <td>20090312455206810</td>\n",
       "      <td>q1</td>\n",
       "      <td>1</td>\n",
       "    </tr>\n",
       "    <tr>\n",
       "      <th>3</th>\n",
       "      <td>20090312431273200</td>\n",
       "      <td>3</td>\n",
       "      <td>1147</td>\n",
       "      <td>person_click</td>\n",
       "      <td>basic</td>\n",
       "      <td>0</td>\n",
       "      <td>NaN</td>\n",
       "      <td>-413.991394</td>\n",
       "      <td>-159.314682</td>\n",
       "      <td>380.0</td>\n",
       "      <td>...</td>\n",
       "      <td>1</td>\n",
       "      <td>0-4</td>\n",
       "      <td>person</td>\n",
       "      <td>click</td>\n",
       "      <td>False</td>\n",
       "      <td>20090313091715820_q1</td>\n",
       "      <td>0</td>\n",
       "      <td>20090313091715820</td>\n",
       "      <td>q1</td>\n",
       "      <td>1</td>\n",
       "    </tr>\n",
       "    <tr>\n",
       "      <th>4</th>\n",
       "      <td>20090312431273200</td>\n",
       "      <td>4</td>\n",
       "      <td>1863</td>\n",
       "      <td>person_click</td>\n",
       "      <td>basic</td>\n",
       "      <td>0</td>\n",
       "      <td>NaN</td>\n",
       "      <td>-412.991394</td>\n",
       "      <td>-159.314682</td>\n",
       "      <td>381.0</td>\n",
       "      <td>...</td>\n",
       "      <td>1</td>\n",
       "      <td>0-4</td>\n",
       "      <td>person</td>\n",
       "      <td>click</td>\n",
       "      <td>True</td>\n",
       "      <td>20090313571836404_q1</td>\n",
       "      <td>1</td>\n",
       "      <td>20090313571836404</td>\n",
       "      <td>q1</td>\n",
       "      <td>1</td>\n",
       "    </tr>\n",
       "  </tbody>\n",
       "</table>\n",
       "<p>5 rows × 28 columns</p>\n",
       "</div>"
      ],
      "text/plain": [
       "          session_id  index  elapsed_time      event_name   name  level  page  \\\n",
       "0  20090312431273200      0             0  cutscene_click  basic      0   NaN   \n",
       "1  20090312431273200      1          1323    person_click  basic      0   NaN   \n",
       "2  20090312431273200      2           831    person_click  basic      0   NaN   \n",
       "3  20090312431273200      3          1147    person_click  basic      0   NaN   \n",
       "4  20090312431273200      4          1863    person_click  basic      0   NaN   \n",
       "\n",
       "   room_coor_x  room_coor_y  screen_coor_x  ...  music  level_group  event_id  \\\n",
       "0  -413.991394  -159.314682          380.0  ...      1          0-4  cutscene   \n",
       "1  -413.991394  -159.314682          380.0  ...      1          0-4    person   \n",
       "2  -413.991394  -159.314682          380.0  ...      1          0-4    person   \n",
       "3  -413.991394  -159.314682          380.0  ...      1          0-4    person   \n",
       "4  -412.991394  -159.314682          381.0  ...      1          0-4    person   \n",
       "\n",
       "  event_name_activity Source_questionMark            session_id correct  \\\n",
       "0               click               False  20090312431273200_q1       1   \n",
       "1               click                True  20090312433251036_q1       0   \n",
       "2               click               False  20090312455206810_q1       1   \n",
       "3               click               False  20090313091715820_q1       0   \n",
       "4               click                True  20090313571836404_q1       1   \n",
       "\n",
       "   Session_ID_labels question cluster_label  \n",
       "0  20090312431273200       q1             1  \n",
       "1  20090312433251036       q1             1  \n",
       "2  20090312455206810       q1             1  \n",
       "3  20090313091715820       q1             1  \n",
       "4  20090313571836404       q1             1  \n",
       "\n",
       "[5 rows x 28 columns]"
      ]
     },
     "execution_count": 33,
     "metadata": {},
     "output_type": "execute_result"
    }
   ],
   "source": [
    "clusteringImplementedData.head()"
   ]
  },
  {
   "cell_type": "code",
   "execution_count": 34,
   "id": "28d9e1ce",
   "metadata": {
    "execution": {
     "iopub.execute_input": "2023-06-06T18:53:29.831909Z",
     "iopub.status.busy": "2023-06-06T18:53:29.831113Z",
     "iopub.status.idle": "2023-06-06T18:53:29.881491Z",
     "shell.execute_reply": "2023-06-06T18:53:29.880390Z"
    },
    "papermill": {
     "duration": 0.09537,
     "end_time": "2023-06-06T18:53:29.884431",
     "exception": false,
     "start_time": "2023-06-06T18:53:29.789061",
     "status": "completed"
    },
    "tags": []
   },
   "outputs": [],
   "source": [
    "clusteringImplementedData_clusterOne = clusteringImplementedData.loc[clusteringImplementedData['cluster_label'] == 0]"
   ]
  },
  {
   "cell_type": "code",
   "execution_count": 35,
   "id": "11788941",
   "metadata": {
    "execution": {
     "iopub.execute_input": "2023-06-06T18:53:29.967984Z",
     "iopub.status.busy": "2023-06-06T18:53:29.967163Z",
     "iopub.status.idle": "2023-06-06T18:53:29.997529Z",
     "shell.execute_reply": "2023-06-06T18:53:29.996642Z"
    },
    "papermill": {
     "duration": 0.074595,
     "end_time": "2023-06-06T18:53:30.000143",
     "exception": false,
     "start_time": "2023-06-06T18:53:29.925548",
     "status": "completed"
    },
    "tags": []
   },
   "outputs": [
    {
     "data": {
      "text/html": [
       "<div>\n",
       "<style scoped>\n",
       "    .dataframe tbody tr th:only-of-type {\n",
       "        vertical-align: middle;\n",
       "    }\n",
       "\n",
       "    .dataframe tbody tr th {\n",
       "        vertical-align: top;\n",
       "    }\n",
       "\n",
       "    .dataframe thead th {\n",
       "        text-align: right;\n",
       "    }\n",
       "</style>\n",
       "<table border=\"1\" class=\"dataframe\">\n",
       "  <thead>\n",
       "    <tr style=\"text-align: right;\">\n",
       "      <th></th>\n",
       "      <th>session_id</th>\n",
       "      <th>index</th>\n",
       "      <th>elapsed_time</th>\n",
       "      <th>event_name</th>\n",
       "      <th>name</th>\n",
       "      <th>level</th>\n",
       "      <th>page</th>\n",
       "      <th>room_coor_x</th>\n",
       "      <th>room_coor_y</th>\n",
       "      <th>screen_coor_x</th>\n",
       "      <th>...</th>\n",
       "      <th>music</th>\n",
       "      <th>level_group</th>\n",
       "      <th>event_id</th>\n",
       "      <th>event_name_activity</th>\n",
       "      <th>Source_questionMark</th>\n",
       "      <th>session_id</th>\n",
       "      <th>correct</th>\n",
       "      <th>Session_ID_labels</th>\n",
       "      <th>question</th>\n",
       "      <th>cluster_label</th>\n",
       "    </tr>\n",
       "  </thead>\n",
       "  <tbody>\n",
       "    <tr>\n",
       "      <th>10</th>\n",
       "      <td>20090312431273200</td>\n",
       "      <td>10</td>\n",
       "      <td>9133</td>\n",
       "      <td>navigate_click</td>\n",
       "      <td>undefined</td>\n",
       "      <td>0</td>\n",
       "      <td>NaN</td>\n",
       "      <td>501.110046</td>\n",
       "      <td>-160.748169</td>\n",
       "      <td>605.0</td>\n",
       "      <td>...</td>\n",
       "      <td>1</td>\n",
       "      <td>0-4</td>\n",
       "      <td>navigate</td>\n",
       "      <td>click</td>\n",
       "      <td>NaN</td>\n",
       "      <td>20090315081004164_q1</td>\n",
       "      <td>0</td>\n",
       "      <td>20090315081004164</td>\n",
       "      <td>q1</td>\n",
       "      <td>0</td>\n",
       "    </tr>\n",
       "    <tr>\n",
       "      <th>12</th>\n",
       "      <td>20090312431273200</td>\n",
       "      <td>12</td>\n",
       "      <td>12030</td>\n",
       "      <td>navigate_click</td>\n",
       "      <td>undefined</td>\n",
       "      <td>0</td>\n",
       "      <td>NaN</td>\n",
       "      <td>510.081482</td>\n",
       "      <td>-106.352097</td>\n",
       "      <td>614.0</td>\n",
       "      <td>...</td>\n",
       "      <td>1</td>\n",
       "      <td>0-4</td>\n",
       "      <td>navigate</td>\n",
       "      <td>click</td>\n",
       "      <td>NaN</td>\n",
       "      <td>20090315101457836_q1</td>\n",
       "      <td>1</td>\n",
       "      <td>20090315101457836</td>\n",
       "      <td>q1</td>\n",
       "      <td>0</td>\n",
       "    </tr>\n",
       "    <tr>\n",
       "      <th>14</th>\n",
       "      <td>20090312431273200</td>\n",
       "      <td>14</td>\n",
       "      <td>14814</td>\n",
       "      <td>navigate_click</td>\n",
       "      <td>undefined</td>\n",
       "      <td>0</td>\n",
       "      <td>NaN</td>\n",
       "      <td>273.991425</td>\n",
       "      <td>-196.802368</td>\n",
       "      <td>406.0</td>\n",
       "      <td>...</td>\n",
       "      <td>1</td>\n",
       "      <td>0-4</td>\n",
       "      <td>navigate</td>\n",
       "      <td>click</td>\n",
       "      <td>NaN</td>\n",
       "      <td>20090315270479452_q1</td>\n",
       "      <td>0</td>\n",
       "      <td>20090315270479452</td>\n",
       "      <td>q1</td>\n",
       "      <td>0</td>\n",
       "    </tr>\n",
       "    <tr>\n",
       "      <th>15</th>\n",
       "      <td>20090312431273200</td>\n",
       "      <td>15</td>\n",
       "      <td>15498</td>\n",
       "      <td>navigate_click</td>\n",
       "      <td>undefined</td>\n",
       "      <td>0</td>\n",
       "      <td>NaN</td>\n",
       "      <td>185.708466</td>\n",
       "      <td>-205.806534</td>\n",
       "      <td>363.0</td>\n",
       "      <td>...</td>\n",
       "      <td>1</td>\n",
       "      <td>0-4</td>\n",
       "      <td>navigate</td>\n",
       "      <td>click</td>\n",
       "      <td>NaN</td>\n",
       "      <td>20090316152177500_q1</td>\n",
       "      <td>1</td>\n",
       "      <td>20090316152177500</td>\n",
       "      <td>q1</td>\n",
       "      <td>0</td>\n",
       "    </tr>\n",
       "    <tr>\n",
       "      <th>16</th>\n",
       "      <td>20090312431273200</td>\n",
       "      <td>16</td>\n",
       "      <td>16046</td>\n",
       "      <td>navigate_click</td>\n",
       "      <td>undefined</td>\n",
       "      <td>0</td>\n",
       "      <td>NaN</td>\n",
       "      <td>0.583565</td>\n",
       "      <td>-225.691299</td>\n",
       "      <td>234.0</td>\n",
       "      <td>...</td>\n",
       "      <td>1</td>\n",
       "      <td>0-4</td>\n",
       "      <td>navigate</td>\n",
       "      <td>click</td>\n",
       "      <td>NaN</td>\n",
       "      <td>20090316190523732_q1</td>\n",
       "      <td>1</td>\n",
       "      <td>20090316190523732</td>\n",
       "      <td>q1</td>\n",
       "      <td>0</td>\n",
       "    </tr>\n",
       "  </tbody>\n",
       "</table>\n",
       "<p>5 rows × 28 columns</p>\n",
       "</div>"
      ],
      "text/plain": [
       "           session_id  index  elapsed_time      event_name       name  level  \\\n",
       "10  20090312431273200     10          9133  navigate_click  undefined      0   \n",
       "12  20090312431273200     12         12030  navigate_click  undefined      0   \n",
       "14  20090312431273200     14         14814  navigate_click  undefined      0   \n",
       "15  20090312431273200     15         15498  navigate_click  undefined      0   \n",
       "16  20090312431273200     16         16046  navigate_click  undefined      0   \n",
       "\n",
       "    page  room_coor_x  room_coor_y  screen_coor_x  ...  music  level_group  \\\n",
       "10   NaN   501.110046  -160.748169          605.0  ...      1          0-4   \n",
       "12   NaN   510.081482  -106.352097          614.0  ...      1          0-4   \n",
       "14   NaN   273.991425  -196.802368          406.0  ...      1          0-4   \n",
       "15   NaN   185.708466  -205.806534          363.0  ...      1          0-4   \n",
       "16   NaN     0.583565  -225.691299          234.0  ...      1          0-4   \n",
       "\n",
       "    event_id event_name_activity Source_questionMark            session_id  \\\n",
       "10  navigate               click                 NaN  20090315081004164_q1   \n",
       "12  navigate               click                 NaN  20090315101457836_q1   \n",
       "14  navigate               click                 NaN  20090315270479452_q1   \n",
       "15  navigate               click                 NaN  20090316152177500_q1   \n",
       "16  navigate               click                 NaN  20090316190523732_q1   \n",
       "\n",
       "   correct  Session_ID_labels question cluster_label  \n",
       "10       0  20090315081004164       q1             0  \n",
       "12       1  20090315101457836       q1             0  \n",
       "14       0  20090315270479452       q1             0  \n",
       "15       1  20090316152177500       q1             0  \n",
       "16       1  20090316190523732       q1             0  \n",
       "\n",
       "[5 rows x 28 columns]"
      ]
     },
     "execution_count": 35,
     "metadata": {},
     "output_type": "execute_result"
    }
   ],
   "source": [
    "clusteringImplementedData_clusterOne.head()"
   ]
  },
  {
   "cell_type": "code",
   "execution_count": 36,
   "id": "62e598b8",
   "metadata": {
    "execution": {
     "iopub.execute_input": "2023-06-06T18:53:30.083001Z",
     "iopub.status.busy": "2023-06-06T18:53:30.082565Z",
     "iopub.status.idle": "2023-06-06T18:53:30.155312Z",
     "shell.execute_reply": "2023-06-06T18:53:30.154437Z"
    },
    "papermill": {
     "duration": 0.117965,
     "end_time": "2023-06-06T18:53:30.158377",
     "exception": false,
     "start_time": "2023-06-06T18:53:30.040412",
     "status": "completed"
    },
    "tags": []
   },
   "outputs": [
    {
     "name": "stdout",
     "output_type": "stream",
     "text": [
      "Total number of level present in first cluster:\n",
      "13-22    140350\n",
      "5-12      91210\n",
      "0-4       38338\n",
      "Name: level_group, dtype: int64\n",
      "\n",
      "\n",
      "Events that dominated in the first cluster looks similar:\n",
      "navigate_click        179177\n",
      "object_click           35890\n",
      "object_hover           19099\n",
      "map_hover              17316\n",
      "notebook_click          8712\n",
      "map_click               8555\n",
      "checkpoint              1149\n",
      "cutscene_click             0\n",
      "notification_click         0\n",
      "observation_click          0\n",
      "person_click               0\n",
      "Name: event_name, dtype: int64\n",
      "\n",
      "\n",
      "Questions which had similar number of outcome in terms of student performance are:\n"
     ]
    },
    {
     "data": {
      "text/plain": [
       "q4     15689\n",
       "q15    15656\n",
       "q10    15523\n",
       "q7     15477\n",
       "q13    15447\n",
       "q17    15365\n",
       "q2     15316\n",
       "q1     15222\n",
       "q6     15098\n",
       "q5     14947\n",
       "q9     14848\n",
       "q8     14752\n",
       "q16    14711\n",
       "q14    14525\n",
       "q11    14508\n",
       "q3     14443\n",
       "q12    14315\n",
       "q18    14056\n",
       "Name: question, dtype: int64"
      ]
     },
     "execution_count": 36,
     "metadata": {},
     "output_type": "execute_result"
    }
   ],
   "source": [
    "print(\"Total number of level present in first cluster:\")\n",
    "print(clusteringImplementedData_clusterOne['level_group'].value_counts())\n",
    "print('\\n')\n",
    "print(\"Events that dominated in the first cluster looks similar:\")\n",
    "print(clusteringImplementedData_clusterOne['event_name'].value_counts())\n",
    "print('\\n')\n",
    "print('Questions which had similar number of outcome in terms of student performance are:')\n",
    "clusteringImplementedData_clusterOne['question'].value_counts()"
   ]
  },
  {
   "cell_type": "code",
   "execution_count": 37,
   "id": "24beaea7",
   "metadata": {
    "execution": {
     "iopub.execute_input": "2023-06-06T18:53:30.241178Z",
     "iopub.status.busy": "2023-06-06T18:53:30.240059Z",
     "iopub.status.idle": "2023-06-06T18:53:30.327283Z",
     "shell.execute_reply": "2023-06-06T18:53:30.326139Z"
    },
    "papermill": {
     "duration": 0.131821,
     "end_time": "2023-06-06T18:53:30.330280",
     "exception": false,
     "start_time": "2023-06-06T18:53:30.198459",
     "status": "completed"
    },
    "tags": []
   },
   "outputs": [
    {
     "name": "stdout",
     "output_type": "stream",
     "text": [
      "Total number of level present in second cluster:\n",
      "13-22    77632\n",
      "5-12     52799\n",
      "0-4      23787\n",
      "Name: level_group, dtype: int64\n",
      "\n",
      "\n",
      "Events that dominated in the second cluster looks similar:\n",
      "person_click          97449\n",
      "cutscene_click        42884\n",
      "notification_click    10328\n",
      "observation_click      3557\n",
      "checkpoint                0\n",
      "map_click                 0\n",
      "map_hover                 0\n",
      "navigate_click            0\n",
      "notebook_click            0\n",
      "object_click              0\n",
      "object_hover              0\n",
      "Name: event_name, dtype: int64\n",
      "\n",
      "\n",
      "Questions which had similar number of outcome in terms of student performance are:\n"
     ]
    },
    {
     "data": {
      "text/plain": [
       "q18    9506\n",
       "q12    9247\n",
       "q3     9119\n",
       "q11    9054\n",
       "q14    9037\n",
       "q16    8851\n",
       "q8     8810\n",
       "q9     8714\n",
       "q5     8615\n",
       "q6     8464\n",
       "q1     8340\n",
       "q2     8246\n",
       "q17    8197\n",
       "q13    8115\n",
       "q7     8085\n",
       "q10    8039\n",
       "q15    7906\n",
       "q4     7873\n",
       "Name: question, dtype: int64"
      ]
     },
     "execution_count": 37,
     "metadata": {},
     "output_type": "execute_result"
    }
   ],
   "source": [
    "clusteringImplementedData_clusterOne = clusteringImplementedData.loc[clusteringImplementedData['cluster_label'] == 1]\n",
    "print(\"Total number of level present in second cluster:\")\n",
    "print(clusteringImplementedData_clusterOne['level_group'].value_counts())\n",
    "print('\\n')\n",
    "print(\"Events that dominated in the second cluster looks similar:\")\n",
    "print(clusteringImplementedData_clusterOne['event_name'].value_counts())\n",
    "print('\\n')\n",
    "print('Questions which had similar number of outcome in terms of student performance are:')\n",
    "clusteringImplementedData_clusterOne['question'].value_counts()"
   ]
  },
  {
   "cell_type": "markdown",
   "id": "b2bcccb7",
   "metadata": {
    "papermill": {
     "duration": 0.040568,
     "end_time": "2023-06-06T18:53:30.412294",
     "exception": false,
     "start_time": "2023-06-06T18:53:30.371726",
     "status": "completed"
    },
    "tags": []
   },
   "source": [
    "# Classification"
   ]
  },
  {
   "cell_type": "code",
   "execution_count": 38,
   "id": "3ef729a5",
   "metadata": {
    "execution": {
     "iopub.execute_input": "2023-06-06T18:53:30.498241Z",
     "iopub.status.busy": "2023-06-06T18:53:30.497397Z",
     "iopub.status.idle": "2023-06-06T18:53:30.501703Z",
     "shell.execute_reply": "2023-06-06T18:53:30.500877Z"
    },
    "papermill": {
     "duration": 0.050793,
     "end_time": "2023-06-06T18:53:30.504162",
     "exception": false,
     "start_time": "2023-06-06T18:53:30.453369",
     "status": "completed"
    },
    "tags": []
   },
   "outputs": [],
   "source": [
    "# # Rename the duplicate column\n",
    "# clusteringImplementedData = clusteringImplementedData.rename(columns={'session_id': 'session_id_1'})\n"
   ]
  },
  {
   "cell_type": "code",
   "execution_count": 39,
   "id": "aa490582",
   "metadata": {
    "execution": {
     "iopub.execute_input": "2023-06-06T18:53:30.587719Z",
     "iopub.status.busy": "2023-06-06T18:53:30.586923Z",
     "iopub.status.idle": "2023-06-06T18:53:30.594114Z",
     "shell.execute_reply": "2023-06-06T18:53:30.593237Z"
    },
    "papermill": {
     "duration": 0.051439,
     "end_time": "2023-06-06T18:53:30.596406",
     "exception": false,
     "start_time": "2023-06-06T18:53:30.544967",
     "status": "completed"
    },
    "tags": []
   },
   "outputs": [
    {
     "data": {
      "text/plain": [
       "Index(['session_id', 'index', 'elapsed_time', 'event_name', 'name', 'level',\n",
       "       'page', 'room_coor_x', 'room_coor_y', 'screen_coor_x', 'screen_coor_y',\n",
       "       'hover_duration', 'text', 'fqid', 'room_fqid', 'text_fqid',\n",
       "       'fullscreen', 'hq', 'music', 'level_group', 'event_id',\n",
       "       'event_name_activity', 'Source_questionMark', 'session_id', 'correct',\n",
       "       'Session_ID_labels', 'question', 'cluster_label'],\n",
       "      dtype='object')"
      ]
     },
     "execution_count": 39,
     "metadata": {},
     "output_type": "execute_result"
    }
   ],
   "source": [
    "clusteringImplementedData.columns"
   ]
  },
  {
   "cell_type": "code",
   "execution_count": 40,
   "id": "bb006144",
   "metadata": {
    "execution": {
     "iopub.execute_input": "2023-06-06T18:53:30.680000Z",
     "iopub.status.busy": "2023-06-06T18:53:30.679185Z",
     "iopub.status.idle": "2023-06-06T18:53:30.685762Z",
     "shell.execute_reply": "2023-06-06T18:53:30.684862Z"
    },
    "papermill": {
     "duration": 0.050924,
     "end_time": "2023-06-06T18:53:30.688195",
     "exception": false,
     "start_time": "2023-06-06T18:53:30.637271",
     "status": "completed"
    },
    "tags": []
   },
   "outputs": [],
   "source": [
    "clusteringImplementedData.columns = ['session_id', 'index', 'elapsed_time', 'event_name', 'name', 'level',\n",
    "       'page', 'room_coor_x', 'room_coor_y', 'screen_coor_x', 'screen_coor_y',\n",
    "       'hover_duration', 'text', 'fqid', 'room_fqid', 'text_fqid',\n",
    "       'fullscreen', 'hq', 'music', 'level_group', 'event_id',\n",
    "       'event_name_activity', 'Source_questionMark', 'session_id_1_to_remove', 'correct',\n",
    "       'Session_ID_labels', 'question', 'cluster_label']"
   ]
  },
  {
   "cell_type": "code",
   "execution_count": 41,
   "id": "1fac77e8",
   "metadata": {
    "execution": {
     "iopub.execute_input": "2023-06-06T18:53:30.772869Z",
     "iopub.status.busy": "2023-06-06T18:53:30.772067Z",
     "iopub.status.idle": "2023-06-06T18:53:30.807189Z",
     "shell.execute_reply": "2023-06-06T18:53:30.806131Z"
    },
    "papermill": {
     "duration": 0.081058,
     "end_time": "2023-06-06T18:53:30.809984",
     "exception": false,
     "start_time": "2023-06-06T18:53:30.728926",
     "status": "completed"
    },
    "tags": []
   },
   "outputs": [],
   "source": [
    "clusteringImplementedData = clusteringImplementedData.drop('session_id_1_to_remove', axis=1)"
   ]
  },
  {
   "cell_type": "code",
   "execution_count": 42,
   "id": "bb2376f9",
   "metadata": {
    "execution": {
     "iopub.execute_input": "2023-06-06T18:53:30.896604Z",
     "iopub.status.busy": "2023-06-06T18:53:30.895833Z",
     "iopub.status.idle": "2023-06-06T18:53:30.904392Z",
     "shell.execute_reply": "2023-06-06T18:53:30.903547Z"
    },
    "papermill": {
     "duration": 0.055118,
     "end_time": "2023-06-06T18:53:30.906717",
     "exception": false,
     "start_time": "2023-06-06T18:53:30.851599",
     "status": "completed"
    },
    "tags": []
   },
   "outputs": [
    {
     "data": {
      "text/plain": [
       "session_id                int64\n",
       "index                     int64\n",
       "elapsed_time              int32\n",
       "event_name             category\n",
       "name                   category\n",
       "level                     uint8\n",
       "page                    float64\n",
       "room_coor_x             float32\n",
       "room_coor_y             float32\n",
       "screen_coor_x           float32\n",
       "screen_coor_y           float32\n",
       "hover_duration          float32\n",
       "text                   category\n",
       "fqid                   category\n",
       "room_fqid              category\n",
       "text_fqid              category\n",
       "fullscreen             category\n",
       "hq                     category\n",
       "music                  category\n",
       "level_group            category\n",
       "event_id                 object\n",
       "event_name_activity      object\n",
       "Source_questionMark      object\n",
       "correct                   int64\n",
       "Session_ID_labels        object\n",
       "question                 object\n",
       "cluster_label             int32\n",
       "dtype: object"
      ]
     },
     "execution_count": 42,
     "metadata": {},
     "output_type": "execute_result"
    }
   ],
   "source": [
    "clusteringImplementedData.dtypes"
   ]
  },
  {
   "cell_type": "code",
   "execution_count": 43,
   "id": "0a97db57",
   "metadata": {
    "execution": {
     "iopub.execute_input": "2023-06-06T18:53:30.990714Z",
     "iopub.status.busy": "2023-06-06T18:53:30.989960Z",
     "iopub.status.idle": "2023-06-06T18:53:30.996377Z",
     "shell.execute_reply": "2023-06-06T18:53:30.995419Z"
    },
    "papermill": {
     "duration": 0.051082,
     "end_time": "2023-06-06T18:53:30.998758",
     "exception": false,
     "start_time": "2023-06-06T18:53:30.947676",
     "status": "completed"
    },
    "tags": []
   },
   "outputs": [
    {
     "data": {
      "text/plain": [
       "(424116, 27)"
      ]
     },
     "execution_count": 43,
     "metadata": {},
     "output_type": "execute_result"
    }
   ],
   "source": [
    "clusteringImplementedData.shape"
   ]
  },
  {
   "cell_type": "code",
   "execution_count": 44,
   "id": "540344b6",
   "metadata": {
    "execution": {
     "iopub.execute_input": "2023-06-06T18:53:31.083079Z",
     "iopub.status.busy": "2023-06-06T18:53:31.082245Z",
     "iopub.status.idle": "2023-06-06T18:53:41.438509Z",
     "shell.execute_reply": "2023-06-06T18:53:41.437276Z"
    },
    "papermill": {
     "duration": 10.401761,
     "end_time": "2023-06-06T18:53:41.441519",
     "exception": false,
     "start_time": "2023-06-06T18:53:31.039758",
     "status": "completed"
    },
    "tags": []
   },
   "outputs": [],
   "source": [
    "import tensorflow as tf\n",
    "import tensorflow_addons as tfa\n",
    "import tensorflow_decision_forests as tfdf\n",
    "\n",
    "import pandas as pd\n",
    "import numpy as np\n",
    "import matplotlib.pyplot as plt\n",
    "\n",
    "import warnings\n",
    "warnings.filterwarnings('ignore')"
   ]
  },
  {
   "cell_type": "code",
   "execution_count": 45,
   "id": "c7192b0d",
   "metadata": {
    "execution": {
     "iopub.execute_input": "2023-06-06T18:53:41.528448Z",
     "iopub.status.busy": "2023-06-06T18:53:41.527217Z",
     "iopub.status.idle": "2023-06-06T18:53:42.691354Z",
     "shell.execute_reply": "2023-06-06T18:53:42.690045Z"
    },
    "papermill": {
     "duration": 1.210657,
     "end_time": "2023-06-06T18:53:42.694352",
     "exception": false,
     "start_time": "2023-06-06T18:53:41.483695",
     "status": "completed"
    },
    "tags": []
   },
   "outputs": [],
   "source": [
    "df_train_labels['session'] = df_train_labels.session_id.apply(lambda x: int(x.split('_')[0]) )\n",
    "df_train_labels['q'] = df_train_labels.session_id.apply(lambda x: int(x.split('_')[-1][1:]) )"
   ]
  },
  {
   "cell_type": "code",
   "execution_count": 46,
   "id": "47f7942c",
   "metadata": {
    "execution": {
     "iopub.execute_input": "2023-06-06T18:53:42.779427Z",
     "iopub.status.busy": "2023-06-06T18:53:42.778635Z",
     "iopub.status.idle": "2023-06-06T18:53:42.797684Z",
     "shell.execute_reply": "2023-06-06T18:53:42.796628Z"
    },
    "papermill": {
     "duration": 0.064384,
     "end_time": "2023-06-06T18:53:42.800182",
     "exception": false,
     "start_time": "2023-06-06T18:53:42.735798",
     "status": "completed"
    },
    "tags": []
   },
   "outputs": [
    {
     "data": {
      "text/html": [
       "<div>\n",
       "<style scoped>\n",
       "    .dataframe tbody tr th:only-of-type {\n",
       "        vertical-align: middle;\n",
       "    }\n",
       "\n",
       "    .dataframe tbody tr th {\n",
       "        vertical-align: top;\n",
       "    }\n",
       "\n",
       "    .dataframe thead th {\n",
       "        text-align: right;\n",
       "    }\n",
       "</style>\n",
       "<table border=\"1\" class=\"dataframe\">\n",
       "  <thead>\n",
       "    <tr style=\"text-align: right;\">\n",
       "      <th></th>\n",
       "      <th>session_id</th>\n",
       "      <th>correct</th>\n",
       "      <th>Session_ID_labels</th>\n",
       "      <th>question</th>\n",
       "      <th>session</th>\n",
       "      <th>q</th>\n",
       "    </tr>\n",
       "  </thead>\n",
       "  <tbody>\n",
       "    <tr>\n",
       "      <th>0</th>\n",
       "      <td>20090312431273200_q1</td>\n",
       "      <td>1</td>\n",
       "      <td>20090312431273200</td>\n",
       "      <td>q1</td>\n",
       "      <td>20090312431273200</td>\n",
       "      <td>1</td>\n",
       "    </tr>\n",
       "    <tr>\n",
       "      <th>1</th>\n",
       "      <td>20090312433251036_q1</td>\n",
       "      <td>0</td>\n",
       "      <td>20090312433251036</td>\n",
       "      <td>q1</td>\n",
       "      <td>20090312433251036</td>\n",
       "      <td>1</td>\n",
       "    </tr>\n",
       "    <tr>\n",
       "      <th>2</th>\n",
       "      <td>20090312455206810_q1</td>\n",
       "      <td>1</td>\n",
       "      <td>20090312455206810</td>\n",
       "      <td>q1</td>\n",
       "      <td>20090312455206810</td>\n",
       "      <td>1</td>\n",
       "    </tr>\n",
       "    <tr>\n",
       "      <th>3</th>\n",
       "      <td>20090313091715820_q1</td>\n",
       "      <td>0</td>\n",
       "      <td>20090313091715820</td>\n",
       "      <td>q1</td>\n",
       "      <td>20090313091715820</td>\n",
       "      <td>1</td>\n",
       "    </tr>\n",
       "    <tr>\n",
       "      <th>4</th>\n",
       "      <td>20090313571836404_q1</td>\n",
       "      <td>1</td>\n",
       "      <td>20090313571836404</td>\n",
       "      <td>q1</td>\n",
       "      <td>20090313571836404</td>\n",
       "      <td>1</td>\n",
       "    </tr>\n",
       "    <tr>\n",
       "      <th>...</th>\n",
       "      <td>...</td>\n",
       "      <td>...</td>\n",
       "      <td>...</td>\n",
       "      <td>...</td>\n",
       "      <td>...</td>\n",
       "      <td>...</td>\n",
       "    </tr>\n",
       "    <tr>\n",
       "      <th>424111</th>\n",
       "      <td>22100215342220508_q18</td>\n",
       "      <td>1</td>\n",
       "      <td>22100215342220508</td>\n",
       "      <td>q18</td>\n",
       "      <td>22100215342220508</td>\n",
       "      <td>18</td>\n",
       "    </tr>\n",
       "    <tr>\n",
       "      <th>424112</th>\n",
       "      <td>22100215460321130_q18</td>\n",
       "      <td>1</td>\n",
       "      <td>22100215460321130</td>\n",
       "      <td>q18</td>\n",
       "      <td>22100215460321130</td>\n",
       "      <td>18</td>\n",
       "    </tr>\n",
       "    <tr>\n",
       "      <th>424113</th>\n",
       "      <td>22100217104993650_q18</td>\n",
       "      <td>1</td>\n",
       "      <td>22100217104993650</td>\n",
       "      <td>q18</td>\n",
       "      <td>22100217104993650</td>\n",
       "      <td>18</td>\n",
       "    </tr>\n",
       "    <tr>\n",
       "      <th>424114</th>\n",
       "      <td>22100219442786200_q18</td>\n",
       "      <td>1</td>\n",
       "      <td>22100219442786200</td>\n",
       "      <td>q18</td>\n",
       "      <td>22100219442786200</td>\n",
       "      <td>18</td>\n",
       "    </tr>\n",
       "    <tr>\n",
       "      <th>424115</th>\n",
       "      <td>22100221145014656_q18</td>\n",
       "      <td>1</td>\n",
       "      <td>22100221145014656</td>\n",
       "      <td>q18</td>\n",
       "      <td>22100221145014656</td>\n",
       "      <td>18</td>\n",
       "    </tr>\n",
       "  </tbody>\n",
       "</table>\n",
       "<p>424116 rows × 6 columns</p>\n",
       "</div>"
      ],
      "text/plain": [
       "                   session_id  correct  Session_ID_labels question  \\\n",
       "0        20090312431273200_q1        1  20090312431273200       q1   \n",
       "1        20090312433251036_q1        0  20090312433251036       q1   \n",
       "2        20090312455206810_q1        1  20090312455206810       q1   \n",
       "3        20090313091715820_q1        0  20090313091715820       q1   \n",
       "4        20090313571836404_q1        1  20090313571836404       q1   \n",
       "...                       ...      ...                ...      ...   \n",
       "424111  22100215342220508_q18        1  22100215342220508      q18   \n",
       "424112  22100215460321130_q18        1  22100215460321130      q18   \n",
       "424113  22100217104993650_q18        1  22100217104993650      q18   \n",
       "424114  22100219442786200_q18        1  22100219442786200      q18   \n",
       "424115  22100221145014656_q18        1  22100221145014656      q18   \n",
       "\n",
       "                  session   q  \n",
       "0       20090312431273200   1  \n",
       "1       20090312433251036   1  \n",
       "2       20090312455206810   1  \n",
       "3       20090313091715820   1  \n",
       "4       20090313571836404   1  \n",
       "...                   ...  ..  \n",
       "424111  22100215342220508  18  \n",
       "424112  22100215460321130  18  \n",
       "424113  22100217104993650  18  \n",
       "424114  22100219442786200  18  \n",
       "424115  22100221145014656  18  \n",
       "\n",
       "[424116 rows x 6 columns]"
      ]
     },
     "execution_count": 46,
     "metadata": {},
     "output_type": "execute_result"
    }
   ],
   "source": [
    "df_train_labels"
   ]
  },
  {
   "cell_type": "code",
   "execution_count": 47,
   "id": "825057d3",
   "metadata": {
    "execution": {
     "iopub.execute_input": "2023-06-06T18:53:42.886763Z",
     "iopub.status.busy": "2023-06-06T18:53:42.885956Z",
     "iopub.status.idle": "2023-06-06T18:53:42.891304Z",
     "shell.execute_reply": "2023-06-06T18:53:42.890404Z"
    },
    "papermill": {
     "duration": 0.05204,
     "end_time": "2023-06-06T18:53:42.893767",
     "exception": false,
     "start_time": "2023-06-06T18:53:42.841727",
     "status": "completed"
    },
    "tags": []
   },
   "outputs": [],
   "source": [
    "CATEGORICAL = ['event_name', 'name','fqid', 'room_fqid', 'text_fqid']\n",
    "NUMERICAL = ['elapsed_time','level','page','room_coor_x', 'room_coor_y', \n",
    "        'screen_coor_x', 'screen_coor_y', 'hover_duration']"
   ]
  },
  {
   "cell_type": "code",
   "execution_count": 48,
   "id": "a52ff126",
   "metadata": {
    "execution": {
     "iopub.execute_input": "2023-06-06T18:53:42.981083Z",
     "iopub.status.busy": "2023-06-06T18:53:42.979519Z",
     "iopub.status.idle": "2023-06-06T18:53:42.990018Z",
     "shell.execute_reply": "2023-06-06T18:53:42.989013Z"
    },
    "papermill": {
     "duration": 0.05752,
     "end_time": "2023-06-06T18:53:42.992655",
     "exception": false,
     "start_time": "2023-06-06T18:53:42.935135",
     "status": "completed"
    },
    "tags": []
   },
   "outputs": [],
   "source": [
    "def feature_engineer(dataset_df):\n",
    "    dfs = []\n",
    "    for c in CATEGORICAL:\n",
    "        tmp = dataset_df.groupby(['session_id','level_group'])[c].agg('nunique')\n",
    "        tmp.name = tmp.name + '_nunique'\n",
    "        dfs.append(tmp)\n",
    "    for c in NUMERICAL:\n",
    "        tmp = dataset_df.groupby(['session_id','level_group'])[c].agg('mean')\n",
    "        dfs.append(tmp)\n",
    "    for c in NUMERICAL:\n",
    "        tmp = dataset_df.groupby(['session_id','level_group'])[c].agg('std')\n",
    "        tmp.name = tmp.name + '_std'\n",
    "        dfs.append(tmp)\n",
    "    dataset_df = pd.concat(dfs,axis=1)\n",
    "    dataset_df = dataset_df.fillna(-1)\n",
    "    dataset_df = dataset_df.reset_index()\n",
    "    dataset_df = dataset_df.set_index('session_id')\n",
    "    return dataset_df"
   ]
  },
  {
   "cell_type": "code",
   "execution_count": 49,
   "id": "c0d666da",
   "metadata": {
    "execution": {
     "iopub.execute_input": "2023-06-06T18:53:43.078971Z",
     "iopub.status.busy": "2023-06-06T18:53:43.078186Z",
     "iopub.status.idle": "2023-06-06T18:53:43.605063Z",
     "shell.execute_reply": "2023-06-06T18:53:43.604117Z"
    },
    "papermill": {
     "duration": 0.572938,
     "end_time": "2023-06-06T18:53:43.607855",
     "exception": false,
     "start_time": "2023-06-06T18:53:43.034917",
     "status": "completed"
    },
    "tags": []
   },
   "outputs": [
    {
     "name": "stdout",
     "output_type": "stream",
     "text": [
      "Full prepared dataset shape is (424116, 27)\n"
     ]
    }
   ],
   "source": [
    "dataset_df = feature_engineer(clusteringImplementedData)\n",
    "print(\"Full prepared dataset shape is {}\".format(clusteringImplementedData.shape))"
   ]
  },
  {
   "cell_type": "code",
   "execution_count": 50,
   "id": "70b11522",
   "metadata": {
    "execution": {
     "iopub.execute_input": "2023-06-06T18:53:43.694044Z",
     "iopub.status.busy": "2023-06-06T18:53:43.693626Z",
     "iopub.status.idle": "2023-06-06T18:53:43.722307Z",
     "shell.execute_reply": "2023-06-06T18:53:43.721326Z"
    },
    "papermill": {
     "duration": 0.074527,
     "end_time": "2023-06-06T18:53:43.724735",
     "exception": false,
     "start_time": "2023-06-06T18:53:43.650208",
     "status": "completed"
    },
    "tags": []
   },
   "outputs": [
    {
     "data": {
      "text/html": [
       "<div>\n",
       "<style scoped>\n",
       "    .dataframe tbody tr th:only-of-type {\n",
       "        vertical-align: middle;\n",
       "    }\n",
       "\n",
       "    .dataframe tbody tr th {\n",
       "        vertical-align: top;\n",
       "    }\n",
       "\n",
       "    .dataframe thead th {\n",
       "        text-align: right;\n",
       "    }\n",
       "</style>\n",
       "<table border=\"1\" class=\"dataframe\">\n",
       "  <thead>\n",
       "    <tr style=\"text-align: right;\">\n",
       "      <th></th>\n",
       "      <th>level_group</th>\n",
       "      <th>event_name_nunique</th>\n",
       "      <th>name_nunique</th>\n",
       "      <th>fqid_nunique</th>\n",
       "      <th>room_fqid_nunique</th>\n",
       "      <th>text_fqid_nunique</th>\n",
       "      <th>elapsed_time</th>\n",
       "      <th>level</th>\n",
       "      <th>page</th>\n",
       "      <th>room_coor_x</th>\n",
       "      <th>...</th>\n",
       "      <th>screen_coor_y</th>\n",
       "      <th>hover_duration</th>\n",
       "      <th>elapsed_time_std</th>\n",
       "      <th>level_std</th>\n",
       "      <th>page_std</th>\n",
       "      <th>room_coor_x_std</th>\n",
       "      <th>room_coor_y_std</th>\n",
       "      <th>screen_coor_x_std</th>\n",
       "      <th>screen_coor_y_std</th>\n",
       "      <th>hover_duration_std</th>\n",
       "    </tr>\n",
       "    <tr>\n",
       "      <th>session_id</th>\n",
       "      <th></th>\n",
       "      <th></th>\n",
       "      <th></th>\n",
       "      <th></th>\n",
       "      <th></th>\n",
       "      <th></th>\n",
       "      <th></th>\n",
       "      <th></th>\n",
       "      <th></th>\n",
       "      <th></th>\n",
       "      <th></th>\n",
       "      <th></th>\n",
       "      <th></th>\n",
       "      <th></th>\n",
       "      <th></th>\n",
       "      <th></th>\n",
       "      <th></th>\n",
       "      <th></th>\n",
       "      <th></th>\n",
       "      <th></th>\n",
       "      <th></th>\n",
       "    </tr>\n",
       "  </thead>\n",
       "  <tbody>\n",
       "    <tr>\n",
       "      <th>20090312431273200</th>\n",
       "      <td>0-4</td>\n",
       "      <td>10</td>\n",
       "      <td>3</td>\n",
       "      <td>30</td>\n",
       "      <td>7</td>\n",
       "      <td>17</td>\n",
       "      <td>8.579356e+04</td>\n",
       "      <td>1.945455</td>\n",
       "      <td>-1.0</td>\n",
       "      <td>7.701275</td>\n",
       "      <td>...</td>\n",
       "      <td>383.044861</td>\n",
       "      <td>0.039825</td>\n",
       "      <td>49246.539458</td>\n",
       "      <td>1.230975</td>\n",
       "      <td>-1.000000</td>\n",
       "      <td>399.296038</td>\n",
       "      <td>129.292411</td>\n",
       "      <td>214.871000</td>\n",
       "      <td>104.082743</td>\n",
       "      <td>0.053790</td>\n",
       "    </tr>\n",
       "    <tr>\n",
       "      <th>20090312431273200</th>\n",
       "      <td>13-22</td>\n",
       "      <td>10</td>\n",
       "      <td>3</td>\n",
       "      <td>49</td>\n",
       "      <td>12</td>\n",
       "      <td>35</td>\n",
       "      <td>1.040601e+06</td>\n",
       "      <td>17.402381</td>\n",
       "      <td>-1.0</td>\n",
       "      <td>-130.347168</td>\n",
       "      <td>...</td>\n",
       "      <td>379.301025</td>\n",
       "      <td>0.014999</td>\n",
       "      <td>126666.129584</td>\n",
       "      <td>2.358652</td>\n",
       "      <td>-1.000000</td>\n",
       "      <td>622.061374</td>\n",
       "      <td>230.370874</td>\n",
       "      <td>240.280218</td>\n",
       "      <td>99.067861</td>\n",
       "      <td>0.021751</td>\n",
       "    </tr>\n",
       "    <tr>\n",
       "      <th>20090312431273200</th>\n",
       "      <td>5-12</td>\n",
       "      <td>10</td>\n",
       "      <td>3</td>\n",
       "      <td>39</td>\n",
       "      <td>11</td>\n",
       "      <td>24</td>\n",
       "      <td>3.572052e+05</td>\n",
       "      <td>8.054054</td>\n",
       "      <td>-1.0</td>\n",
       "      <td>14.306062</td>\n",
       "      <td>...</td>\n",
       "      <td>378.784912</td>\n",
       "      <td>0.016156</td>\n",
       "      <td>80175.676658</td>\n",
       "      <td>2.096919</td>\n",
       "      <td>-1.000000</td>\n",
       "      <td>357.227701</td>\n",
       "      <td>137.409476</td>\n",
       "      <td>203.268560</td>\n",
       "      <td>120.255453</td>\n",
       "      <td>0.021940</td>\n",
       "    </tr>\n",
       "    <tr>\n",
       "      <th>20090312433251036</th>\n",
       "      <td>0-4</td>\n",
       "      <td>11</td>\n",
       "      <td>4</td>\n",
       "      <td>22</td>\n",
       "      <td>6</td>\n",
       "      <td>11</td>\n",
       "      <td>9.763342e+04</td>\n",
       "      <td>1.870504</td>\n",
       "      <td>0.0</td>\n",
       "      <td>-84.045959</td>\n",
       "      <td>...</td>\n",
       "      <td>370.723083</td>\n",
       "      <td>0.022979</td>\n",
       "      <td>67372.714092</td>\n",
       "      <td>1.232616</td>\n",
       "      <td>0.000000</td>\n",
       "      <td>445.980041</td>\n",
       "      <td>156.186242</td>\n",
       "      <td>252.554707</td>\n",
       "      <td>121.062929</td>\n",
       "      <td>0.035248</td>\n",
       "    </tr>\n",
       "    <tr>\n",
       "      <th>20090312433251036</th>\n",
       "      <td>13-22</td>\n",
       "      <td>11</td>\n",
       "      <td>6</td>\n",
       "      <td>73</td>\n",
       "      <td>16</td>\n",
       "      <td>43</td>\n",
       "      <td>2.498852e+06</td>\n",
       "      <td>17.762529</td>\n",
       "      <td>5.1</td>\n",
       "      <td>-30.762283</td>\n",
       "      <td>...</td>\n",
       "      <td>387.930084</td>\n",
       "      <td>0.012006</td>\n",
       "      <td>777382.529186</td>\n",
       "      <td>1.825923</td>\n",
       "      <td>0.863075</td>\n",
       "      <td>529.575656</td>\n",
       "      <td>234.279590</td>\n",
       "      <td>259.288856</td>\n",
       "      <td>133.345693</td>\n",
       "      <td>0.033178</td>\n",
       "    </tr>\n",
       "  </tbody>\n",
       "</table>\n",
       "<p>5 rows × 22 columns</p>\n",
       "</div>"
      ],
      "text/plain": [
       "                  level_group  event_name_nunique  name_nunique  fqid_nunique  \\\n",
       "session_id                                                                      \n",
       "20090312431273200         0-4                  10             3            30   \n",
       "20090312431273200       13-22                  10             3            49   \n",
       "20090312431273200        5-12                  10             3            39   \n",
       "20090312433251036         0-4                  11             4            22   \n",
       "20090312433251036       13-22                  11             6            73   \n",
       "\n",
       "                   room_fqid_nunique  text_fqid_nunique  elapsed_time  \\\n",
       "session_id                                                              \n",
       "20090312431273200                  7                 17  8.579356e+04   \n",
       "20090312431273200                 12                 35  1.040601e+06   \n",
       "20090312431273200                 11                 24  3.572052e+05   \n",
       "20090312433251036                  6                 11  9.763342e+04   \n",
       "20090312433251036                 16                 43  2.498852e+06   \n",
       "\n",
       "                       level  page  room_coor_x  ...  screen_coor_y  \\\n",
       "session_id                                       ...                  \n",
       "20090312431273200   1.945455  -1.0     7.701275  ...     383.044861   \n",
       "20090312431273200  17.402381  -1.0  -130.347168  ...     379.301025   \n",
       "20090312431273200   8.054054  -1.0    14.306062  ...     378.784912   \n",
       "20090312433251036   1.870504   0.0   -84.045959  ...     370.723083   \n",
       "20090312433251036  17.762529   5.1   -30.762283  ...     387.930084   \n",
       "\n",
       "                   hover_duration  elapsed_time_std  level_std  page_std  \\\n",
       "session_id                                                                 \n",
       "20090312431273200        0.039825      49246.539458   1.230975 -1.000000   \n",
       "20090312431273200        0.014999     126666.129584   2.358652 -1.000000   \n",
       "20090312431273200        0.016156      80175.676658   2.096919 -1.000000   \n",
       "20090312433251036        0.022979      67372.714092   1.232616  0.000000   \n",
       "20090312433251036        0.012006     777382.529186   1.825923  0.863075   \n",
       "\n",
       "                   room_coor_x_std  room_coor_y_std  screen_coor_x_std  \\\n",
       "session_id                                                               \n",
       "20090312431273200       399.296038       129.292411         214.871000   \n",
       "20090312431273200       622.061374       230.370874         240.280218   \n",
       "20090312431273200       357.227701       137.409476         203.268560   \n",
       "20090312433251036       445.980041       156.186242         252.554707   \n",
       "20090312433251036       529.575656       234.279590         259.288856   \n",
       "\n",
       "                   screen_coor_y_std  hover_duration_std  \n",
       "session_id                                                \n",
       "20090312431273200         104.082743            0.053790  \n",
       "20090312431273200          99.067861            0.021751  \n",
       "20090312431273200         120.255453            0.021940  \n",
       "20090312433251036         121.062929            0.035248  \n",
       "20090312433251036         133.345693            0.033178  \n",
       "\n",
       "[5 rows x 22 columns]"
      ]
     },
     "execution_count": 50,
     "metadata": {},
     "output_type": "execute_result"
    }
   ],
   "source": [
    "dataset_df.head()"
   ]
  },
  {
   "cell_type": "code",
   "execution_count": 51,
   "id": "8570b1a4",
   "metadata": {
    "execution": {
     "iopub.execute_input": "2023-06-06T18:53:43.812592Z",
     "iopub.status.busy": "2023-06-06T18:53:43.811795Z",
     "iopub.status.idle": "2023-06-06T18:53:43.822557Z",
     "shell.execute_reply": "2023-06-06T18:53:43.821607Z"
    },
    "papermill": {
     "duration": 0.05757,
     "end_time": "2023-06-06T18:53:43.825005",
     "exception": false,
     "start_time": "2023-06-06T18:53:43.767435",
     "status": "completed"
    },
    "tags": []
   },
   "outputs": [
    {
     "name": "stdout",
     "output_type": "stream",
     "text": [
      "909 examples in training, 228 examples in testing.\n"
     ]
    }
   ],
   "source": [
    "def split_dataset(dataset, test_ratio=0.20):\n",
    "    USER_LIST = dataset.index.unique()\n",
    "    split = int(len(USER_LIST) * (1 - 0.20))\n",
    "    return dataset.loc[USER_LIST[:split]], dataset.loc[USER_LIST[split:]]\n",
    "\n",
    "train_x, valid_x = split_dataset(dataset_df)\n",
    "print(\"{} examples in training, {} examples in testing.\".format(\n",
    "    len(train_x), len(valid_x)))"
   ]
  },
  {
   "cell_type": "code",
   "execution_count": 52,
   "id": "7e836b91",
   "metadata": {
    "execution": {
     "iopub.execute_input": "2023-06-06T18:53:43.913180Z",
     "iopub.status.busy": "2023-06-06T18:53:43.912438Z",
     "iopub.status.idle": "2023-06-06T18:53:44.037618Z",
     "shell.execute_reply": "2023-06-06T18:53:44.036703Z"
    },
    "papermill": {
     "duration": 0.171279,
     "end_time": "2023-06-06T18:53:44.040241",
     "exception": false,
     "start_time": "2023-06-06T18:53:43.868962",
     "status": "completed"
    },
    "tags": []
   },
   "outputs": [
    {
     "name": "stdout",
     "output_type": "stream",
     "text": [
      "Resolve hyper-parameter template \"benchmark_rank1\" to \"benchmark_rank1@v1\" -> {'growing_strategy': 'BEST_FIRST_GLOBAL', 'categorical_algorithm': 'RANDOM', 'split_axis': 'SPARSE_OBLIQUE', 'sparse_oblique_normalization': 'MIN_MAX', 'sparse_oblique_num_projections_exponent': 1.0}.\n",
      "Use /tmp/tmpmtl8p568 as temporary training directory\n"
     ]
    }
   ],
   "source": [
    "rf = tfdf.keras.GradientBoostedTreesModel(hyperparameter_template=\"benchmark_rank1\")"
   ]
  },
  {
   "cell_type": "code",
   "execution_count": 53,
   "id": "6ccb4e2c",
   "metadata": {
    "execution": {
     "iopub.execute_input": "2023-06-06T18:53:44.127294Z",
     "iopub.status.busy": "2023-06-06T18:53:44.126453Z",
     "iopub.status.idle": "2023-06-06T18:53:44.133900Z",
     "shell.execute_reply": "2023-06-06T18:53:44.132854Z"
    },
    "papermill": {
     "duration": 0.053873,
     "end_time": "2023-06-06T18:53:44.136593",
     "exception": false,
     "start_time": "2023-06-06T18:53:44.082720",
     "status": "completed"
    },
    "tags": []
   },
   "outputs": [],
   "source": [
    "# Fetch the unique list of user sessions in the validation dataset. We assigned \n",
    "# `session_id` as the index of our feature engineered dataset. Hence fetching \n",
    "# the unique values in the index column will give us a list of users in the \n",
    "# validation set.\n",
    "VALID_USER_LIST = valid_x.index.unique()\n",
    "\n",
    "# Create a dataframe for storing the predictions of each question for all users\n",
    "# in the validation set.\n",
    "# For this, the required size of the data frame is: \n",
    "# (no: of users in validation set  x no of questions).\n",
    "# We will initialize all the predicted values in the data frame to zero.\n",
    "# The dataframe's index column is the user `session_id`s. \n",
    "prediction_df = pd.DataFrame(data=np.zeros((len(VALID_USER_LIST),18)), index=VALID_USER_LIST)\n",
    "\n",
    "# Create an empty dictionary to store the models created for each question.\n",
    "models = {}\n",
    "\n",
    "# Create an empty dictionary to store the evaluation score for each question.\n",
    "evaluation_dict ={}"
   ]
  },
  {
   "cell_type": "code",
   "execution_count": 54,
   "id": "e48336bb",
   "metadata": {
    "execution": {
     "iopub.execute_input": "2023-06-06T18:53:44.223494Z",
     "iopub.status.busy": "2023-06-06T18:53:44.222623Z",
     "iopub.status.idle": "2023-06-06T18:54:22.538527Z",
     "shell.execute_reply": "2023-06-06T18:54:22.537599Z"
    },
    "papermill": {
     "duration": 38.362666,
     "end_time": "2023-06-06T18:54:22.541248",
     "exception": false,
     "start_time": "2023-06-06T18:53:44.178582",
     "status": "completed"
    },
    "tags": []
   },
   "outputs": [
    {
     "name": "stdout",
     "output_type": "stream",
     "text": [
      "### q_no 1 grp 0-4\n"
     ]
    },
    {
     "name": "stderr",
     "output_type": "stream",
     "text": [
      "[INFO 2023-06-06T18:53:52.796005138+00:00 kernel.cc:1214] Loading model from path /tmp/tmp0avxrzu1/model/ with prefix 29da735d9de34ff7\n",
      "[INFO 2023-06-06T18:53:52.800981994+00:00 abstract_model.cc:1311] Engine \"GradientBoostedTreesQuickScorerExtended\" built\n",
      "[INFO 2023-06-06T18:53:52.801407802+00:00 kernel.cc:1046] Use fast generic engine\n"
     ]
    },
    {
     "name": "stdout",
     "output_type": "stream",
     "text": [
      "WARNING: AutoGraph could not transform <function simple_ml_inference_op_with_handle at 0x7f968a156d40> and will run it as-is.\n",
      "Please report this to the TensorFlow team. When filing the bug, set the verbosity to 10 (on Linux, `export AUTOGRAPH_VERBOSITY=10`) and attach the full output.\n",
      "Cause: could not get source code\n",
      "To silence this warning, decorate the function with @tf.autograph.experimental.do_not_convert\n",
      "1/1 [==============================] - 1s 594ms/step - loss: 0.0000e+00 - accuracy: 0.6711\n",
      "1/1 [==============================] - 0s 64ms/step\n",
      "### q_no 2 grp 0-4\n"
     ]
    },
    {
     "name": "stderr",
     "output_type": "stream",
     "text": [
      "[INFO 2023-06-06T18:53:59.81575149+00:00 kernel.cc:1214] Loading model from path /tmp/tmpu594p5ga/model/ with prefix 00359556b2484be8\n",
      "[INFO 2023-06-06T18:53:59.837039538+00:00 kernel.cc:1046] Use fast generic engine\n"
     ]
    },
    {
     "name": "stdout",
     "output_type": "stream",
     "text": [
      "1/1 [==============================] - 0s 196ms/step - loss: 0.0000e+00 - accuracy: 1.0000\n",
      "1/1 [==============================] - 0s 62ms/step\n",
      "### q_no 3 grp 0-4\n"
     ]
    },
    {
     "name": "stderr",
     "output_type": "stream",
     "text": [
      "[INFO 2023-06-06T18:54:01.141758524+00:00 kernel.cc:1214] Loading model from path /tmp/tmpi7nc5sig/model/ with prefix 979e1ebb82364c07\n",
      "[INFO 2023-06-06T18:54:01.143361755+00:00 kernel.cc:1046] Use fast generic engine\n"
     ]
    },
    {
     "name": "stdout",
     "output_type": "stream",
     "text": [
      "1/1 [==============================] - 0s 189ms/step - loss: 0.0000e+00 - accuracy: 0.9474\n",
      "1/1 [==============================] - 0s 63ms/step\n",
      "### q_no 4 grp 5-12\n"
     ]
    },
    {
     "name": "stderr",
     "output_type": "stream",
     "text": [
      "[INFO 2023-06-06T18:54:02.40636965+00:00 kernel.cc:1214] Loading model from path /tmp/tmpj5qhbetj/model/ with prefix cdc17899864a493f\n",
      "[INFO 2023-06-06T18:54:02.409038504+00:00 kernel.cc:1046] Use fast generic engine\n"
     ]
    },
    {
     "name": "stdout",
     "output_type": "stream",
     "text": [
      "1/1 [==============================] - 0s 195ms/step - loss: 0.0000e+00 - accuracy: 0.8684\n",
      "1/1 [==============================] - 0s 63ms/step\n",
      "### q_no 5 grp 5-12\n"
     ]
    },
    {
     "name": "stderr",
     "output_type": "stream",
     "text": [
      "[INFO 2023-06-06T18:54:03.894550477+00:00 kernel.cc:1214] Loading model from path /tmp/tmpz3chimf4/model/ with prefix 7abe3f846f0b4944\n",
      "[INFO 2023-06-06T18:54:03.897914035+00:00 abstract_model.cc:1311] Engine \"GradientBoostedTreesQuickScorerExtended\" built\n",
      "[INFO 2023-06-06T18:54:03.897962803+00:00 kernel.cc:1046] Use fast generic engine\n"
     ]
    },
    {
     "name": "stdout",
     "output_type": "stream",
     "text": [
      "1/1 [==============================] - 0s 188ms/step - loss: 0.0000e+00 - accuracy: 0.5921\n",
      "1/1 [==============================] - 0s 70ms/step\n",
      "### q_no 6 grp 5-12\n"
     ]
    },
    {
     "name": "stderr",
     "output_type": "stream",
     "text": [
      "[INFO 2023-06-06T18:54:05.27802792+00:00 kernel.cc:1214] Loading model from path /tmp/tmptntkk6rx/model/ with prefix d03e540d554b46d7\n",
      "[INFO 2023-06-06T18:54:05.280630839+00:00 kernel.cc:1046] Use fast generic engine\n"
     ]
    },
    {
     "name": "stdout",
     "output_type": "stream",
     "text": [
      "1/1 [==============================] - 0s 190ms/step - loss: 0.0000e+00 - accuracy: 0.7632\n",
      "1/1 [==============================] - 0s 63ms/step\n",
      "### q_no 7 grp 5-12\n"
     ]
    },
    {
     "name": "stderr",
     "output_type": "stream",
     "text": [
      "[INFO 2023-06-06T18:54:06.522946086+00:00 kernel.cc:1214] Loading model from path /tmp/tmpk_94j0bj/model/ with prefix 0b4d7f72132940fb\n",
      "[INFO 2023-06-06T18:54:06.524873382+00:00 kernel.cc:1046] Use fast generic engine\n"
     ]
    },
    {
     "name": "stdout",
     "output_type": "stream",
     "text": [
      "1/1 [==============================] - 0s 211ms/step - loss: 0.0000e+00 - accuracy: 0.7105\n",
      "1/1 [==============================] - 0s 62ms/step\n",
      "### q_no 8 grp 5-12\n"
     ]
    },
    {
     "name": "stderr",
     "output_type": "stream",
     "text": [
      "[INFO 2023-06-06T18:54:07.793855557+00:00 kernel.cc:1214] Loading model from path /tmp/tmp6v6bgmvr/model/ with prefix fb2603f7da8f4d34\n",
      "[INFO 2023-06-06T18:54:07.796400821+00:00 kernel.cc:1046] Use fast generic engine\n"
     ]
    },
    {
     "name": "stdout",
     "output_type": "stream",
     "text": [
      "1/1 [==============================] - 0s 189ms/step - loss: 0.0000e+00 - accuracy: 0.6053\n",
      "1/1 [==============================] - 0s 66ms/step\n",
      "### q_no 9 grp 5-12\n"
     ]
    },
    {
     "name": "stderr",
     "output_type": "stream",
     "text": [
      "[INFO 2023-06-06T18:54:09.06615265+00:00 kernel.cc:1214] Loading model from path /tmp/tmp210uxyab/model/ with prefix 8970fa878d494931\n",
      "[INFO 2023-06-06T18:54:09.06870155+00:00 kernel.cc:1046] Use fast generic engine\n"
     ]
    },
    {
     "name": "stdout",
     "output_type": "stream",
     "text": [
      "1/1 [==============================] - 0s 188ms/step - loss: 0.0000e+00 - accuracy: 0.6447\n",
      "1/1 [==============================] - 0s 60ms/step\n",
      "### q_no 10 grp 5-12\n"
     ]
    },
    {
     "name": "stderr",
     "output_type": "stream",
     "text": [
      "[INFO 2023-06-06T18:54:10.4841346+00:00 kernel.cc:1214] Loading model from path /tmp/tmpp3c71vz9/model/ with prefix 22edecc4aa194f94\n",
      "[INFO 2023-06-06T18:54:10.48624154+00:00 kernel.cc:1046] Use fast generic engine\n"
     ]
    },
    {
     "name": "stdout",
     "output_type": "stream",
     "text": [
      "1/1 [==============================] - 0s 189ms/step - loss: 0.0000e+00 - accuracy: 0.5789\n",
      "1/1 [==============================] - 0s 64ms/step\n",
      "### q_no 11 grp 5-12\n"
     ]
    },
    {
     "name": "stderr",
     "output_type": "stream",
     "text": [
      "[INFO 2023-06-06T18:54:11.974636162+00:00 kernel.cc:1214] Loading model from path /tmp/tmpmn71kycv/model/ with prefix ea4b0289c14f4c26\n",
      "[INFO 2023-06-06T18:54:11.978289931+00:00 kernel.cc:1046] Use fast generic engine\n"
     ]
    },
    {
     "name": "stdout",
     "output_type": "stream",
     "text": [
      "1/1 [==============================] - 0s 187ms/step - loss: 0.0000e+00 - accuracy: 0.5526\n",
      "1/1 [==============================] - 0s 63ms/step\n",
      "### q_no 12 grp 5-12\n"
     ]
    },
    {
     "name": "stderr",
     "output_type": "stream",
     "text": [
      "[INFO 2023-06-06T18:54:13.371584235+00:00 kernel.cc:1214] Loading model from path /tmp/tmpp25e2ls2/model/ with prefix 32235e8f75924288\n",
      "[INFO 2023-06-06T18:54:13.374563632+00:00 kernel.cc:1046] Use fast generic engine\n"
     ]
    },
    {
     "name": "stdout",
     "output_type": "stream",
     "text": [
      "1/1 [==============================] - 0s 189ms/step - loss: 0.0000e+00 - accuracy: 0.9079\n",
      "1/1 [==============================] - 0s 62ms/step\n",
      "### q_no 13 grp 5-12\n"
     ]
    },
    {
     "name": "stderr",
     "output_type": "stream",
     "text": [
      "[INFO 2023-06-06T18:54:14.755665874+00:00 kernel.cc:1214] Loading model from path /tmp/tmppjmv68wh/model/ with prefix 39d1f95d53454342\n",
      "[INFO 2023-06-06T18:54:14.758010791+00:00 abstract_model.cc:1311] Engine \"GradientBoostedTreesQuickScorerExtended\" built\n",
      "[INFO 2023-06-06T18:54:14.758052696+00:00 kernel.cc:1046] Use fast generic engine\n"
     ]
    },
    {
     "name": "stdout",
     "output_type": "stream",
     "text": [
      "1/1 [==============================] - 0s 189ms/step - loss: 0.0000e+00 - accuracy: 0.8026\n",
      "1/1 [==============================] - 0s 65ms/step\n",
      "### q_no 14 grp 13-22\n"
     ]
    },
    {
     "name": "stderr",
     "output_type": "stream",
     "text": [
      "[INFO 2023-06-06T18:54:16.190832819+00:00 kernel.cc:1214] Loading model from path /tmp/tmprs128u15/model/ with prefix f303e3fd38ba4b80\n",
      "[INFO 2023-06-06T18:54:16.19393023+00:00 kernel.cc:1046] Use fast generic engine\n"
     ]
    },
    {
     "name": "stdout",
     "output_type": "stream",
     "text": [
      "1/1 [==============================] - 0s 192ms/step - loss: 0.0000e+00 - accuracy: 0.6974\n",
      "1/1 [==============================] - 0s 64ms/step\n",
      "### q_no 15 grp 13-22\n"
     ]
    },
    {
     "name": "stderr",
     "output_type": "stream",
     "text": [
      "[INFO 2023-06-06T18:54:17.812600181+00:00 kernel.cc:1214] Loading model from path /tmp/tmpr3g2pk6t/model/ with prefix 2135731ab0404dbf\n",
      "[INFO 2023-06-06T18:54:17.815406334+00:00 kernel.cc:1046] Use fast generic engine\n"
     ]
    },
    {
     "name": "stdout",
     "output_type": "stream",
     "text": [
      "1/1 [==============================] - 0s 189ms/step - loss: 0.0000e+00 - accuracy: 0.6184\n",
      "1/1 [==============================] - 0s 64ms/step\n",
      "### q_no 16 grp 13-22\n"
     ]
    },
    {
     "name": "stderr",
     "output_type": "stream",
     "text": [
      "[INFO 2023-06-06T18:54:19.082268725+00:00 kernel.cc:1214] Loading model from path /tmp/tmp_h9x3lhe/model/ with prefix 2f1cd30aa66b4977\n",
      "[INFO 2023-06-06T18:54:19.084285172+00:00 kernel.cc:1046] Use fast generic engine\n"
     ]
    },
    {
     "name": "stdout",
     "output_type": "stream",
     "text": [
      "1/1 [==============================] - 0s 198ms/step - loss: 0.0000e+00 - accuracy: 0.7105\n",
      "1/1 [==============================] - 0s 66ms/step\n",
      "### q_no 17 grp 13-22\n"
     ]
    },
    {
     "name": "stderr",
     "output_type": "stream",
     "text": [
      "[INFO 2023-06-06T18:54:20.561899392+00:00 kernel.cc:1214] Loading model from path /tmp/tmpoc9rrq2q/model/ with prefix aeec1d8adb494206\n",
      "[INFO 2023-06-06T18:54:20.564857195+00:00 kernel.cc:1046] Use fast generic engine\n"
     ]
    },
    {
     "name": "stdout",
     "output_type": "stream",
     "text": [
      "1/1 [==============================] - 0s 197ms/step - loss: 0.0000e+00 - accuracy: 0.5789\n",
      "1/1 [==============================] - 0s 65ms/step\n",
      "### q_no 18 grp 13-22\n"
     ]
    },
    {
     "name": "stderr",
     "output_type": "stream",
     "text": [
      "[INFO 2023-06-06T18:54:21.988548812+00:00 kernel.cc:1214] Loading model from path /tmp/tmpeuuaad5s/model/ with prefix 6b79a869718349ac\n",
      "[INFO 2023-06-06T18:54:21.990525282+00:00 kernel.cc:1046] Use fast generic engine\n"
     ]
    },
    {
     "name": "stdout",
     "output_type": "stream",
     "text": [
      "1/1 [==============================] - 0s 194ms/step - loss: 0.0000e+00 - accuracy: 0.9737\n",
      "1/1 [==============================] - 0s 63ms/step\n"
     ]
    }
   ],
   "source": [
    "# Iterate through questions 1 to 18 to train models for each question, evaluate\n",
    "# the trained model and store the predicted values.\n",
    "for q_no in range(1,19):\n",
    "\n",
    "    # Select level group for the question based on the q_no.\n",
    "    if q_no<=3: grp = '0-4'\n",
    "    elif q_no<=13: grp = '5-12'\n",
    "    elif q_no<=22: grp = '13-22'\n",
    "    print(\"### q_no\", q_no, \"grp\", grp)\n",
    "    \n",
    "        \n",
    "    # Filter the rows in the datasets based on the selected level group. \n",
    "    train_df = train_x.loc[train_x.level_group == grp]\n",
    "    train_users = train_df.index.values\n",
    "    valid_df = valid_x.loc[valid_x.level_group == grp]\n",
    "    valid_users = valid_df.index.values\n",
    "\n",
    "    # Select the labels for the related q_no.\n",
    "    train_labels = df_train_labels.loc[df_train_labels.q==q_no].set_index('session').loc[train_users]\n",
    "    valid_labels = df_train_labels.loc[df_train_labels.q==q_no].set_index('session').loc[valid_users]\n",
    "\n",
    "    # Add the label to the filtered datasets.\n",
    "    train_df[\"correct\"] = train_labels[\"correct\"]\n",
    "    valid_df[\"correct\"] = valid_labels[\"correct\"]\n",
    "\n",
    "    # There's one more step required before we can train the model. \n",
    "    # We need to convert the datatset from Pandas format (pd.DataFrame)\n",
    "    # into TensorFlow Datasets format (tf.data.Dataset).\n",
    "    # TensorFlow Datasets is a high performance data loading library \n",
    "    # which is helpful when training neural networks with accelerators like GPUs and TPUs.\n",
    "    # We are omitting `level_group`, since it is not needed for training anymore.\n",
    "    train_ds = tfdf.keras.pd_dataframe_to_tf_dataset(train_df.loc[:, train_df.columns != 'level_group'], label=\"correct\")\n",
    "    valid_ds = tfdf.keras.pd_dataframe_to_tf_dataset(valid_df.loc[:, valid_df.columns != 'level_group'], label=\"correct\")\n",
    "\n",
    "    # We will now create the Gradient Boosted Trees Model with default settings. \n",
    "    # By default the model is set to train for a classification task.\n",
    "    gbtm = tfdf.keras.GradientBoostedTreesModel(verbose=0)\n",
    "    gbtm.compile(metrics=[\"accuracy\"])\n",
    "\n",
    "    # Train the model.\n",
    "    gbtm.fit(x=train_ds)\n",
    "\n",
    "    # Store the model\n",
    "    models[f'{grp}_{q_no}'] = gbtm\n",
    "\n",
    "    # Evaluate the trained model on the validation dataset and store the \n",
    "    # evaluation accuracy in the `evaluation_dict`.\n",
    "    inspector = gbtm.make_inspector()\n",
    "    inspector.evaluation()\n",
    "    evaluation = gbtm.evaluate(x=valid_ds,return_dict=True)\n",
    "    evaluation_dict[q_no] = evaluation[\"accuracy\"]         \n",
    "\n",
    "    # Use the trained model to make predictions on the validation dataset and \n",
    "    # store the predicted values in the `prediction_df` dataframe.\n",
    "    predict = gbtm.predict(x=valid_ds)\n",
    "    prediction_df.loc[valid_users, q_no-1] = predict.flatten()   "
   ]
  },
  {
   "cell_type": "code",
   "execution_count": 55,
   "id": "0fdfd7bd",
   "metadata": {
    "execution": {
     "iopub.execute_input": "2023-06-06T18:54:22.648408Z",
     "iopub.status.busy": "2023-06-06T18:54:22.647272Z",
     "iopub.status.idle": "2023-06-06T18:54:22.654967Z",
     "shell.execute_reply": "2023-06-06T18:54:22.653607Z"
    },
    "papermill": {
     "duration": 0.063783,
     "end_time": "2023-06-06T18:54:22.657390",
     "exception": false,
     "start_time": "2023-06-06T18:54:22.593607",
     "status": "completed"
    },
    "tags": []
   },
   "outputs": [
    {
     "name": "stdout",
     "output_type": "stream",
     "text": [
      "question 1: accuracy 0.6711\n",
      "question 2: accuracy 1.0000\n",
      "question 3: accuracy 0.9474\n",
      "question 4: accuracy 0.8684\n",
      "question 5: accuracy 0.5921\n",
      "question 6: accuracy 0.7632\n",
      "question 7: accuracy 0.7105\n",
      "question 8: accuracy 0.6053\n",
      "question 9: accuracy 0.6447\n",
      "question 10: accuracy 0.5789\n",
      "question 11: accuracy 0.5526\n",
      "question 12: accuracy 0.9079\n",
      "question 13: accuracy 0.8026\n",
      "question 14: accuracy 0.6974\n",
      "question 15: accuracy 0.6184\n",
      "question 16: accuracy 0.7105\n",
      "question 17: accuracy 0.5789\n",
      "question 18: accuracy 0.9737\n",
      "\n",
      "Average accuracy 0.734649121761322\n"
     ]
    }
   ],
   "source": [
    "for name, value in evaluation_dict.items():\n",
    "  print(f\"question {name}: accuracy {value:.4f}\")\n",
    "\n",
    "print(\"\\nAverage accuracy\", sum(evaluation_dict.values())/18)"
   ]
  },
  {
   "cell_type": "code",
   "execution_count": 56,
   "id": "fa69c6a2",
   "metadata": {
    "execution": {
     "iopub.execute_input": "2023-06-06T18:54:22.763716Z",
     "iopub.status.busy": "2023-06-06T18:54:22.762863Z",
     "iopub.status.idle": "2023-06-06T18:54:22.775900Z",
     "shell.execute_reply": "2023-06-06T18:54:22.774957Z"
    },
    "papermill": {
     "duration": 0.068962,
     "end_time": "2023-06-06T18:54:22.778295",
     "exception": false,
     "start_time": "2023-06-06T18:54:22.709333",
     "status": "completed"
    },
    "tags": []
   },
   "outputs": [
    {
     "data": {
      "text/html": [
       "\n",
       "<script src=\"https://d3js.org/d3.v6.min.js\"></script>\n",
       "<div id=\"tree_plot_68f97f674a424189876b553913e11096\"></div>\n",
       "<script>\n",
       "/*\n",
       " * Copyright 2021 Google LLC.\n",
       " * Licensed under the Apache License, Version 2.0 (the \"License\");\n",
       " * you may not use this file except in compliance with the License.\n",
       " * You may obtain a copy of the License at\n",
       " *\n",
       " *     https://www.apache.org/licenses/LICENSE-2.0\n",
       " *\n",
       " * Unless required by applicable law or agreed to in writing, software\n",
       " * distributed under the License is distributed on an \"AS IS\" BASIS,\n",
       " * WITHOUT WARRANTIES OR CONDITIONS OF ANY KIND, either express or implied.\n",
       " * See the License for the specific language governing permissions and\n",
       " * limitations under the License.\n",
       " */\n",
       "\n",
       "/**\n",
       " *  Plotting of decision trees generated by TF-DF.\n",
       " *\n",
       " *  A tree is a recursive structure of node objects.\n",
       " *  A node contains one or more of the following components:\n",
       " *\n",
       " *    - A value: Representing the output of the node. If the node is not a leaf,\n",
       " *      the value is only present for analysis i.e. it is not used for\n",
       " *      predictions.\n",
       " *\n",
       " *    - A condition : For non-leaf nodes, the condition (also known as split)\n",
       " *      defines a binary test to branch to the positive or negative child.\n",
       " *\n",
       " *    - An explanation: Generally a plot showing the relation between the label\n",
       " *      and the condition to give insights about the effect of the condition.\n",
       " *\n",
       " *    - Two children : For non-leaf nodes, the children nodes. The first\n",
       " *      children (i.e. \"node.children[0]\") is the negative children (drawn in\n",
       " *      red). The second children is the positive one (drawn in green).\n",
       " *\n",
       " */\n",
       "\n",
       "/**\n",
       " * Plots a single decision tree into a DOM element.\n",
       " * @param {!options} options Dictionary of configurations.\n",
       " * @param {!tree} raw_tree Recursive tree structure.\n",
       " * @param {string} canvas_id Id of the output dom element.\n",
       " */\n",
       "function display_tree(options, raw_tree, canvas_id) {\n",
       "  console.log(options);\n",
       "\n",
       "  // Determine the node placement.\n",
       "  const tree_struct = d3.tree().nodeSize(\n",
       "      [options.node_y_offset, options.node_x_offset])(d3.hierarchy(raw_tree));\n",
       "\n",
       "  // Boundaries of the node placement.\n",
       "  let x_min = Infinity;\n",
       "  let x_max = -x_min;\n",
       "  let y_min = Infinity;\n",
       "  let y_max = -x_min;\n",
       "\n",
       "  tree_struct.each(d => {\n",
       "    if (d.x > x_max) x_max = d.x;\n",
       "    if (d.x < x_min) x_min = d.x;\n",
       "    if (d.y > y_max) y_max = d.y;\n",
       "    if (d.y < y_min) y_min = d.y;\n",
       "  });\n",
       "\n",
       "  // Size of the plot.\n",
       "  const width = y_max - y_min + options.node_x_size + options.margin * 2;\n",
       "  const height = x_max - x_min + options.node_y_size + options.margin * 2 +\n",
       "      options.node_y_offset - options.node_y_size;\n",
       "\n",
       "  const plot = d3.select(canvas_id);\n",
       "\n",
       "  // Tool tip\n",
       "  options.tooltip = plot.append('div')\n",
       "                        .attr('width', 100)\n",
       "                        .attr('height', 100)\n",
       "                        .style('padding', '4px')\n",
       "                        .style('background', '#fff')\n",
       "                        .style('box-shadow', '4px 4px 0px rgba(0,0,0,0.1)')\n",
       "                        .style('border', '1px solid black')\n",
       "                        .style('font-family', 'sans-serif')\n",
       "                        .style('font-size', options.font_size)\n",
       "                        .style('position', 'absolute')\n",
       "                        .style('z-index', '10')\n",
       "                        .attr('pointer-events', 'none')\n",
       "                        .style('display', 'none');\n",
       "\n",
       "  // Create canvas\n",
       "  const svg = plot.append('svg').attr('width', width).attr('height', height);\n",
       "  const graph =\n",
       "      svg.style('overflow', 'visible')\n",
       "          .append('g')\n",
       "          .attr('font-family', 'sans-serif')\n",
       "          .attr('font-size', options.font_size)\n",
       "          .attr(\n",
       "              'transform',\n",
       "              () => `translate(${options.margin},${\n",
       "                  - x_min + options.node_y_offset / 2 + options.margin})`);\n",
       "\n",
       "  // Plot bounding box.\n",
       "  if (options.show_plot_bounding_box) {\n",
       "    svg.append('rect')\n",
       "        .attr('width', width)\n",
       "        .attr('height', height)\n",
       "        .attr('fill', 'none')\n",
       "        .attr('stroke-width', 1.0)\n",
       "        .attr('stroke', 'black');\n",
       "  }\n",
       "\n",
       "  // Draw the edges.\n",
       "  display_edges(options, graph, tree_struct);\n",
       "\n",
       "  // Draw the nodes.\n",
       "  display_nodes(options, graph, tree_struct);\n",
       "}\n",
       "\n",
       "/**\n",
       " * Draw the nodes of the tree.\n",
       " * @param {!options} options Dictionary of configurations.\n",
       " * @param {!graph} graph D3 search handle containing the graph.\n",
       " * @param {!tree_struct} tree_struct Structure of the tree (node placement,\n",
       " *     data, etc.).\n",
       " */\n",
       "function display_nodes(options, graph, tree_struct) {\n",
       "  const nodes = graph.append('g')\n",
       "                    .selectAll('g')\n",
       "                    .data(tree_struct.descendants())\n",
       "                    .join('g')\n",
       "                    .attr('transform', d => `translate(${d.y},${d.x})`);\n",
       "\n",
       "  nodes.append('rect')\n",
       "      .attr('x', 0.5)\n",
       "      .attr('y', 0.5)\n",
       "      .attr('width', options.node_x_size)\n",
       "      .attr('height', options.node_y_size)\n",
       "      .attr('stroke', 'lightgrey')\n",
       "      .attr('stroke-width', 1)\n",
       "      .attr('fill', 'white')\n",
       "      .attr('y', -options.node_y_size / 2);\n",
       "\n",
       "  // Brackets on the right of condition nodes without children.\n",
       "  non_leaf_node_without_children =\n",
       "      nodes.filter(node => node.data.condition != null && node.children == null)\n",
       "          .append('g')\n",
       "          .attr('transform', `translate(${options.node_x_size},0)`);\n",
       "\n",
       "  non_leaf_node_without_children.append('path')\n",
       "      .attr('d', 'M0,0 C 10,0 0,10 10,10')\n",
       "      .attr('fill', 'none')\n",
       "      .attr('stroke-width', 1.0)\n",
       "      .attr('stroke', '#F00');\n",
       "\n",
       "  non_leaf_node_without_children.append('path')\n",
       "      .attr('d', 'M0,0 C 10,0 0,-10 10,-10')\n",
       "      .attr('fill', 'none')\n",
       "      .attr('stroke-width', 1.0)\n",
       "      .attr('stroke', '#0F0');\n",
       "\n",
       "  const node_content = nodes.append('g').attr(\n",
       "      'transform',\n",
       "      `translate(0,${options.node_padding - options.node_y_size / 2})`);\n",
       "\n",
       "  node_content.append(node => create_node_element(options, node));\n",
       "}\n",
       "\n",
       "/**\n",
       " * Creates the D3 content for a single node.\n",
       " * @param {!options} options Dictionary of configurations.\n",
       " * @param {!node} node Node to draw.\n",
       " * @return {!d3} D3 content.\n",
       " */\n",
       "function create_node_element(options, node) {\n",
       "  // Output accumulator.\n",
       "  let output = {\n",
       "    // Content to draw.\n",
       "    content: d3.create('svg:g'),\n",
       "    // Vertical offset to the next element to draw.\n",
       "    vertical_offset: 0\n",
       "  };\n",
       "\n",
       "  // Conditions.\n",
       "  if (node.data.condition != null) {\n",
       "    display_condition(options, node.data.condition, output);\n",
       "  }\n",
       "\n",
       "  // Values.\n",
       "  if (node.data.value != null) {\n",
       "    display_value(options, node.data.value, output);\n",
       "  }\n",
       "\n",
       "  // Explanations.\n",
       "  if (node.data.explanation != null) {\n",
       "    display_explanation(options, node.data.explanation, output);\n",
       "  }\n",
       "\n",
       "  return output.content.node();\n",
       "}\n",
       "\n",
       "\n",
       "/**\n",
       " * Adds a single line of text inside of a node.\n",
       " * @param {!options} options Dictionary of configurations.\n",
       " * @param {string} text Text to display.\n",
       " * @param {!output} output Output display accumulator.\n",
       " */\n",
       "function display_node_text(options, text, output) {\n",
       "  output.content.append('text')\n",
       "      .attr('x', options.node_padding)\n",
       "      .attr('y', output.vertical_offset)\n",
       "      .attr('alignment-baseline', 'hanging')\n",
       "      .text(text);\n",
       "  output.vertical_offset += 10;\n",
       "}\n",
       "\n",
       "/**\n",
       " * Adds a single line of text inside of a node with a tooltip.\n",
       " * @param {!options} options Dictionary of configurations.\n",
       " * @param {string} text Text to display.\n",
       " * @param {string} tooltip Text in the Tooltip.\n",
       " * @param {!output} output Output display accumulator.\n",
       " */\n",
       "function display_node_text_with_tooltip(options, text, tooltip, output) {\n",
       "  const item = output.content.append('text')\n",
       "                   .attr('x', options.node_padding)\n",
       "                   .attr('alignment-baseline', 'hanging')\n",
       "                   .text(text);\n",
       "\n",
       "  add_tooltip(options, item, () => tooltip);\n",
       "  output.vertical_offset += 10;\n",
       "}\n",
       "\n",
       "/**\n",
       " * Adds a tooltip to a dom element.\n",
       " * @param {!options} options Dictionary of configurations.\n",
       " * @param {!dom} target Dom element to equip with a tooltip.\n",
       " * @param {!func} get_content Generates the html content of the tooltip.\n",
       " */\n",
       "function add_tooltip(options, target, get_content) {\n",
       "  function show(d) {\n",
       "    options.tooltip.style('display', 'block');\n",
       "    options.tooltip.html(get_content());\n",
       "  }\n",
       "\n",
       "  function hide(d) {\n",
       "    options.tooltip.style('display', 'none');\n",
       "  }\n",
       "\n",
       "  function move(d) {\n",
       "    options.tooltip.style('display', 'block');\n",
       "    options.tooltip.style('left', (d.pageX + 5) + 'px');\n",
       "    options.tooltip.style('top', d.pageY + 'px');\n",
       "  }\n",
       "\n",
       "  target.on('mouseover', show);\n",
       "  target.on('mouseout', hide);\n",
       "  target.on('mousemove', move);\n",
       "}\n",
       "\n",
       "/**\n",
       " * Adds a condition inside of a node.\n",
       " * @param {!options} options Dictionary of configurations.\n",
       " * @param {!condition} condition Condition to display.\n",
       " * @param {!output} output Output display accumulator.\n",
       " */\n",
       "function display_condition(options, condition, output) {\n",
       "  threshold_format = d3.format('r');\n",
       "\n",
       "  if (condition.type === 'IS_MISSING') {\n",
       "    display_node_text(options, `${condition.attribute} is missing`, output);\n",
       "    return;\n",
       "  }\n",
       "\n",
       "  if (condition.type === 'IS_TRUE') {\n",
       "    display_node_text(options, `${condition.attribute} is true`, output);\n",
       "    return;\n",
       "  }\n",
       "\n",
       "  if (condition.type === 'NUMERICAL_IS_HIGHER_THAN') {\n",
       "    format = d3.format('r');\n",
       "    display_node_text(\n",
       "        options,\n",
       "        `${condition.attribute} >= ${threshold_format(condition.threshold)}`,\n",
       "        output);\n",
       "    return;\n",
       "  }\n",
       "\n",
       "  if (condition.type === 'CATEGORICAL_IS_IN') {\n",
       "    display_node_text_with_tooltip(\n",
       "        options, `${condition.attribute} in [...]`,\n",
       "        `${condition.attribute} in [${condition.mask}]`, output);\n",
       "    return;\n",
       "  }\n",
       "\n",
       "  if (condition.type === 'CATEGORICAL_SET_CONTAINS') {\n",
       "    display_node_text_with_tooltip(\n",
       "        options, `${condition.attribute} intersect [...]`,\n",
       "        `${condition.attribute} intersect [${condition.mask}]`, output);\n",
       "    return;\n",
       "  }\n",
       "\n",
       "  if (condition.type === 'NUMERICAL_SPARSE_OBLIQUE') {\n",
       "    display_node_text_with_tooltip(\n",
       "        options, `Sparse oblique split...`,\n",
       "        `[${condition.attributes}]*[${condition.weights}]>=${\n",
       "            threshold_format(condition.threshold)}`,\n",
       "        output);\n",
       "    return;\n",
       "  }\n",
       "\n",
       "  display_node_text(\n",
       "      options, `Non supported condition ${condition.type}`, output);\n",
       "}\n",
       "\n",
       "/**\n",
       " * Adds a value inside of a node.\n",
       " * @param {!options} options Dictionary of configurations.\n",
       " * @param {!value} value Value to display.\n",
       " * @param {!output} output Output display accumulator.\n",
       " */\n",
       "function display_value(options, value, output) {\n",
       "  if (value.type === 'PROBABILITY') {\n",
       "    const left_margin = 0;\n",
       "    const right_margin = 50;\n",
       "    const plot_width = options.node_x_size - options.node_padding * 2 -\n",
       "        left_margin - right_margin;\n",
       "\n",
       "    let cusum = Array.from(d3.cumsum(value.distribution));\n",
       "    cusum.unshift(0);\n",
       "    const distribution_plot = output.content.append('g').attr(\n",
       "        'transform', `translate(0,${output.vertical_offset + 0.5})`);\n",
       "\n",
       "    distribution_plot.selectAll('rect')\n",
       "        .data(value.distribution)\n",
       "        .join('rect')\n",
       "        .attr('height', 10)\n",
       "        .attr(\n",
       "            'x',\n",
       "            (d, i) =>\n",
       "                (cusum[i] * plot_width + left_margin + options.node_padding))\n",
       "        .attr('width', (d, i) => d * plot_width)\n",
       "        .style('fill', (d, i) => d3.schemeSet1[i]);\n",
       "\n",
       "    const num_examples =\n",
       "        output.content.append('g')\n",
       "            .attr('transform', `translate(0,${output.vertical_offset})`)\n",
       "            .append('text')\n",
       "            .attr('x', options.node_x_size - options.node_padding)\n",
       "            .attr('alignment-baseline', 'hanging')\n",
       "            .attr('text-anchor', 'end')\n",
       "            .text(`(${value.num_examples})`);\n",
       "\n",
       "    const distribution_details = d3.create('ul');\n",
       "    distribution_details.selectAll('li')\n",
       "        .data(value.distribution)\n",
       "        .join('li')\n",
       "        .append('span')\n",
       "        .text(\n",
       "            (d, i) =>\n",
       "                'class ' + i + ': ' + d3.format('.3%')(value.distribution[i]));\n",
       "\n",
       "    add_tooltip(options, distribution_plot, () => distribution_details.html());\n",
       "    add_tooltip(options, num_examples, () => 'Number of examples');\n",
       "\n",
       "    output.vertical_offset += 10;\n",
       "    return;\n",
       "  }\n",
       "\n",
       "  if (value.type === 'REGRESSION') {\n",
       "    display_node_text(\n",
       "        options,\n",
       "        'value: ' + d3.format('r')(value.value) + ` (` +\n",
       "            d3.format('.6')(value.num_examples) + `)`,\n",
       "        output);\n",
       "    return;\n",
       "  }\n",
       "\n",
       "  display_node_text(options, `Non supported value ${value.type}`, output);\n",
       "}\n",
       "\n",
       "/**\n",
       " * Adds an explanation inside of a node.\n",
       " * @param {!options} options Dictionary of configurations.\n",
       " * @param {!explanation} explanation Explanation to display.\n",
       " * @param {!output} output Output display accumulator.\n",
       " */\n",
       "function display_explanation(options, explanation, output) {\n",
       "  // Margin before the explanation.\n",
       "  output.vertical_offset += 10;\n",
       "\n",
       "  display_node_text(\n",
       "      options, `Non supported explanation ${explanation.type}`, output);\n",
       "}\n",
       "\n",
       "\n",
       "/**\n",
       " * Draw the edges of the tree.\n",
       " * @param {!options} options Dictionary of configurations.\n",
       " * @param {!graph} graph D3 search handle containing the graph.\n",
       " * @param {!tree_struct} tree_struct Structure of the tree (node placement,\n",
       " *     data, etc.).\n",
       " */\n",
       "function display_edges(options, graph, tree_struct) {\n",
       "  // Draw an edge between a parent and a child node with a bezier.\n",
       "  function draw_single_edge(d) {\n",
       "    return 'M' + (d.source.y + options.node_x_size) + ',' + d.source.x + ' C' +\n",
       "        (d.source.y + options.node_x_size + options.edge_rounding) + ',' +\n",
       "        d.source.x + ' ' + (d.target.y - options.edge_rounding) + ',' +\n",
       "        d.target.x + ' ' + d.target.y + ',' + d.target.x;\n",
       "  }\n",
       "\n",
       "  graph.append('g')\n",
       "      .attr('fill', 'none')\n",
       "      .attr('stroke-width', 1.2)\n",
       "      .selectAll('path')\n",
       "      .data(tree_struct.links())\n",
       "      .join('path')\n",
       "      .attr('d', draw_single_edge)\n",
       "      .attr(\n",
       "          'stroke', d => (d.target === d.source.children[0]) ? '#0F0' : '#F00');\n",
       "}\n",
       "\n",
       "display_tree({\"margin\": 10, \"node_x_size\": 160, \"node_y_size\": 28, \"node_x_offset\": 180, \"node_y_offset\": 33, \"font_size\": 10, \"edge_rounding\": 20, \"node_padding\": 2, \"show_plot_bounding_box\": false}, {\"value\": {\"type\": \"REGRESSION\", \"value\": -9.213051654910487e-09, \"num_examples\": 271.0, \"standard_deviation\": 0.4609445403996034}, \"condition\": {\"type\": \"NUMERICAL_IS_HIGHER_THAN\", \"attribute\": \"room_coor_x\", \"threshold\": 18.893051147460938}, \"children\": [{\"value\": {\"type\": \"REGRESSION\", \"value\": 0.043550923466682434, \"num_examples\": 131.0, \"standard_deviation\": 0.40994569257413316}, \"condition\": {\"type\": \"NUMERICAL_IS_HIGHER_THAN\", \"attribute\": \"screen_coor_x_std\", \"threshold\": 234.69131469726562}, \"children\": [{\"value\": {\"type\": \"REGRESSION\", \"value\": 0.09932465106248856, \"num_examples\": 84.0, \"standard_deviation\": 0.2935435190458493}, \"condition\": {\"type\": \"NUMERICAL_IS_HIGHER_THAN\", \"attribute\": \"screen_coor_x_std\", \"threshold\": 285.2296142578125}, \"children\": [{\"value\": {\"type\": \"REGRESSION\", \"value\": -0.04411306232213974, \"num_examples\": 5.0, \"standard_deviation\": 0.4898979433000847}}, {\"value\": {\"type\": \"REGRESSION\", \"value\": 0.10840298980474472, \"num_examples\": 79.0, \"standard_deviation\": 0.2649170775761085}, \"condition\": {\"type\": \"NUMERICAL_IS_HIGHER_THAN\", \"attribute\": \"level_std\", \"threshold\": 1.3269155025482178}}]}, {\"value\": {\"type\": \"REGRESSION\", \"value\": -0.056129783391952515, \"num_examples\": 47.0, \"standard_deviation\": 0.4944234004980083}, \"condition\": {\"type\": \"NUMERICAL_IS_HIGHER_THAN\", \"attribute\": \"page_std\", \"threshold\": 0.4227392375469208}, \"children\": [{\"value\": {\"type\": \"REGRESSION\", \"value\": -0.15310685336589813, \"num_examples\": 19.0, \"standard_deviation\": 0.48237638181577014}, \"condition\": {\"type\": \"NUMERICAL_IS_HIGHER_THAN\", \"attribute\": \"room_coor_x\", \"threshold\": 51.11260223388672}}, {\"value\": {\"type\": \"REGRESSION\", \"value\": 0.00967608205974102, \"num_examples\": 28.0, \"standard_deviation\": 0.4517539466946683}, \"condition\": {\"type\": \"NUMERICAL_IS_HIGHER_THAN\", \"attribute\": \"room_coor_x_std\", \"threshold\": 425.4591064453125}}]}]}, {\"value\": {\"type\": \"REGRESSION\", \"value\": -0.04075124114751816, \"num_examples\": 140.0, \"standard_deviation\": 0.4883855066094168}, \"condition\": {\"type\": \"NUMERICAL_IS_HIGHER_THAN\", \"attribute\": \"hover_duration\", \"threshold\": 0.02511666715145111}, \"children\": [{\"value\": {\"type\": \"REGRESSION\", \"value\": -0.004478955641388893, \"num_examples\": 114.0, \"standard_deviation\": 0.46482951441526404}, \"condition\": {\"type\": \"NUMERICAL_IS_HIGHER_THAN\", \"attribute\": \"hover_duration\", \"threshold\": 0.06682708859443665}, \"children\": [{\"value\": {\"type\": \"REGRESSION\", \"value\": -0.11732605844736099, \"num_examples\": 18.0, \"standard_deviation\": 0.49690398865131624}, \"condition\": {\"type\": \"NUMERICAL_IS_HIGHER_THAN\", \"attribute\": \"elapsed_time\", \"threshold\": 170631.890625}}, {\"value\": {\"type\": \"REGRESSION\", \"value\": 0.016679875552654266, \"num_examples\": 96.0, \"standard_deviation\": 0.44439018294839566}, \"condition\": {\"type\": \"NUMERICAL_IS_HIGHER_THAN\", \"attribute\": \"room_coor_x\", \"threshold\": -0.2473316788673401}}]}, {\"value\": {\"type\": \"REGRESSION\", \"value\": -0.19979125261306763, \"num_examples\": 26.0, \"standard_deviation\": 0.44356009121133483}, \"condition\": {\"type\": \"NUMERICAL_IS_HIGHER_THAN\", \"attribute\": \"level_std\", \"threshold\": 1.2752270698547363}, \"children\": [{\"value\": {\"type\": \"REGRESSION\", \"value\": 0.00967608205974102, \"num_examples\": 7.0, \"standard_deviation\": 0.4517539466946683}}, {\"value\": {\"type\": \"REGRESSION\", \"value\": -0.2769634425640106, \"num_examples\": 19.0, \"standard_deviation\": 0.30689219059523304}, \"condition\": {\"type\": \"NUMERICAL_IS_HIGHER_THAN\", \"attribute\": \"room_coor_x\", \"threshold\": -41.19451904296875}}]}]}]}, \"#tree_plot_68f97f674a424189876b553913e11096\")\n",
       "</script>\n"
      ],
      "text/plain": [
       "<IPython.core.display.HTML object>"
      ]
     },
     "execution_count": 56,
     "metadata": {},
     "output_type": "execute_result"
    }
   ],
   "source": [
    "tfdf.model_plotter.plot_model_in_colab(models['0-4_1'], tree_idx=0, max_depth=3)"
   ]
  },
  {
   "cell_type": "code",
   "execution_count": 57,
   "id": "40181927",
   "metadata": {
    "execution": {
     "iopub.execute_input": "2023-06-06T18:54:22.887257Z",
     "iopub.status.busy": "2023-06-06T18:54:22.886470Z",
     "iopub.status.idle": "2023-06-06T18:54:23.989764Z",
     "shell.execute_reply": "2023-06-06T18:54:23.988831Z"
    },
    "papermill": {
     "duration": 1.161035,
     "end_time": "2023-06-06T18:54:23.992494",
     "exception": false,
     "start_time": "2023-06-06T18:54:22.831459",
     "status": "completed"
    },
    "tags": []
   },
   "outputs": [
    {
     "name": "stdout",
     "output_type": "stream",
     "text": [
      "Best threshold  0.4900000000000001 \tF1 score  0.6359889\n"
     ]
    }
   ],
   "source": [
    "# Create a dataframe of required size:\n",
    "# (no: of users in validation set x no: of questions) initialized to zero values\n",
    "# to store true values of the label `correct`. \n",
    "true_df = pd.DataFrame(data=np.zeros((len(VALID_USER_LIST),18)), index=VALID_USER_LIST)\n",
    "for i in range(18):\n",
    "    # Get the true labels.\n",
    "    tmp = df_train_labels.loc[df_train_labels.q == i+1].set_index('session').loc[VALID_USER_LIST]\n",
    "    true_df[i] = tmp.correct.values\n",
    "\n",
    "max_score = 0; best_threshold = 0\n",
    "\n",
    "# Loop through threshold values from 0.4 to 0.8 and select the threshold with \n",
    "# the highest `F1 score`.\n",
    "for threshold in np.arange(0.4,0.8,0.01):\n",
    "    metric = tfa.metrics.F1Score(num_classes=2,average=\"macro\",threshold=threshold)\n",
    "    y_true = tf.one_hot(true_df.values.reshape((-1)), depth=2)\n",
    "    y_pred = tf.one_hot((prediction_df.values.reshape((-1))>threshold).astype('int'), depth=2)\n",
    "    metric.update_state(y_true, y_pred)\n",
    "    f1_score = metric.result().numpy()\n",
    "    if f1_score > max_score:\n",
    "        max_score = f1_score\n",
    "        best_threshold = threshold\n",
    "        \n",
    "print(\"Best threshold \", best_threshold, \"\\tF1 score \", max_score)"
   ]
  },
  {
   "cell_type": "code",
   "execution_count": 58,
   "id": "8566824e",
   "metadata": {
    "execution": {
     "iopub.execute_input": "2023-06-06T18:54:24.100381Z",
     "iopub.status.busy": "2023-06-06T18:54:24.099661Z",
     "iopub.status.idle": "2023-06-06T18:54:24.122506Z",
     "shell.execute_reply": "2023-06-06T18:54:24.121503Z"
    },
    "papermill": {
     "duration": 0.079889,
     "end_time": "2023-06-06T18:54:24.125202",
     "exception": false,
     "start_time": "2023-06-06T18:54:24.045313",
     "status": "completed"
    },
    "tags": []
   },
   "outputs": [],
   "source": [
    "# Reference\n",
    "# https://www.kaggle.com/code/philculliton/basic-submission-demo\n",
    "# https://www.kaggle.com/code/cdeotte/random-forest-baseline-0-664/notebook\n",
    "\n",
    "\n",
    "import jo_wilder\n",
    "env = jo_wilder.make_env()\n",
    "iter_test = env.iter_test()\n",
    "\n"
   ]
  },
  {
   "cell_type": "code",
   "execution_count": 59,
   "id": "8f19b434",
   "metadata": {
    "execution": {
     "iopub.execute_input": "2023-06-06T18:54:24.232752Z",
     "iopub.status.busy": "2023-06-06T18:54:24.231987Z",
     "iopub.status.idle": "2023-06-06T18:54:30.124338Z",
     "shell.execute_reply": "2023-06-06T18:54:30.123124Z"
    },
    "papermill": {
     "duration": 5.949406,
     "end_time": "2023-06-06T18:54:30.127287",
     "exception": false,
     "start_time": "2023-06-06T18:54:24.177881",
     "status": "completed"
    },
    "tags": []
   },
   "outputs": [
    {
     "name": "stdout",
     "output_type": "stream",
     "text": [
      "This version of the API is not optimized and should not be used to estimate the runtime of your code on the hidden test set.\n",
      "1/1 [==============================] - 0s 75ms/step\n",
      "1/1 [==============================] - 0s 75ms/step\n",
      "1/1 [==============================] - 0s 74ms/step\n",
      "1/1 [==============================] - 0s 76ms/step\n",
      "1/1 [==============================] - 0s 74ms/step\n",
      "1/1 [==============================] - 0s 73ms/step\n",
      "1/1 [==============================] - 0s 72ms/step\n",
      "1/1 [==============================] - 0s 75ms/step\n",
      "1/1 [==============================] - 0s 75ms/step\n",
      "1/1 [==============================] - 0s 77ms/step\n",
      "1/1 [==============================] - 0s 74ms/step\n",
      "1/1 [==============================] - 0s 73ms/step\n",
      "1/1 [==============================] - 0s 76ms/step\n",
      "1/1 [==============================] - 0s 78ms/step\n",
      "1/1 [==============================] - 0s 73ms/step\n",
      "1/1 [==============================] - 0s 75ms/step\n",
      "1/1 [==============================] - 0s 75ms/step\n",
      "1/1 [==============================] - 0s 75ms/step\n",
      "1/1 [==============================] - 0s 76ms/step\n",
      "1/1 [==============================] - 0s 75ms/step\n",
      "1/1 [==============================] - 0s 75ms/step\n",
      "1/1 [==============================] - 0s 74ms/step\n",
      "1/1 [==============================] - 0s 77ms/step\n",
      "1/1 [==============================] - 0s 75ms/step\n",
      "1/1 [==============================] - 0s 74ms/step\n",
      "1/1 [==============================] - 0s 82ms/step\n",
      "1/1 [==============================] - 0s 75ms/step\n",
      "1/1 [==============================] - 0s 75ms/step\n",
      "1/1 [==============================] - 0s 75ms/step\n",
      "1/1 [==============================] - 0s 74ms/step\n",
      "1/1 [==============================] - 0s 76ms/step\n",
      "1/1 [==============================] - 0s 77ms/step\n",
      "1/1 [==============================] - 0s 73ms/step\n",
      "1/1 [==============================] - 0s 73ms/step\n",
      "1/1 [==============================] - 0s 75ms/step\n",
      "1/1 [==============================] - 0s 75ms/step\n",
      "1/1 [==============================] - 0s 75ms/step\n",
      "1/1 [==============================] - 0s 74ms/step\n",
      "1/1 [==============================] - 0s 74ms/step\n",
      "1/1 [==============================] - 0s 73ms/step\n",
      "1/1 [==============================] - 0s 77ms/step\n",
      "1/1 [==============================] - 0s 74ms/step\n",
      "1/1 [==============================] - 0s 96ms/step\n",
      "1/1 [==============================] - 0s 74ms/step\n",
      "1/1 [==============================] - 0s 74ms/step\n",
      "1/1 [==============================] - 0s 74ms/step\n",
      "1/1 [==============================] - 0s 75ms/step\n",
      "1/1 [==============================] - 0s 74ms/step\n",
      "1/1 [==============================] - 0s 74ms/step\n",
      "1/1 [==============================] - 0s 76ms/step\n",
      "1/1 [==============================] - 0s 76ms/step\n",
      "1/1 [==============================] - 0s 72ms/step\n",
      "1/1 [==============================] - 0s 75ms/step\n",
      "1/1 [==============================] - 0s 73ms/step\n"
     ]
    }
   ],
   "source": [
    "limits = {'0-4':(1,4), '5-12':(4,14), '13-22':(14,19)}\n",
    "\n",
    "for (test, sample_submission) in iter_test:\n",
    "    test_df = feature_engineer(test)\n",
    "    grp = test_df.level_group.values[0]\n",
    "    a,b = limits[grp]\n",
    "    for t in range(a,b):\n",
    "        gbtm = models[f'{grp}_{t}']\n",
    "        test_ds = tfdf.keras.pd_dataframe_to_tf_dataset(test_df.loc[:, test_df.columns != 'level_group'])\n",
    "        predictions = gbtm.predict(test_ds)\n",
    "        mask = sample_submission.session_id.str.contains(f'q{t}')\n",
    "        n_predictions = (predictions > best_threshold).astype(int)\n",
    "        sample_submission.loc[mask,'correct'] = n_predictions.flatten()\n",
    "    \n",
    "    env.predict(sample_submission)"
   ]
  },
  {
   "cell_type": "code",
   "execution_count": 60,
   "id": "a28ec592",
   "metadata": {
    "execution": {
     "iopub.execute_input": "2023-06-06T18:54:30.254758Z",
     "iopub.status.busy": "2023-06-06T18:54:30.253966Z",
     "iopub.status.idle": "2023-06-06T18:54:31.430342Z",
     "shell.execute_reply": "2023-06-06T18:54:31.428610Z"
    },
    "papermill": {
     "duration": 1.243499,
     "end_time": "2023-06-06T18:54:31.433348",
     "exception": false,
     "start_time": "2023-06-06T18:54:30.189849",
     "status": "completed"
    },
    "tags": []
   },
   "outputs": [
    {
     "name": "stdout",
     "output_type": "stream",
     "text": [
      "session_id,correct\r\n",
      "20090109393214576_q1,1\r\n",
      "20090109393214576_q2,1\r\n",
      "20090109393214576_q3,1\r\n",
      "20090109393214576_q4,1\r\n",
      "20090109393214576_q5,1\r\n",
      "20090109393214576_q6,1\r\n",
      "20090109393214576_q7,1\r\n",
      "20090109393214576_q8,0\r\n",
      "20090109393214576_q9,1\r\n"
     ]
    }
   ],
   "source": [
    "! head submission.csv"
   ]
  },
  {
   "cell_type": "code",
   "execution_count": null,
   "id": "50e55ff0",
   "metadata": {
    "papermill": {
     "duration": 0.062707,
     "end_time": "2023-06-06T18:54:31.558602",
     "exception": false,
     "start_time": "2023-06-06T18:54:31.495895",
     "status": "completed"
    },
    "tags": []
   },
   "outputs": [],
   "source": []
  }
 ],
 "metadata": {
  "kernelspec": {
   "display_name": "Python 3",
   "language": "python",
   "name": "python3"
  },
  "language_info": {
   "codemirror_mode": {
    "name": "ipython",
    "version": 3
   },
   "file_extension": ".py",
   "mimetype": "text/x-python",
   "name": "python",
   "nbconvert_exporter": "python",
   "pygments_lexer": "ipython3",
   "version": "3.7.12"
  },
  "papermill": {
   "default_parameters": {},
   "duration": 299.753008,
   "end_time": "2023-06-06T18:54:34.346588",
   "environment_variables": {},
   "exception": null,
   "input_path": "__notebook__.ipynb",
   "output_path": "__notebook__.ipynb",
   "parameters": {},
   "start_time": "2023-06-06T18:49:34.593580",
   "version": "2.4.0"
  }
 },
 "nbformat": 4,
 "nbformat_minor": 5
}
